{
 "cells": [
  {
   "cell_type": "code",
   "execution_count": null,
   "id": "6846282d-a315-498d-9bd7-3a994e03cc0f",
   "metadata": {},
   "outputs": [],
   "source": [
    "#[7, 5, 1, 8, 3, 6, 0, 9, 4, 2] dizisinin Binary-Search-Tree aşamalarını yazınız. Örnek: root x'dir. root'un sağından y bulunur. Solunda z bulunur vb.\n",
    "\n",
    "\n",
    "\n",
    "Root 7'dir.\n",
    "\n",
    "7'nin solunda 5 bulunur.\n",
    "\n",
    "5'in solunda 1, sağında 6 bulunur.\n",
    "\n",
    "1'in solunda 0, sağında 3 bulunur.\n",
    "\n",
    "3'ün solunda 2, sağında 4 bulunur.\n",
    "\n",
    "7'nin sağında 8, 8'in sağında 9 bulunur."
   ]
  }
 ],
 "metadata": {
  "kernelspec": {
   "display_name": "Python 3 (ipykernel)",
   "language": "python",
   "name": "python3"
  },
  "language_info": {
   "codemirror_mode": {
    "name": "ipython",
    "version": 3
   },
   "file_extension": ".py",
   "mimetype": "text/x-python",
   "name": "python",
   "nbconvert_exporter": "python",
   "pygments_lexer": "ipython3",
   "version": "3.12.4"
  }
 },
 "nbformat": 4,
 "nbformat_minor": 5
}
