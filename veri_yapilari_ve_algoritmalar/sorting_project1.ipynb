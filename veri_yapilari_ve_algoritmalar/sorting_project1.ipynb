{
 "cells": [
  {
   "cell_type": "code",
   "execution_count": null,
   "id": "b3252a70-58a0-4178-b566-b9a4f307c944",
   "metadata": {},
   "outputs": [],
   "source": [
    "'''\n",
    "[22,27,16,2,18,6] -> selection sort \n",
    "\n",
    "1) Yukarıda verilen dizinin sort türüne göre aşamalarını yazınız.\n",
    "\n",
    "2) Big-O gösterimini yazınız.\n",
    "\n",
    "3) Time Complexity: Dizi sıralandıktan sonra 18 sayısı aşağıdaki case'lerden hangisinin kapsamına girer? Yazınız\n",
    "Average case: Aradığımız sayının ortada olması\n",
    "Worst case: Aradığımız sayının sonda olması\n",
    "Best case: Aradığımız sayının dizinin en başında olması. \n",
    "'''"
   ]
  },
  {
   "cell_type": "code",
   "execution_count": null,
   "id": "60239650-f3fb-4fdd-bd0e-60a249309192",
   "metadata": {},
   "outputs": [],
   "source": [
    "[22,27,16,2,18,6]\n",
    "\n",
    "# 1) Yukarıda verilen dizinin sort türüne göre aşamalarını yazınız. \n",
    "\n",
    "\n",
    "1. aşama: 22 sayısı dizideki en küçük elemanı (2)  bulur ve yer değiştirirler ...> [2, 27, 16, 22, 18, 6]\n",
    "\n",
    "2. aşama: 27 sayısı dizideki sıralanmamış en küçük elemanı (6)  bulur ve yer değiştirirler ...> [2, 6, 16, 22, 18, 27]\n",
    "\n",
    "3. aşama: 16 sayısı dizideki sıralanmamış en küçük elemanı (16) bulur ve değişim olmaz ...>  [2, 6, 16, 22, 18, 27]\n",
    "\n",
    "4. aşama: 22 sayısı dizideki sıralanmamış en küçük elemanı (18) bulur ve yer değiştirirler ...> [2, 6, 16, 18, 22, 27]\n",
    "\n",
    "5. aşama: 22 sayısı dizideki sıralanmamış en küçük elemanı (22) bulur ve değişim olmaz. Bu aşamada sıralama işlemi biter  ...>  [2, 6, 16, 18, 22, 27]\n",
    "       "
   ]
  },
  {
   "cell_type": "code",
   "execution_count": null,
   "id": "6b5c7ceb-cda1-4b5a-9a6e-0ac44a91b571",
   "metadata": {},
   "outputs": [],
   "source": [
    "#2) Big-O gösterimini yazınız.\n",
    "\n",
    "O(n^2)"
   ]
  },
  {
   "cell_type": "code",
   "execution_count": null,
   "id": "683428a9-a6cd-4480-a470-c2077d1fcff1",
   "metadata": {},
   "outputs": [],
   "source": [
    "#3) Time Complexity: Dizi sıralandıktan sonra 18 sayısı aşağıdaki case'lerden hangisinin kapsamına girer?\n",
    "\n",
    "18 sayısı Average case kapsamına girer. Çünkü dizi sıralandıktan sonra 18 sayısı ortada bulunuyor."
   ]
  },
  {
   "cell_type": "code",
   "execution_count": null,
   "id": "847cb672-e18d-4d87-8f50-956b04a40a01",
   "metadata": {},
   "outputs": [],
   "source": [
    "#[7,3,5,8,2,9,4,15,6] dizisinin Selection Sort'a göre ilk 4 adımını yazınız.\n",
    "\n",
    "1. adım: 7 ile 2 yer değişir.  [2, 3, 5, 8, 7, 9, 4, 15, 6]\n",
    " \n",
    "2. adım: 3 en küçük ve doğru yerde olduğu için değişiklik olmaz. [2, 3, 5, 8, 7, 9, 4, 15, 6]\n",
    "\n",
    "3. adım: 5 ile 4 yer değiştirir. [2, 3, 4, 8, 7, 9, 5, 15, 6]\n",
    "\n",
    "4. adım: 8 ile 5 yer değiştirir. [2, 3, 4, 5, 7, 9, 8, 15, 6]\n",
    "\n",
    "----------- Diğer Adımlar--------\n",
    "\n",
    "5. adım: 7 ile 6 yer değiştirir. [2, 3, 4, 5, 6, 9, 8, 15, 7]\n",
    "\n",
    "6. adım: 9 ile 7 yer değiştirir. [2, 3, 4, 5, 6, 7, 8, 15, 9]\n",
    "\n",
    "7. adım: 8 en küçük ve doğru yerde olduğu için değişiklik olmaz.[2, 3, 4, 5, 6, 7, 8, 15, 9]\n",
    "\n",
    "8. adım: 15 ile 9 yer değiştirir ve sıralama işlemi biter.  [2, 3, 4, 5, 6, 7, 8, 9, 15]\n"
   ]
  }
 ],
 "metadata": {
  "kernelspec": {
   "display_name": "Python 3 (ipykernel)",
   "language": "python",
   "name": "python3"
  },
  "language_info": {
   "codemirror_mode": {
    "name": "ipython",
    "version": 3
   },
   "file_extension": ".py",
   "mimetype": "text/x-python",
   "name": "python",
   "nbconvert_exporter": "python",
   "pygments_lexer": "ipython3",
   "version": "3.12.4"
  }
 },
 "nbformat": 4,
 "nbformat_minor": 5
}
