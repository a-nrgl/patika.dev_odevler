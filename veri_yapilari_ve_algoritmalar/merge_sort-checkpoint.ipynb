{
 "cells": [
  {
   "cell_type": "code",
   "execution_count": null,
   "id": "1f86ca78-f2da-4b56-8e24-7f3d46c24ae6",
   "metadata": {},
   "outputs": [],
   "source": [
    "[16,21,11,8,12,22] -> Merge Sort\n",
    "\n",
    "1) Yukarıdaki dizinin sort türüne göre aşamalarını yazınız.\n",
    "2) Big-O gösterimini yazınız."
   ]
  },
  {
   "cell_type": "code",
   "execution_count": null,
   "id": "4ba2da5c-7eb7-490f-abfa-36f7c09c5537",
   "metadata": {},
   "outputs": [],
   "source": [
    "[16,21,11,8,12,22]\n",
    "\n",
    "1) Yukarıdaki dizinin sort türüne göre aşamalarını yazınız.\n",
    "\n",
    "    1- [16,21,11]   [8,12,22]\n",
    "    \n",
    "    2- [16] [21,11]   [8,12] [22]\n",
    "\n",
    "    3- [16] [21] [11] [8] [12] [22]\n",
    "\n",
    "    4- [16] [11,21]    [8,12]  [22]\n",
    "\n",
    "    5- [11,16,21]    [8,12,22]\n",
    "\n",
    "    6- [8,11,12,16,21,22]"
   ]
  },
  {
   "cell_type": "code",
   "execution_count": null,
   "id": "bfcbf859-f147-45d0-975e-e402b4d5b198",
   "metadata": {},
   "outputs": [],
   "source": [
    "2)Big-O gösterimini yazınız.\n",
    "\n",
    "O(nlogn)"
   ]
  }
 ],
 "metadata": {
  "kernelspec": {
   "display_name": "Python 3 (ipykernel)",
   "language": "python",
   "name": "python3"
  },
  "language_info": {
   "codemirror_mode": {
    "name": "ipython",
    "version": 3
   },
   "file_extension": ".py",
   "mimetype": "text/x-python",
   "name": "python",
   "nbconvert_exporter": "python",
   "pygments_lexer": "ipython3",
   "version": "3.12.4"
  }
 },
 "nbformat": 4,
 "nbformat_minor": 5
}
