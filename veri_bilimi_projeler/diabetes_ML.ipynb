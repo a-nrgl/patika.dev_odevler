{
 "cells": [
  {
   "cell_type": "code",
   "execution_count": 70,
   "id": "5b96d7fd-9da0-4a04-8a03-909087214324",
   "metadata": {},
   "outputs": [],
   "source": [
    "import numpy as np\n",
    "import pandas as pd\n",
    "import matplotlib.pyplot as plt\n",
    "import seaborn as sns\n",
    "import lightgbm as lgb\n",
    "from sklearn.metrics import accuracy_score, precision_score, recall_score, f1_score,roc_auc_score\n",
    "from sklearn.model_selection import GridSearchCV, cross_validate\n",
    "from sklearn.model_selection import train_test_split\n",
    "from sklearn.preprocessing import LabelEncoder\n",
    "from sklearn.ensemble import RandomForestClassifier\n",
    "from sklearn.preprocessing import StandardScaler\n",
    "from sklearn.linear_model import LogisticRegression\n",
    "from sklearn.metrics import classification_report\n",
    "from sklearn.neighbors import KNeighborsClassifier\n"
   ]
  },
  {
   "cell_type": "code",
   "execution_count": 72,
   "id": "d6f7eafc-fe5d-401b-8b21-34981f280c78",
   "metadata": {},
   "outputs": [],
   "source": [
    "import warnings\n",
    "warnings.simplefilter(action=\"ignore\")\n",
    "\n",
    "pd.set_option('display.max_columns', None)\n",
    "pd.set_option('display.width', None)\n",
    "pd.set_option('display.max_rows', 20)\n",
    "pd.set_option('display.float_format', lambda x: '%.3f' % x)"
   ]
  },
  {
   "cell_type": "code",
   "execution_count": 74,
   "id": "587e22d2-05e5-4bf4-8750-f437272d3501",
   "metadata": {},
   "outputs": [
    {
     "data": {
      "text/html": [
       "<div>\n",
       "<style scoped>\n",
       "    .dataframe tbody tr th:only-of-type {\n",
       "        vertical-align: middle;\n",
       "    }\n",
       "\n",
       "    .dataframe tbody tr th {\n",
       "        vertical-align: top;\n",
       "    }\n",
       "\n",
       "    .dataframe thead th {\n",
       "        text-align: right;\n",
       "    }\n",
       "</style>\n",
       "<table border=\"1\" class=\"dataframe\">\n",
       "  <thead>\n",
       "    <tr style=\"text-align: right;\">\n",
       "      <th></th>\n",
       "      <th>Pregnancies</th>\n",
       "      <th>Glucose</th>\n",
       "      <th>BloodPressure</th>\n",
       "      <th>SkinThickness</th>\n",
       "      <th>Insulin</th>\n",
       "      <th>BMI</th>\n",
       "      <th>DiabetesPedigreeFunction</th>\n",
       "      <th>Age</th>\n",
       "      <th>Outcome</th>\n",
       "    </tr>\n",
       "  </thead>\n",
       "  <tbody>\n",
       "    <tr>\n",
       "      <th>0</th>\n",
       "      <td>6</td>\n",
       "      <td>148</td>\n",
       "      <td>72</td>\n",
       "      <td>35</td>\n",
       "      <td>0</td>\n",
       "      <td>33.600</td>\n",
       "      <td>0.627</td>\n",
       "      <td>50</td>\n",
       "      <td>1</td>\n",
       "    </tr>\n",
       "    <tr>\n",
       "      <th>1</th>\n",
       "      <td>1</td>\n",
       "      <td>85</td>\n",
       "      <td>66</td>\n",
       "      <td>29</td>\n",
       "      <td>0</td>\n",
       "      <td>26.600</td>\n",
       "      <td>0.351</td>\n",
       "      <td>31</td>\n",
       "      <td>0</td>\n",
       "    </tr>\n",
       "    <tr>\n",
       "      <th>2</th>\n",
       "      <td>8</td>\n",
       "      <td>183</td>\n",
       "      <td>64</td>\n",
       "      <td>0</td>\n",
       "      <td>0</td>\n",
       "      <td>23.300</td>\n",
       "      <td>0.672</td>\n",
       "      <td>32</td>\n",
       "      <td>1</td>\n",
       "    </tr>\n",
       "    <tr>\n",
       "      <th>3</th>\n",
       "      <td>1</td>\n",
       "      <td>89</td>\n",
       "      <td>66</td>\n",
       "      <td>23</td>\n",
       "      <td>94</td>\n",
       "      <td>28.100</td>\n",
       "      <td>0.167</td>\n",
       "      <td>21</td>\n",
       "      <td>0</td>\n",
       "    </tr>\n",
       "    <tr>\n",
       "      <th>4</th>\n",
       "      <td>0</td>\n",
       "      <td>137</td>\n",
       "      <td>40</td>\n",
       "      <td>35</td>\n",
       "      <td>168</td>\n",
       "      <td>43.100</td>\n",
       "      <td>2.288</td>\n",
       "      <td>33</td>\n",
       "      <td>1</td>\n",
       "    </tr>\n",
       "    <tr>\n",
       "      <th>...</th>\n",
       "      <td>...</td>\n",
       "      <td>...</td>\n",
       "      <td>...</td>\n",
       "      <td>...</td>\n",
       "      <td>...</td>\n",
       "      <td>...</td>\n",
       "      <td>...</td>\n",
       "      <td>...</td>\n",
       "      <td>...</td>\n",
       "    </tr>\n",
       "    <tr>\n",
       "      <th>763</th>\n",
       "      <td>10</td>\n",
       "      <td>101</td>\n",
       "      <td>76</td>\n",
       "      <td>48</td>\n",
       "      <td>180</td>\n",
       "      <td>32.900</td>\n",
       "      <td>0.171</td>\n",
       "      <td>63</td>\n",
       "      <td>0</td>\n",
       "    </tr>\n",
       "    <tr>\n",
       "      <th>764</th>\n",
       "      <td>2</td>\n",
       "      <td>122</td>\n",
       "      <td>70</td>\n",
       "      <td>27</td>\n",
       "      <td>0</td>\n",
       "      <td>36.800</td>\n",
       "      <td>0.340</td>\n",
       "      <td>27</td>\n",
       "      <td>0</td>\n",
       "    </tr>\n",
       "    <tr>\n",
       "      <th>765</th>\n",
       "      <td>5</td>\n",
       "      <td>121</td>\n",
       "      <td>72</td>\n",
       "      <td>23</td>\n",
       "      <td>112</td>\n",
       "      <td>26.200</td>\n",
       "      <td>0.245</td>\n",
       "      <td>30</td>\n",
       "      <td>0</td>\n",
       "    </tr>\n",
       "    <tr>\n",
       "      <th>766</th>\n",
       "      <td>1</td>\n",
       "      <td>126</td>\n",
       "      <td>60</td>\n",
       "      <td>0</td>\n",
       "      <td>0</td>\n",
       "      <td>30.100</td>\n",
       "      <td>0.349</td>\n",
       "      <td>47</td>\n",
       "      <td>1</td>\n",
       "    </tr>\n",
       "    <tr>\n",
       "      <th>767</th>\n",
       "      <td>1</td>\n",
       "      <td>93</td>\n",
       "      <td>70</td>\n",
       "      <td>31</td>\n",
       "      <td>0</td>\n",
       "      <td>30.400</td>\n",
       "      <td>0.315</td>\n",
       "      <td>23</td>\n",
       "      <td>0</td>\n",
       "    </tr>\n",
       "  </tbody>\n",
       "</table>\n",
       "<p>768 rows × 9 columns</p>\n",
       "</div>"
      ],
      "text/plain": [
       "     Pregnancies  Glucose  BloodPressure  SkinThickness  Insulin    BMI  \\\n",
       "0              6      148             72             35        0 33.600   \n",
       "1              1       85             66             29        0 26.600   \n",
       "2              8      183             64              0        0 23.300   \n",
       "3              1       89             66             23       94 28.100   \n",
       "4              0      137             40             35      168 43.100   \n",
       "..           ...      ...            ...            ...      ...    ...   \n",
       "763           10      101             76             48      180 32.900   \n",
       "764            2      122             70             27        0 36.800   \n",
       "765            5      121             72             23      112 26.200   \n",
       "766            1      126             60              0        0 30.100   \n",
       "767            1       93             70             31        0 30.400   \n",
       "\n",
       "     DiabetesPedigreeFunction  Age  Outcome  \n",
       "0                       0.627   50        1  \n",
       "1                       0.351   31        0  \n",
       "2                       0.672   32        1  \n",
       "3                       0.167   21        0  \n",
       "4                       2.288   33        1  \n",
       "..                        ...  ...      ...  \n",
       "763                     0.171   63        0  \n",
       "764                     0.340   27        0  \n",
       "765                     0.245   30        0  \n",
       "766                     0.349   47        1  \n",
       "767                     0.315   23        0  \n",
       "\n",
       "[768 rows x 9 columns]"
      ]
     },
     "execution_count": 74,
     "metadata": {},
     "output_type": "execute_result"
    }
   ],
   "source": [
    "path= r'C:\\Users\\Lenovo\\Desktop\\diabetes.csv'\n",
    "df= pd.read_csv(path)\n",
    "df\n"
   ]
  },
  {
   "cell_type": "markdown",
   "id": "d18c29c6-1d51-4d35-96d5-0d287c825e62",
   "metadata": {},
   "source": [
    "### Veri setini tanıma"
   ]
  },
  {
   "cell_type": "code",
   "execution_count": 26,
   "id": "cee35075-0922-4620-baa0-3af908674a35",
   "metadata": {},
   "outputs": [
    {
     "name": "stdout",
     "output_type": "stream",
     "text": [
      "<class 'pandas.core.frame.DataFrame'>\n",
      "RangeIndex: 768 entries, 0 to 767\n",
      "Data columns (total 9 columns):\n",
      " #   Column                    Non-Null Count  Dtype  \n",
      "---  ------                    --------------  -----  \n",
      " 0   Pregnancies               768 non-null    int64  \n",
      " 1   Glucose                   768 non-null    int64  \n",
      " 2   BloodPressure             768 non-null    int64  \n",
      " 3   SkinThickness             768 non-null    int64  \n",
      " 4   Insulin                   768 non-null    int64  \n",
      " 5   BMI                       768 non-null    float64\n",
      " 6   DiabetesPedigreeFunction  768 non-null    float64\n",
      " 7   Age                       768 non-null    int64  \n",
      " 8   Outcome                   768 non-null    int64  \n",
      "dtypes: float64(2), int64(7)\n",
      "memory usage: 54.1 KB\n"
     ]
    }
   ],
   "source": [
    "df.info()"
   ]
  },
  {
   "cell_type": "markdown",
   "id": "1965c3e3-5ad4-45b4-9dcd-06e1be98a0d2",
   "metadata": {},
   "source": [
    "### Değişkenler\n",
    "\n",
    "* Pregnancies: Hamilelik sayısı\n",
    "* Glucose: Glikoz\n",
    "* BloodPressure: Kan basıncı\n",
    "* SkinThickness: Cilt Kalınlığı\n",
    "* Insulin: İnsülin\n",
    "* BMI: Beden kitle indeksi\n",
    "* DiabetesPedigreeFunction: Soyumuzdaki kişilere göre diyabet olma ihtimalimizi hesaplayan bir fonksiyon\n",
    "* Age: Yaş \n",
    "* Outcome: Kişinin diyabet olup olmadığı bilgisi. Hastalığa sahip (1) ya da değil (0)"
   ]
  },
  {
   "cell_type": "code",
   "execution_count": 30,
   "id": "fd826675-d141-48bf-ac9b-9777c5a94c9b",
   "metadata": {},
   "outputs": [
    {
     "data": {
      "image/png": "[encoded data removed]",
      "text/plain": [
       "<Figure size 500x400 with 1 Axes>"
      ]
     },
     "metadata": {},
     "output_type": "display_data"
    }
   ],
   "source": [
    "#Diabet olma durumlarına göre kişi sayısı\n",
    "\n",
    "df[\"Outcome\"] = df[\"Outcome\"].astype(str)   #hata almamak için str yapıldı\n",
    "\n",
    "\n",
    "plt.figure(figsize=(5, 4))\n",
    "sns.countplot(x=\"Outcome\", data=df, width=0.5, palette={\"0\": \"#77B254\", \"1\": \"#FFCF50\"})\n",
    "plt.xlabel(\"Diabetes (1=Diabetic, 0=Healthy)\")\n",
    "plt.ylabel(\"Count\")\n",
    "plt.title(\"Count by Diabetes Status\")\n",
    "plt.show()"
   ]
  },
  {
   "cell_type": "code",
   "execution_count": 32,
   "id": "8c18a77a-b464-4e3f-b143-e05d9d872b64",
   "metadata": {},
   "outputs": [
    {
     "data": {
      "image/png": "[encoded data removed]",
      "text/plain": [
       "<Figure size 500x400 with 1 Axes>"
      ]
     },
     "metadata": {},
     "output_type": "display_data"
    }
   ],
   "source": [
    "#oranları\n",
    "labels = [\"Healthy\", \"Diabetic\"]\n",
    "sizes = df[\"Outcome\"].value_counts(normalize=True).sort_index() * 100  \n",
    "colors = [\"#77B254\", \"#FFCF50\"]\n",
    "\n",
    "plt.figure(figsize=(5, 4))\n",
    "plt.pie(sizes, labels=labels, autopct=\"%.1f%%\", colors=colors, startangle=90, explode=(0, 0.02))\n",
    "plt.title(\"Percentage by Diabetes Status\")\n",
    "plt.axis(\"equal\")\n",
    "plt.show()"
   ]
  },
  {
   "cell_type": "code",
   "execution_count": 34,
   "id": "d821ddf5-558b-4cc4-af27-98a823d53e48",
   "metadata": {},
   "outputs": [],
   "source": [
    "df[\"Outcome\"] = df[\"Outcome\"].astype(int) # hedef değişken orijinal dtype (int) yapıldı"
   ]
  },
  {
   "cell_type": "code",
   "execution_count": 36,
   "id": "c21a12a3-01ec-4981-b243-08d2e55a1f89",
   "metadata": {},
   "outputs": [
    {
     "data": {
      "text/html": [
       "<div>\n",
       "<style scoped>\n",
       "    .dataframe tbody tr th:only-of-type {\n",
       "        vertical-align: middle;\n",
       "    }\n",
       "\n",
       "    .dataframe tbody tr th {\n",
       "        vertical-align: top;\n",
       "    }\n",
       "\n",
       "    .dataframe thead th {\n",
       "        text-align: right;\n",
       "    }\n",
       "</style>\n",
       "<table border=\"1\" class=\"dataframe\">\n",
       "  <thead>\n",
       "    <tr style=\"text-align: right;\">\n",
       "      <th></th>\n",
       "      <th>count</th>\n",
       "      <th>mean</th>\n",
       "      <th>std</th>\n",
       "      <th>min</th>\n",
       "      <th>25%</th>\n",
       "      <th>50%</th>\n",
       "      <th>75%</th>\n",
       "      <th>max</th>\n",
       "    </tr>\n",
       "  </thead>\n",
       "  <tbody>\n",
       "    <tr>\n",
       "      <th>Pregnancies</th>\n",
       "      <td>768.000</td>\n",
       "      <td>3.845</td>\n",
       "      <td>3.370</td>\n",
       "      <td>0.000</td>\n",
       "      <td>1.000</td>\n",
       "      <td>3.000</td>\n",
       "      <td>6.000</td>\n",
       "      <td>17.000</td>\n",
       "    </tr>\n",
       "    <tr>\n",
       "      <th>Glucose</th>\n",
       "      <td>768.000</td>\n",
       "      <td>120.895</td>\n",
       "      <td>31.973</td>\n",
       "      <td>0.000</td>\n",
       "      <td>99.000</td>\n",
       "      <td>117.000</td>\n",
       "      <td>140.250</td>\n",
       "      <td>199.000</td>\n",
       "    </tr>\n",
       "    <tr>\n",
       "      <th>BloodPressure</th>\n",
       "      <td>768.000</td>\n",
       "      <td>69.105</td>\n",
       "      <td>19.356</td>\n",
       "      <td>0.000</td>\n",
       "      <td>62.000</td>\n",
       "      <td>72.000</td>\n",
       "      <td>80.000</td>\n",
       "      <td>122.000</td>\n",
       "    </tr>\n",
       "    <tr>\n",
       "      <th>SkinThickness</th>\n",
       "      <td>768.000</td>\n",
       "      <td>20.536</td>\n",
       "      <td>15.952</td>\n",
       "      <td>0.000</td>\n",
       "      <td>0.000</td>\n",
       "      <td>23.000</td>\n",
       "      <td>32.000</td>\n",
       "      <td>99.000</td>\n",
       "    </tr>\n",
       "    <tr>\n",
       "      <th>Insulin</th>\n",
       "      <td>768.000</td>\n",
       "      <td>79.799</td>\n",
       "      <td>115.244</td>\n",
       "      <td>0.000</td>\n",
       "      <td>0.000</td>\n",
       "      <td>30.500</td>\n",
       "      <td>127.250</td>\n",
       "      <td>846.000</td>\n",
       "    </tr>\n",
       "    <tr>\n",
       "      <th>BMI</th>\n",
       "      <td>768.000</td>\n",
       "      <td>31.993</td>\n",
       "      <td>7.884</td>\n",
       "      <td>0.000</td>\n",
       "      <td>27.300</td>\n",
       "      <td>32.000</td>\n",
       "      <td>36.600</td>\n",
       "      <td>67.100</td>\n",
       "    </tr>\n",
       "    <tr>\n",
       "      <th>DiabetesPedigreeFunction</th>\n",
       "      <td>768.000</td>\n",
       "      <td>0.472</td>\n",
       "      <td>0.331</td>\n",
       "      <td>0.078</td>\n",
       "      <td>0.244</td>\n",
       "      <td>0.372</td>\n",
       "      <td>0.626</td>\n",
       "      <td>2.420</td>\n",
       "    </tr>\n",
       "    <tr>\n",
       "      <th>Age</th>\n",
       "      <td>768.000</td>\n",
       "      <td>33.241</td>\n",
       "      <td>11.760</td>\n",
       "      <td>21.000</td>\n",
       "      <td>24.000</td>\n",
       "      <td>29.000</td>\n",
       "      <td>41.000</td>\n",
       "      <td>81.000</td>\n",
       "    </tr>\n",
       "    <tr>\n",
       "      <th>Outcome</th>\n",
       "      <td>768.000</td>\n",
       "      <td>0.349</td>\n",
       "      <td>0.477</td>\n",
       "      <td>0.000</td>\n",
       "      <td>0.000</td>\n",
       "      <td>0.000</td>\n",
       "      <td>1.000</td>\n",
       "      <td>1.000</td>\n",
       "    </tr>\n",
       "  </tbody>\n",
       "</table>\n",
       "</div>"
      ],
      "text/plain": [
       "                           count    mean     std    min    25%     50%  \\\n",
       "Pregnancies              768.000   3.845   3.370  0.000  1.000   3.000   \n",
       "Glucose                  768.000 120.895  31.973  0.000 99.000 117.000   \n",
       "BloodPressure            768.000  69.105  19.356  0.000 62.000  72.000   \n",
       "SkinThickness            768.000  20.536  15.952  0.000  0.000  23.000   \n",
       "Insulin                  768.000  79.799 115.244  0.000  0.000  30.500   \n",
       "BMI                      768.000  31.993   7.884  0.000 27.300  32.000   \n",
       "DiabetesPedigreeFunction 768.000   0.472   0.331  0.078  0.244   0.372   \n",
       "Age                      768.000  33.241  11.760 21.000 24.000  29.000   \n",
       "Outcome                  768.000   0.349   0.477  0.000  0.000   0.000   \n",
       "\n",
       "                             75%     max  \n",
       "Pregnancies                6.000  17.000  \n",
       "Glucose                  140.250 199.000  \n",
       "BloodPressure             80.000 122.000  \n",
       "SkinThickness             32.000  99.000  \n",
       "Insulin                  127.250 846.000  \n",
       "BMI                       36.600  67.100  \n",
       "DiabetesPedigreeFunction   0.626   2.420  \n",
       "Age                       41.000  81.000  \n",
       "Outcome                    1.000   1.000  "
      ]
     },
     "execution_count": 36,
     "metadata": {},
     "output_type": "execute_result"
    }
   ],
   "source": [
    "df.describe().T"
   ]
  },
  {
   "cell_type": "markdown",
   "id": "d83d0282-a278-4889-8dbe-1e81b9ff2360",
   "metadata": {},
   "source": [
    "Bir insanda Pregnancies ve Outcome dışındaki değerlerin 0 olamayacağı bilinmektedir. Eksik değerlere 0 yazılmış olabilir. Bu nedenle, 0 olan değerler eksik veri olarak değerlendirildi. "
   ]
  },
  {
   "cell_type": "code",
   "execution_count": 76,
   "id": "c0c800b4-3385-40ac-b6dc-010ffcc7a4f4",
   "metadata": {},
   "outputs": [],
   "source": [
    "zero_columns = [col for col in df.columns if (df[col].min() == 0 and col not in [\"Pregnancies\", \"Outcome\"])]\n",
    "\n",
    "for col in zero_columns:\n",
    "    df[col] = np.where(df[col] == 0, np.nan, df[col])\n",
    "\n",
    "\n",
    "na_columns = [col for col in df.columns if df[col].isnull().any()]\n"
   ]
  },
  {
   "cell_type": "markdown",
   "id": "7214bcdf-6b96-4128-9653-55d8f8c16d75",
   "metadata": {},
   "source": [
    "### Eksik değerler"
   ]
  },
  {
   "cell_type": "code",
   "execution_count": 78,
   "id": "4083d378-b3a3-4638-9120-ad6c1a12d606",
   "metadata": {},
   "outputs": [
    {
     "data": {
      "text/plain": [
       "Pregnancies                   0\n",
       "Glucose                       5\n",
       "BloodPressure                35\n",
       "SkinThickness               227\n",
       "Insulin                     374\n",
       "BMI                          11\n",
       "DiabetesPedigreeFunction      0\n",
       "Age                           0\n",
       "Outcome                       0\n",
       "dtype: int64"
      ]
     },
     "execution_count": 78,
     "metadata": {},
     "output_type": "execute_result"
    }
   ],
   "source": [
    "df.isnull().sum()"
   ]
  },
  {
   "cell_type": "code",
   "execution_count": 66,
   "id": "2fca5b68-146f-4c16-889c-20e535451ee7",
   "metadata": {},
   "outputs": [
    {
     "name": "stdout",
     "output_type": "stream",
     "text": [
      "               n_miss  ratio\n",
      "Glucose             5  0.651\n",
      "BloodPressure      35  4.557\n",
      "SkinThickness     227 29.557\n",
      "Insulin           374 48.698\n",
      "BMI                11  1.432\n"
     ]
    }
   ],
   "source": [
    "#Eksik değer oranları\n",
    "n_miss = df.isnull().sum()\n",
    "ratio = (df.isnull().sum() / df.shape[0]) * 100\n",
    "missing_df = pd.concat([n_miss, ratio], axis=1, keys=[\"n_miss\", \"ratio\"])\n",
    "missing_df = missing_df[missing_df[\"n_miss\"] > 0]\n",
    "print(missing_df)"
   ]
  },
  {
   "cell_type": "code",
   "execution_count": 68,
   "id": "0232ee62-f049-4edd-b7fc-bbaf77ec8e33",
   "metadata": {},
   "outputs": [
    {
     "name": "stdout",
     "output_type": "stream",
     "text": [
      "                 TARGET_MEAN  Count\n",
      "Glucose_NA_FLAG                    \n",
      "0                      0.349    763\n",
      "1                      0.400      5\n",
      "\n",
      "\n",
      "\n",
      "                       TARGET_MEAN  Count\n",
      "BloodPressure_NA_FLAG                    \n",
      "0                            0.344    733\n",
      "1                            0.457     35\n",
      "\n",
      "\n",
      "\n",
      "                       TARGET_MEAN  Count\n",
      "SkinThickness_NA_FLAG                    \n",
      "0                            0.333    541\n",
      "1                            0.388    227\n",
      "\n",
      "\n",
      "\n",
      "                 TARGET_MEAN  Count\n",
      "Insulin_NA_FLAG                    \n",
      "0                      0.330    394\n",
      "1                      0.369    374\n",
      "\n",
      "\n",
      "\n",
      "             TARGET_MEAN  Count\n",
      "BMI_NA_FLAG                    \n",
      "0                  0.351    757\n",
      "1                  0.182     11\n",
      "\n",
      "\n",
      "\n"
     ]
    }
   ],
   "source": [
    "# Eksik Değerlerin Bağımlı Değişken ile İlişkisinin İncelenmesi\n",
    "\n",
    "temp_df = df.copy()\n",
    "\n",
    "#  Eksik değer olan sütunlara NA_FLAG eklendi\n",
    "for col in na_columns:\n",
    "    temp_df[col + '_NA_FLAG'] = np.where(temp_df[col].isnull(), 1, 0)\n",
    "\n",
    "na_flags = [col for col in temp_df.columns if \"_NA_FLAG\" in col]\n",
    "\n",
    "# Her bir flag sütununa göre Outcome ortalaması ve veri sayısı\n",
    "for col in na_flags:\n",
    "    result = pd.DataFrame({\n",
    "        \"TARGET_MEAN\": temp_df.groupby(col)[\"Outcome\"].mean(),\n",
    "        \"Count\": temp_df.groupby(col)[\"Outcome\"].count()\n",
    "    })\n",
    "    print(result)\n",
    "    print(\"\\n\\n\")\n"
   ]
  },
  {
   "cell_type": "markdown",
   "id": "00ffd573-9d4c-4224-bbed-36f90a3aa726",
   "metadata": {},
   "source": [
    "* Eksik değerler genelde diyabet riski ile ilişkili gözüküyor. Özellikle BloodPressure, SkinThickness ve Insulin değişkenlerinin, eksik olanlarda (1) diyabet oranı daha yüksek.\n",
    "\n",
    "* Eksik değerlerin rastgele dağılmadığı ve bağımlı değişken ile ilişkisi olduğu görülüyor. Bu nedenle, eksik değerleri silmek modelde yanlılık (bias) yaratabileceğinden doldurma yöntemleri tercih edilmiştir.\n"
   ]
  },
  {
   "cell_type": "code",
   "execution_count": 84,
   "id": "ae327a5a-71e8-419b-a083-dd57fdee82ad",
   "metadata": {},
   "outputs": [],
   "source": [
    "from sklearn.impute import KNNImputer\n",
    "\n",
    "\n",
    "imputer = KNNImputer(n_neighbors=5)\n",
    "\n",
    "knn_cols = [\"SkinThickness\", \"Insulin\"]\n",
    "\n",
    "\n",
    "subset_cols = [col for col in df.columns if col not in [\"Outcome\"]]\n",
    "df_knn = df[subset_cols].copy()\n",
    "\n",
    "# KNN ile doldurma\n",
    "df_knn_imputed = imputer.fit_transform(df_knn)\n",
    "\n",
    "# Sadece SkinThickness ve Insulin'i güncelle\n",
    "df[\"SkinThickness\"] = df_knn_imputed[:, df_knn.columns.get_loc(\"SkinThickness\")]\n",
    "df[\"Insulin\"] = df_knn_imputed[:, df_knn.columns.get_loc(\"Insulin\")]"
   ]
  },
  {
   "cell_type": "code",
   "execution_count": 86,
   "id": "07f8b7a1-d3be-4254-ae65-d0aedec18745",
   "metadata": {},
   "outputs": [
    {
     "name": "stdout",
     "output_type": "stream",
     "text": [
      "Pregnancies                  0\n",
      "Glucose                      5\n",
      "BloodPressure               35\n",
      "SkinThickness                0\n",
      "Insulin                      0\n",
      "BMI                         11\n",
      "DiabetesPedigreeFunction     0\n",
      "Age                          0\n",
      "dtype: int64\n"
     ]
    }
   ],
   "source": [
    "print(df_knn.isnull().sum())"
   ]
  },
  {
   "cell_type": "code",
   "execution_count": 88,
   "id": "095acd03-8a96-400a-9466-5e70a4b961d3",
   "metadata": {},
   "outputs": [],
   "source": [
    "# Diğer NAN değişkenler için doldurma \n",
    "median_columns = [\"Glucose\", \"BloodPressure\", \"BMI\"]\n",
    "df[median_columns] = df[median_columns].fillna(df[median_columns].median())\n"
   ]
  },
  {
   "cell_type": "code",
   "execution_count": 90,
   "id": "bd8dd352-b620-4fce-90d8-996b5e489992",
   "metadata": {},
   "outputs": [
    {
     "data": {
      "text/plain": [
       "Pregnancies                 0\n",
       "Glucose                     0\n",
       "BloodPressure               0\n",
       "SkinThickness               0\n",
       "Insulin                     0\n",
       "BMI                         0\n",
       "DiabetesPedigreeFunction    0\n",
       "Age                         0\n",
       "Outcome                     0\n",
       "dtype: int64"
      ]
     },
     "execution_count": 90,
     "metadata": {},
     "output_type": "execute_result"
    }
   ],
   "source": [
    "df.isnull().sum()"
   ]
  },
  {
   "cell_type": "markdown",
   "id": "2d0f0fa7-54d0-472f-8c24-e957cf8905dc",
   "metadata": {},
   "source": [
    "Eksik değerleri doldurma sürecinde, SkinThickness ve Insulin değişkenlerinde eksik veri oranı oldukça yüksek olduğu  için daha gerçekçi ve veri yapısına uygun tahminler elde etmek amacıyla KNN imputer yöntemi tercih edilmiştir. Diğer taraftan, Glucose, BloodPressure ve BMI değişkenlerinde eksik değer oranı oldukça düşüktü ve bu değişkenlerin dağılımı daha homojendi. Bu nedenle, bu değişkenlerde basit ve etkili bir yöntem olan medyan ile doldurma uygulanmıştır."
   ]
  },
  {
   "cell_type": "markdown",
   "id": "f544e1c6-90b7-44c0-9025-f03d6d16b46b",
   "metadata": {},
   "source": [
    "### Aykırı değer analizi"
   ]
  },
  {
   "cell_type": "code",
   "execution_count": 96,
   "id": "75940546-918e-495b-b22c-b1d367d764dc",
   "metadata": {},
   "outputs": [],
   "source": [
    "def outlier_thresholds(dataframe, col_name, q1=0.05, q3=0.95):  # uç değerler daha geniş aralıkta verildi\n",
    "    quartile1 = dataframe[col_name].quantile(q1)\n",
    "    quartile3 = dataframe[col_name].quantile(q3)\n",
    "    interquantile_range = quartile3 - quartile1\n",
    "    up_limit = quartile3 + 1.5 * interquantile_range\n",
    "    low_limit = quartile1 - 1.5 * interquantile_range\n",
    "    return low_limit, up_limit\n",
    "\n",
    "def check_outlier(dataframe, col_name):\n",
    "    low_limit, up_limit = outlier_thresholds(dataframe, col_name)\n",
    "    if dataframe[(dataframe[col_name] > up_limit) | (dataframe[col_name] < low_limit)].any(axis=None):\n",
    "        return True\n",
    "    else:\n",
    "        return False\n",
    "\n",
    "def replace_with_thresholds(dataframe, variable, q1=0.05, q3=0.95):\n",
    "    low_limit, up_limit = outlier_thresholds(dataframe, variable, q1=0.05, q3=0.95)\n",
    "    dataframe.loc[(dataframe[variable] < low_limit), variable] = low_limit\n",
    "    dataframe.loc[(dataframe[variable] > up_limit), variable] = up_limit"
   ]
  },
  {
   "cell_type": "code",
   "execution_count": 98,
   "id": "ba819f2f-a3c6-4222-804c-453a485e2685",
   "metadata": {},
   "outputs": [
    {
     "name": "stdout",
     "output_type": "stream",
     "text": [
      "Pregnancies False\n",
      "Glucose False\n",
      "BloodPressure False\n",
      "SkinThickness False\n",
      "Insulin False\n",
      "BMI False\n",
      "DiabetesPedigreeFunction False\n",
      "Age False\n",
      "Outcome False\n"
     ]
    }
   ],
   "source": [
    "for col in df.columns:\n",
    "    print(col, check_outlier(df, col))\n",
    "    if check_outlier(df, col):\n",
    "        replace_with_thresholds(df, col)"
   ]
  },
  {
   "cell_type": "markdown",
   "id": "c2236df1-f967-4651-92ad-ab3ceca4a074",
   "metadata": {},
   "source": [
    "### Model kurma "
   ]
  },
  {
   "cell_type": "code",
   "execution_count": 129,
   "id": "78b795ad-839f-4f32-973a-189603f97e32",
   "metadata": {},
   "outputs": [
    {
     "name": "stdout",
     "output_type": "stream",
     "text": [
      "Accuracy: 0.77\n",
      "Recall: 0.64\n",
      "Precision: 0.69\n",
      "F1: 0.66\n",
      "Auc: 0.74\n"
     ]
    }
   ],
   "source": [
    "# Lojistik regresyon\n",
    "\n",
    "X = df.drop(\"Outcome\", axis=1)\n",
    "y = df[\"Outcome\"]\n",
    "\n",
    "X_train, X_test, y_train, y_test = train_test_split(\n",
    "    X, y, test_size=0.2, random_state=42)\n",
    "\n",
    "model = LogisticRegression()\n",
    "model.fit(X_train, y_train)\n",
    "\n",
    "y_pred = model.predict(X_test)\n",
    "\n",
    "print(f\"Accuracy: {round(accuracy_score(y_test, y_pred), 2)}\")\n",
    "print(f\"Recall: {round(recall_score(y_test, y_pred), 2)}\")\n",
    "print(f\"Precision: {round(precision_score(y_test, y_pred), 2)}\")\n",
    "print(f\"F1: {round(f1_score(y_test, y_pred), 2)}\")\n",
    "print(f\"Auc: {round(roc_auc_score(y_test, y_pred), 2)}\")\n"
   ]
  },
  {
   "cell_type": "code",
   "execution_count": 201,
   "id": "bbaec8bc-19f1-4b25-a99f-e37132321768",
   "metadata": {},
   "outputs": [
    {
     "name": "stdout",
     "output_type": "stream",
     "text": [
      "Accuracy: 0.75\n",
      "Recall: 0.71\n",
      "Precision: 0.63\n",
      "F1: 0.67\n",
      "Auc: 0.74\n"
     ]
    }
   ],
   "source": [
    "# Random forest\n",
    "\n",
    "rf_model = RandomForestClassifier().fit(X_train, y_train)\n",
    "y_pred_rf = rf_model.predict(X_test)\n",
    "\n",
    "print(f\"Accuracy: {round(accuracy_score(y_test, y_pred_rf), 2)}\")\n",
    "print(f\"Recall: {round(recall_score(y_test, y_pred_rf), 2)}\")\n",
    "print(f\"Precision: {round(precision_score(y_test, y_pred_rf), 2)}\")\n",
    "print(f\"F1: {round(f1_score(y_test, y_pred_rf), 2)}\")\n",
    "print(f\"Auc: {round(roc_auc_score(y_test, y_pred_rf), 2)}\")"
   ]
  },
  {
   "cell_type": "code",
   "execution_count": 119,
   "id": "cd3c1952-96e3-4a9d-90f3-062b1f89d068",
   "metadata": {},
   "outputs": [
    {
     "name": "stdout",
     "output_type": "stream",
     "text": [
      "Accuracy: 0.72\n",
      "Recall: 0.71\n",
      "Precision: 0.59\n",
      "F1: 0.64\n",
      "Auc: 0.72\n"
     ]
    }
   ],
   "source": [
    "# Knn \n",
    "\n",
    "knn_model = KNeighborsClassifier()\n",
    "knn_model.fit(X_train, y_train)\n",
    "y_pred_knn = knn_model.predict(X_test)\n",
    "\n",
    "print(f\"Accuracy: {round(accuracy_score(y_test, y_pred_knn), 2)}\")\n",
    "print(f\"Recall: {round(recall_score(y_test, y_pred_knn), 2)}\")\n",
    "print(f\"Precision: {round(precision_score(y_test, y_pred_knn), 2)}\")\n",
    "print(f\"F1: {round(f1_score(y_test, y_pred_knn), 2)}\")\n",
    "print(f\"Auc: {round(roc_auc_score(y_test, y_pred_knn), 2)}\")\n"
   ]
  },
  {
   "cell_type": "code",
   "execution_count": 199,
   "id": "d26a21df-6520-45b9-a455-e16db75a658a",
   "metadata": {},
   "outputs": [
    {
     "name": "stdout",
     "output_type": "stream",
     "text": [
      "Accuracy: 0.77\n",
      "Recall: 0.76\n",
      "Precision: 0.65\n",
      "F1: 0.7\n",
      "Auc: 0.77\n"
     ]
    }
   ],
   "source": [
    "#LightGBM\n",
    "\n",
    "lgbm_model = lgb.LGBMClassifier()\n",
    "lgbm_model.fit(X_train, y_train)\n",
    "y_pred_lgbm = lgbm_model.predict(X_test)\n",
    "\n",
    "print(f\"Accuracy: {round(accuracy_score(y_test, y_pred_lgbm), 2)}\")\n",
    "print(f\"Recall: {round(recall_score(y_test, y_pred_lgbm), 2)}\")\n",
    "print(f\"Precision: {round(precision_score(y_test, y_pred_lgbm), 2)}\")\n",
    "print(f\"F1: {round(f1_score(y_test, y_pred_lgbm), 2)}\")\n",
    "print(f\"Auc: {round(roc_auc_score(y_test, y_pred_lgbm), 2)}\")"
   ]
  },
  {
   "cell_type": "code",
   "execution_count": null,
   "id": "58db4890-9aff-40fb-a8a2-287bfe50a7c4",
   "metadata": {},
   "outputs": [],
   "source": [
    "\"\"\"\n",
    "Accuracy: Kaç tahmin doğru çıktı? (Tüm tahminler içinde)\n",
    "\n",
    "Recall: Gerçek pozitiflerin kaçı bulundu? (Kaç hastayı yakaladık?)\n",
    "\n",
    "Precision: Pozitif dediğimiz örneklerin kaçı gerçekten pozitif? (Kaç hastaya yanlış teşhis koymadık?)\n",
    "\n",
    "F1: Precision ve recall’un dengesi.\n",
    "\n",
    "AUC: Modelin her tür eşik değerinde pozitif-negatif ayırabilme başarısı.\"\"\""
   ]
  },
  {
   "cell_type": "markdown",
   "id": "187b0c45-d531-4899-9adb-37dac5071ba6",
   "metadata": {},
   "source": [
    "### Feature engineering"
   ]
  },
  {
   "cell_type": "code",
   "execution_count": 100,
   "id": "a68c9af3-922a-4781-ba54-5686841e4276",
   "metadata": {},
   "outputs": [],
   "source": [
    "new_df= df.copy()"
   ]
  },
  {
   "cell_type": "code",
   "execution_count": 102,
   "id": "633b77e8-ee67-4355-90a4-c74326fca7dc",
   "metadata": {},
   "outputs": [],
   "source": [
    "# BMI 18,5 aşağısı underweight, 18.5 ile 24.9 arası normal, 24.9 ile 29.9 arası Overweight ve 30 üstü obez\n",
    "# Sınırlar WHO kiriterlerine göre belirlendi\n",
    "\n",
    "new_df[\"New_BMI\"]= pd.cut(x=df[\"BMI\"], bins=[0, 18.5, 24.9, 29.9, 100],labels=[\"Underweight\", \"Healthy\", \"Overweight\", \"Obese\"])"
   ]
  },
  {
   "cell_type": "code",
   "execution_count": 104,
   "id": "4a2000d7-b5f8-40ca-8270-253abbf08bee",
   "metadata": {},
   "outputs": [],
   "source": [
    "\"\"\"\n",
    "WHO’ya Göre Sınırlar:\n",
    "Normal: < 110 mg/dL\n",
    "\n",
    "Prediabetes (Impaired Fasting Glucose): 110–125 mg/dL\n",
    "\n",
    "Diabetes: ≥ 126 mg/dL\n",
    "\"\"\"\n",
    "\n",
    "# Glukoz degerini kategorik değişkene çevirme\n",
    "new_df[\"New_Glucose\"] = pd.cut(\n",
    "    x=df[\"Glucose\"],\n",
    "    bins=[0, 110, 126, df[\"Glucose\"].max()],\n",
    "    labels=[\"Normal\", \"Prediabetes\", \"Diabetes\"],\n",
    "    right=False)   # 110 dahil değil, 126 dahil değil; 0-109, 110-125, 126-199)\n"
   ]
  },
  {
   "cell_type": "code",
   "execution_count": 106,
   "id": "1c556238-d149-4039-a3e8-6cc48e2b0b7a",
   "metadata": {},
   "outputs": [],
   "source": [
    "# İnsulin Değeri ile Kategorik değişken türetmek\n",
    "                                             \n",
    "def set_insulin(dataframe, col_name=\"Insulin\"):\n",
    "    if 16 <= dataframe[col_name] <= 166:\n",
    "        return \"Normal\"\n",
    "    else:\n",
    "        return \"Abnormal\"\n",
    "\n",
    "new_df[\"New_Insulin_Score\"] = df.apply(set_insulin, axis=1)\n"
   ]
  },
  {
   "cell_type": "code",
   "execution_count": 108,
   "id": "fbb142ec-a358-4517-b203-ee2f6d2465a5",
   "metadata": {},
   "outputs": [],
   "source": [
    "new_df[\"New_Glucose*Insulin\"] = df[\"Glucose\"] * df[\"Insulin\"]\n",
    "\n",
    "\n",
    "new_df[\"New_Glucose*Pregnancies\"] = df[\"Glucose\"] * df[\"Pregnancies\"]\n"
   ]
  },
  {
   "cell_type": "code",
   "execution_count": 110,
   "id": "34822ac5-ab36-4e9b-93c3-45178aec11da",
   "metadata": {},
   "outputs": [],
   "source": [
    "# Label encoding\n",
    "\n",
    "binary_cols = [\n",
    "    col for col in new_df.columns\n",
    "    if (new_df[col].dtype == \"O\" or str(new_df[col].dtype) == \"category\") and new_df[col].nunique() == 2\n",
    "]\n",
    "\n",
    "\n",
    "for col in binary_cols:\n",
    "    le = LabelEncoder()\n",
    "    new_df[col] = le.fit_transform(new_df[col])\n"
   ]
  },
  {
   "cell_type": "code",
   "execution_count": 112,
   "id": "f7d3c18c-9ce1-4d3a-8fa1-0f6059ce6b7e",
   "metadata": {},
   "outputs": [
    {
     "data": {
      "text/plain": [
       "New_Insulin_Score\n",
       "1    507\n",
       "0    261\n",
       "Name: count, dtype: int64"
      ]
     },
     "execution_count": 112,
     "metadata": {},
     "output_type": "execute_result"
    }
   ],
   "source": [
    "new_df[\"New_Insulin_Score\"].value_counts()"
   ]
  },
  {
   "cell_type": "markdown",
   "id": "005b803a-64f5-46cf-9da9-6ea51421b683",
   "metadata": {},
   "source": [
    "Veri setinde, 261 kişinin insülin skoru 0 ( Normal), 507 kişi 1 (Abnormal) olarak kodlandı."
   ]
  },
  {
   "cell_type": "code",
   "execution_count": 114,
   "id": "8b176aea-8288-47f7-9e2b-45d6b0d32bf9",
   "metadata": {},
   "outputs": [],
   "source": [
    "# one-hot encoding\n",
    "\n",
    "new_df = pd.get_dummies(new_df, columns=[\"New_BMI\", \"New_Glucose\"], drop_first=False)"
   ]
  },
  {
   "cell_type": "code",
   "execution_count": 116,
   "id": "01b87a64-c408-4103-9a6a-ef64828e060c",
   "metadata": {},
   "outputs": [
    {
     "data": {
      "text/html": [
       "<div>\n",
       "<style scoped>\n",
       "    .dataframe tbody tr th:only-of-type {\n",
       "        vertical-align: middle;\n",
       "    }\n",
       "\n",
       "    .dataframe tbody tr th {\n",
       "        vertical-align: top;\n",
       "    }\n",
       "\n",
       "    .dataframe thead th {\n",
       "        text-align: right;\n",
       "    }\n",
       "</style>\n",
       "<table border=\"1\" class=\"dataframe\">\n",
       "  <thead>\n",
       "    <tr style=\"text-align: right;\">\n",
       "      <th></th>\n",
       "      <th>Pregnancies</th>\n",
       "      <th>Glucose</th>\n",
       "      <th>BloodPressure</th>\n",
       "      <th>SkinThickness</th>\n",
       "      <th>Insulin</th>\n",
       "      <th>BMI</th>\n",
       "      <th>DiabetesPedigreeFunction</th>\n",
       "      <th>Age</th>\n",
       "      <th>Outcome</th>\n",
       "      <th>New_Insulin_Score</th>\n",
       "      <th>New_Glucose*Insulin</th>\n",
       "      <th>New_Glucose*Pregnancies</th>\n",
       "      <th>New_BMI_Underweight</th>\n",
       "      <th>New_BMI_Healthy</th>\n",
       "      <th>New_BMI_Overweight</th>\n",
       "      <th>New_BMI_Obese</th>\n",
       "      <th>New_Glucose_Normal</th>\n",
       "      <th>New_Glucose_Prediabetes</th>\n",
       "      <th>New_Glucose_Diabetes</th>\n",
       "    </tr>\n",
       "  </thead>\n",
       "  <tbody>\n",
       "    <tr>\n",
       "      <th>0</th>\n",
       "      <td>6</td>\n",
       "      <td>148.000</td>\n",
       "      <td>72.000</td>\n",
       "      <td>35.000</td>\n",
       "      <td>169.000</td>\n",
       "      <td>33.600</td>\n",
       "      <td>0.627</td>\n",
       "      <td>50</td>\n",
       "      <td>1</td>\n",
       "      <td>0</td>\n",
       "      <td>25012.000</td>\n",
       "      <td>888.000</td>\n",
       "      <td>False</td>\n",
       "      <td>False</td>\n",
       "      <td>False</td>\n",
       "      <td>True</td>\n",
       "      <td>False</td>\n",
       "      <td>False</td>\n",
       "      <td>True</td>\n",
       "    </tr>\n",
       "    <tr>\n",
       "      <th>1</th>\n",
       "      <td>1</td>\n",
       "      <td>85.000</td>\n",
       "      <td>66.000</td>\n",
       "      <td>29.000</td>\n",
       "      <td>58.600</td>\n",
       "      <td>26.600</td>\n",
       "      <td>0.351</td>\n",
       "      <td>31</td>\n",
       "      <td>0</td>\n",
       "      <td>1</td>\n",
       "      <td>4981.000</td>\n",
       "      <td>85.000</td>\n",
       "      <td>False</td>\n",
       "      <td>False</td>\n",
       "      <td>True</td>\n",
       "      <td>False</td>\n",
       "      <td>True</td>\n",
       "      <td>False</td>\n",
       "      <td>False</td>\n",
       "    </tr>\n",
       "    <tr>\n",
       "      <th>2</th>\n",
       "      <td>8</td>\n",
       "      <td>183.000</td>\n",
       "      <td>64.000</td>\n",
       "      <td>25.800</td>\n",
       "      <td>164.600</td>\n",
       "      <td>23.300</td>\n",
       "      <td>0.672</td>\n",
       "      <td>32</td>\n",
       "      <td>1</td>\n",
       "      <td>1</td>\n",
       "      <td>30121.800</td>\n",
       "      <td>1464.000</td>\n",
       "      <td>False</td>\n",
       "      <td>True</td>\n",
       "      <td>False</td>\n",
       "      <td>False</td>\n",
       "      <td>False</td>\n",
       "      <td>False</td>\n",
       "      <td>True</td>\n",
       "    </tr>\n",
       "    <tr>\n",
       "      <th>3</th>\n",
       "      <td>1</td>\n",
       "      <td>89.000</td>\n",
       "      <td>66.000</td>\n",
       "      <td>23.000</td>\n",
       "      <td>94.000</td>\n",
       "      <td>28.100</td>\n",
       "      <td>0.167</td>\n",
       "      <td>21</td>\n",
       "      <td>0</td>\n",
       "      <td>1</td>\n",
       "      <td>8366.000</td>\n",
       "      <td>89.000</td>\n",
       "      <td>False</td>\n",
       "      <td>False</td>\n",
       "      <td>True</td>\n",
       "      <td>False</td>\n",
       "      <td>True</td>\n",
       "      <td>False</td>\n",
       "      <td>False</td>\n",
       "    </tr>\n",
       "    <tr>\n",
       "      <th>4</th>\n",
       "      <td>0</td>\n",
       "      <td>137.000</td>\n",
       "      <td>40.000</td>\n",
       "      <td>35.000</td>\n",
       "      <td>168.000</td>\n",
       "      <td>43.100</td>\n",
       "      <td>2.288</td>\n",
       "      <td>33</td>\n",
       "      <td>1</td>\n",
       "      <td>0</td>\n",
       "      <td>23016.000</td>\n",
       "      <td>0.000</td>\n",
       "      <td>False</td>\n",
       "      <td>False</td>\n",
       "      <td>False</td>\n",
       "      <td>True</td>\n",
       "      <td>False</td>\n",
       "      <td>False</td>\n",
       "      <td>True</td>\n",
       "    </tr>\n",
       "    <tr>\n",
       "      <th>...</th>\n",
       "      <td>...</td>\n",
       "      <td>...</td>\n",
       "      <td>...</td>\n",
       "      <td>...</td>\n",
       "      <td>...</td>\n",
       "      <td>...</td>\n",
       "      <td>...</td>\n",
       "      <td>...</td>\n",
       "      <td>...</td>\n",
       "      <td>...</td>\n",
       "      <td>...</td>\n",
       "      <td>...</td>\n",
       "      <td>...</td>\n",
       "      <td>...</td>\n",
       "      <td>...</td>\n",
       "      <td>...</td>\n",
       "      <td>...</td>\n",
       "      <td>...</td>\n",
       "      <td>...</td>\n",
       "    </tr>\n",
       "    <tr>\n",
       "      <th>763</th>\n",
       "      <td>10</td>\n",
       "      <td>101.000</td>\n",
       "      <td>76.000</td>\n",
       "      <td>48.000</td>\n",
       "      <td>180.000</td>\n",
       "      <td>32.900</td>\n",
       "      <td>0.171</td>\n",
       "      <td>63</td>\n",
       "      <td>0</td>\n",
       "      <td>0</td>\n",
       "      <td>18180.000</td>\n",
       "      <td>1010.000</td>\n",
       "      <td>False</td>\n",
       "      <td>False</td>\n",
       "      <td>False</td>\n",
       "      <td>True</td>\n",
       "      <td>True</td>\n",
       "      <td>False</td>\n",
       "      <td>False</td>\n",
       "    </tr>\n",
       "    <tr>\n",
       "      <th>764</th>\n",
       "      <td>2</td>\n",
       "      <td>122.000</td>\n",
       "      <td>70.000</td>\n",
       "      <td>27.000</td>\n",
       "      <td>165.000</td>\n",
       "      <td>36.800</td>\n",
       "      <td>0.340</td>\n",
       "      <td>27</td>\n",
       "      <td>0</td>\n",
       "      <td>1</td>\n",
       "      <td>20130.000</td>\n",
       "      <td>244.000</td>\n",
       "      <td>False</td>\n",
       "      <td>False</td>\n",
       "      <td>False</td>\n",
       "      <td>True</td>\n",
       "      <td>False</td>\n",
       "      <td>True</td>\n",
       "      <td>False</td>\n",
       "    </tr>\n",
       "    <tr>\n",
       "      <th>765</th>\n",
       "      <td>5</td>\n",
       "      <td>121.000</td>\n",
       "      <td>72.000</td>\n",
       "      <td>23.000</td>\n",
       "      <td>112.000</td>\n",
       "      <td>26.200</td>\n",
       "      <td>0.245</td>\n",
       "      <td>30</td>\n",
       "      <td>0</td>\n",
       "      <td>1</td>\n",
       "      <td>13552.000</td>\n",
       "      <td>605.000</td>\n",
       "      <td>False</td>\n",
       "      <td>False</td>\n",
       "      <td>True</td>\n",
       "      <td>False</td>\n",
       "      <td>False</td>\n",
       "      <td>True</td>\n",
       "      <td>False</td>\n",
       "    </tr>\n",
       "    <tr>\n",
       "      <th>766</th>\n",
       "      <td>1</td>\n",
       "      <td>126.000</td>\n",
       "      <td>60.000</td>\n",
       "      <td>35.200</td>\n",
       "      <td>134.200</td>\n",
       "      <td>30.100</td>\n",
       "      <td>0.349</td>\n",
       "      <td>47</td>\n",
       "      <td>1</td>\n",
       "      <td>1</td>\n",
       "      <td>16909.200</td>\n",
       "      <td>126.000</td>\n",
       "      <td>False</td>\n",
       "      <td>False</td>\n",
       "      <td>False</td>\n",
       "      <td>True</td>\n",
       "      <td>False</td>\n",
       "      <td>False</td>\n",
       "      <td>True</td>\n",
       "    </tr>\n",
       "    <tr>\n",
       "      <th>767</th>\n",
       "      <td>1</td>\n",
       "      <td>93.000</td>\n",
       "      <td>70.000</td>\n",
       "      <td>31.000</td>\n",
       "      <td>66.600</td>\n",
       "      <td>30.400</td>\n",
       "      <td>0.315</td>\n",
       "      <td>23</td>\n",
       "      <td>0</td>\n",
       "      <td>1</td>\n",
       "      <td>6193.800</td>\n",
       "      <td>93.000</td>\n",
       "      <td>False</td>\n",
       "      <td>False</td>\n",
       "      <td>False</td>\n",
       "      <td>True</td>\n",
       "      <td>True</td>\n",
       "      <td>False</td>\n",
       "      <td>False</td>\n",
       "    </tr>\n",
       "  </tbody>\n",
       "</table>\n",
       "<p>768 rows × 19 columns</p>\n",
       "</div>"
      ],
      "text/plain": [
       "     Pregnancies  Glucose  BloodPressure  SkinThickness  Insulin    BMI  \\\n",
       "0              6  148.000         72.000         35.000  169.000 33.600   \n",
       "1              1   85.000         66.000         29.000   58.600 26.600   \n",
       "2              8  183.000         64.000         25.800  164.600 23.300   \n",
       "3              1   89.000         66.000         23.000   94.000 28.100   \n",
       "4              0  137.000         40.000         35.000  168.000 43.100   \n",
       "..           ...      ...            ...            ...      ...    ...   \n",
       "763           10  101.000         76.000         48.000  180.000 32.900   \n",
       "764            2  122.000         70.000         27.000  165.000 36.800   \n",
       "765            5  121.000         72.000         23.000  112.000 26.200   \n",
       "766            1  126.000         60.000         35.200  134.200 30.100   \n",
       "767            1   93.000         70.000         31.000   66.600 30.400   \n",
       "\n",
       "     DiabetesPedigreeFunction  Age  Outcome  New_Insulin_Score  \\\n",
       "0                       0.627   50        1                  0   \n",
       "1                       0.351   31        0                  1   \n",
       "2                       0.672   32        1                  1   \n",
       "3                       0.167   21        0                  1   \n",
       "4                       2.288   33        1                  0   \n",
       "..                        ...  ...      ...                ...   \n",
       "763                     0.171   63        0                  0   \n",
       "764                     0.340   27        0                  1   \n",
       "765                     0.245   30        0                  1   \n",
       "766                     0.349   47        1                  1   \n",
       "767                     0.315   23        0                  1   \n",
       "\n",
       "     New_Glucose*Insulin  New_Glucose*Pregnancies  New_BMI_Underweight  \\\n",
       "0              25012.000                  888.000                False   \n",
       "1               4981.000                   85.000                False   \n",
       "2              30121.800                 1464.000                False   \n",
       "3               8366.000                   89.000                False   \n",
       "4              23016.000                    0.000                False   \n",
       "..                   ...                      ...                  ...   \n",
       "763            18180.000                 1010.000                False   \n",
       "764            20130.000                  244.000                False   \n",
       "765            13552.000                  605.000                False   \n",
       "766            16909.200                  126.000                False   \n",
       "767             6193.800                   93.000                False   \n",
       "\n",
       "     New_BMI_Healthy  New_BMI_Overweight  New_BMI_Obese  New_Glucose_Normal  \\\n",
       "0              False               False           True               False   \n",
       "1              False                True          False                True   \n",
       "2               True               False          False               False   \n",
       "3              False                True          False                True   \n",
       "4              False               False           True               False   \n",
       "..               ...                 ...            ...                 ...   \n",
       "763            False               False           True                True   \n",
       "764            False               False           True               False   \n",
       "765            False                True          False               False   \n",
       "766            False               False           True               False   \n",
       "767            False               False           True                True   \n",
       "\n",
       "     New_Glucose_Prediabetes  New_Glucose_Diabetes  \n",
       "0                      False                  True  \n",
       "1                      False                 False  \n",
       "2                      False                  True  \n",
       "3                      False                 False  \n",
       "4                      False                  True  \n",
       "..                       ...                   ...  \n",
       "763                    False                 False  \n",
       "764                     True                 False  \n",
       "765                     True                 False  \n",
       "766                    False                  True  \n",
       "767                    False                 False  \n",
       "\n",
       "[768 rows x 19 columns]"
      ]
     },
     "execution_count": 116,
     "metadata": {},
     "output_type": "execute_result"
    }
   ],
   "source": [
    "new_df"
   ]
  },
  {
   "cell_type": "code",
   "execution_count": 66,
   "id": "bd5dee0a-25ab-4597-aa4d-2f8b384a01cb",
   "metadata": {},
   "outputs": [
    {
     "name": "stdout",
     "output_type": "stream",
     "text": [
      "<class 'pandas.core.frame.DataFrame'>\n",
      "RangeIndex: 768 entries, 0 to 767\n",
      "Data columns (total 19 columns):\n",
      " #   Column                    Non-Null Count  Dtype  \n",
      "---  ------                    --------------  -----  \n",
      " 0   Pregnancies               768 non-null    int64  \n",
      " 1   Glucose                   768 non-null    int64  \n",
      " 2   BloodPressure             768 non-null    int64  \n",
      " 3   SkinThickness             768 non-null    int64  \n",
      " 4   Insulin                   768 non-null    int64  \n",
      " 5   BMI                       768 non-null    float64\n",
      " 6   DiabetesPedigreeFunction  768 non-null    float64\n",
      " 7   Age                       768 non-null    int64  \n",
      " 8   Outcome                   768 non-null    int64  \n",
      " 9   New_Insulin_Score         768 non-null    int32  \n",
      " 10  New_Glucose*Insulin       768 non-null    int64  \n",
      " 11  New_Glucose*Pregnancies   768 non-null    int64  \n",
      " 12  New_BMI_Underweight       768 non-null    bool   \n",
      " 13  New_BMI_Healthy           768 non-null    bool   \n",
      " 14  New_BMI_Overweight        768 non-null    bool   \n",
      " 15  New_BMI_Obese             768 non-null    bool   \n",
      " 16  New_Glucose_Normal        768 non-null    bool   \n",
      " 17  New_Glucose_Prediabetes   768 non-null    bool   \n",
      " 18  New_Glucose_Diabetes      768 non-null    bool   \n",
      "dtypes: bool(7), float64(2), int32(1), int64(9)\n",
      "memory usage: 74.4 KB\n"
     ]
    }
   ],
   "source": [
    "new_df.info()"
   ]
  },
  {
   "cell_type": "code",
   "execution_count": 162,
   "id": "ab7382ad-dbf0-4cba-b0f2-63625177da04",
   "metadata": {},
   "outputs": [],
   "source": [
    "# StandardScaler \n",
    "\n",
    "X_new = new_df.drop(\"Outcome\", axis=1)\n",
    "y_new = new_df[\"Outcome\"]\n",
    "\n",
    "X_train_new, X_test_new, y_train_new, y_test_new = train_test_split(\n",
    "    X_new, y_new, test_size=0.2, random_state=42)\n",
    "\n",
    "numeric_cols_new = X_new.select_dtypes(include=[\"int64\", \"float64\"]).columns.tolist()\n",
    "scaler = StandardScaler()\n",
    "X_train_new_scaled = X_train_new.copy()\n",
    "X_test_new_scaled = X_test_new.copy() \n",
    "X_train_new_scaled[numeric_cols_new] = scaler.fit_transform(X_train_new[numeric_cols_new])\n",
    "X_test_new_scaled[numeric_cols_new] = scaler.transform(X_test_new[numeric_cols_new])"
   ]
  },
  {
   "cell_type": "markdown",
   "id": "54faeb79-ce02-4835-9871-2e94374ddc2a",
   "metadata": {},
   "source": [
    "### Feature engineering sonrası model kurma "
   ]
  },
  {
   "cell_type": "code",
   "execution_count": 400,
   "id": "dfbbd614-0aae-4c39-a8a4-802067ba1915",
   "metadata": {},
   "outputs": [
    {
     "name": "stdout",
     "output_type": "stream",
     "text": [
      "Lojistik regresyon (new_df + scaled) Sonuçları:\n",
      "Accuracy: 0.73\n",
      "Recall: 0.65\n",
      "Precision: 0.61\n",
      "F1: 0.63\n",
      "Auc: 0.71\n"
     ]
    }
   ],
   "source": [
    "# Lojistik regresyon\n",
    "\n",
    "log_model = LogisticRegression()\n",
    "log_model.fit(X_train_new_scaled, y_train)\n",
    "y_pred = log_model.predict(X_test_new_scaled)\n",
    "\n",
    "print(\"Lojistik regresyon (new_df + scaled) Sonuçları:\")\n",
    "print(f\"Accuracy: {round(accuracy_score(y_test, y_pred), 2)}\")\n",
    "print(f\"Recall: {round(recall_score(y_test, y_pred), 2)}\")\n",
    "print(f\"Precision: {round(precision_score(y_test, y_pred), 2)}\")\n",
    "print(f\"F1: {round(f1_score(y_test, y_pred), 2)}\")\n",
    "print(f\"Auc: {round(roc_auc_score(y_test, y_pred), 2)}\")"
   ]
  },
  {
   "cell_type": "markdown",
   "id": "bc43e994-e06e-4bbb-98ce-dc30567e4a8f",
   "metadata": {},
   "source": [
    "Scaling ve feature öncesi lojistik regresyon sonuçları:\n",
    "\n",
    "* Accuracy: 0.77\n",
    "* Recall: 0.64\n",
    "* Precision: 0.69\n",
    "* F1: 0.66\n",
    "* Auc: 0.74"
   ]
  },
  {
   "cell_type": "code",
   "execution_count": 203,
   "id": "e5a71724-1c9a-4e29-a322-ce004ea8a9b5",
   "metadata": {},
   "outputs": [
    {
     "name": "stdout",
     "output_type": "stream",
     "text": [
      "Random Forest (new_df + scaled) Sonuçları:\n",
      "Accuracy : 0.78\n",
      "Recall   : 0.73\n",
      "Precision: 0.68\n",
      "F1       : 0.7\n",
      "AUC      : 0.77\n"
     ]
    }
   ],
   "source": [
    "# Random forest model\n",
    "\n",
    "rf_model_new = RandomForestClassifier()\n",
    "rf_model_new.fit(X_train_new_scaled, y_train_new)\n",
    "\n",
    "y_pred_rf_new = rf_model_new.predict(X_test_new_scaled)\n",
    "\n",
    "print(\"Random Forest (new_df + scaled) Sonuçları:\")\n",
    "print(f\"Accuracy : {round(accuracy_score(y_test_new, y_pred_rf_new), 2)}\")\n",
    "print(f\"Recall   : {round(recall_score(y_test_new, y_pred_rf_new), 2)}\")\n",
    "print(f\"Precision: {round(precision_score(y_test_new, y_pred_rf_new), 2)}\")\n",
    "print(f\"F1       : {round(f1_score(y_test_new, y_pred_rf_new), 2)}\")\n",
    "print(f\"AUC      : {round(roc_auc_score(y_test_new, y_pred_rf_new), 2)}\")"
   ]
  },
  {
   "cell_type": "markdown",
   "id": "7d92c7d2-e3a5-467a-9b59-368c42908a2f",
   "metadata": {},
   "source": [
    "ilk RandomForestClassifier:\n",
    "\n",
    "* Accuracy: 0.76\n",
    "* Recall: 0.67\n",
    "* Precision: 0.66\n",
    "* F1: 0.67\n",
    "* Auc: 0.74\n",
    "\n",
    "Son Random Forest modelinin başarısı, önceki modele göre daha iyi.\n",
    "Feature engineering + scaling, bu modeli iyileştirdi."
   ]
  },
  {
   "cell_type": "code",
   "execution_count": 228,
   "id": "2adfcdf8-da5c-41eb-beea-2ebb9e3c60e6",
   "metadata": {},
   "outputs": [
    {
     "name": "stdout",
     "output_type": "stream",
     "text": [
      "KNN (new_df + scaled) Sonuçları:\n",
      "Accuracy : 0.77\n",
      "Recall   : 0.67\n",
      "Precision: 0.67\n",
      "F1       : 0.67\n",
      "AUC      : 0.75\n"
     ]
    }
   ],
   "source": [
    "# KNN\n",
    "\n",
    "knn_model_new = KNeighborsClassifier()\n",
    "knn_model_new.fit(X_train_new_scaled, y_train_new)\n",
    "\n",
    "y_pred_knn_new = knn_model_new.predict(X_test_new_scaled)\n",
    "\n",
    "\n",
    "print(\"KNN (new_df + scaled) Sonuçları:\")\n",
    "print(f\"Accuracy : {round(accuracy_score(y_test_new, y_pred_knn_new), 2)}\")\n",
    "print(f\"Recall   : {round(recall_score(y_test_new, y_pred_knn_new), 2)}\")\n",
    "print(f\"Precision: {round(precision_score(y_test_new, y_pred_knn_new), 2)}\")\n",
    "print(f\"F1       : {round(f1_score(y_test_new, y_pred_knn_new), 2)}\")\n",
    "print(f\"AUC      : {round(roc_auc_score(y_test_new, y_pred_knn_new), 2)}\")"
   ]
  },
  {
   "cell_type": "markdown",
   "id": "81eb73e3-f4f1-4177-b466-110616cb3fec",
   "metadata": {},
   "source": [
    "İlk KNN model:\n",
    "\n",
    "* Accuracy: 0.72\n",
    "* Recall: 0.71\n",
    "* Precision: 0.59\n",
    "* F1: 0.64\n",
    "* Auc: 0.72"
   ]
  },
  {
   "cell_type": "code",
   "execution_count": 446,
   "id": "bf566c23-f7e7-4d7f-880f-9168f57c6ae7",
   "metadata": {},
   "outputs": [
    {
     "name": "stdout",
     "output_type": "stream",
     "text": [
      "LightGBM (new_df + scaled) Sonuçları:\n",
      "Accuracy : 0.73\n",
      "Recall   : 0.69\n",
      "Precision: 0.603\n",
      "F1       : 0.64\n",
      "AUC      : 0.72\n"
     ]
    }
   ],
   "source": [
    "# LightGBM\n",
    "\n",
    "lgbm_model_new = lgb.LGBMClassifier(random_state=42)\n",
    "lgbm_model_new.fit(X_train_new_scaled, y_train_new)\n",
    "\n",
    "y_pred_lgbm_new = lgbm_model_new.predict(X_test_new_scaled)\n",
    "\n",
    "\n",
    "print(\"LightGBM (new_df + scaled) Sonuçları:\")\n",
    "print(f\"Accuracy : {round(accuracy_score(y_test_new, y_pred_lgbm_new), 2)}\")\n",
    "print(f\"Recall   : {round(recall_score(y_test_new, y_pred_lgbm_new), 2)}\")\n",
    "print(f\"Precision: {round(precision_score(y_test_new, y_pred_lgbm_new), 3)}\")\n",
    "print(f\"F1       : {round(f1_score(y_test_new, y_pred_lgbm_new), 2)}\")\n",
    "print(f\"AUC      : {round(roc_auc_score(y_test_new, y_pred_lgbm_new), 2)}\")"
   ]
  },
  {
   "cell_type": "markdown",
   "id": "de3043e3-b7b2-446e-9508-b83a6dc9796d",
   "metadata": {},
   "source": [
    "İlk LightGBM sonuçları:\n",
    "\n",
    "* Accuracy: 0.77\n",
    "* Recall: 0.76\n",
    "* Precision: 0.65\n",
    "* F1: 0.7\n",
    "* Auc: 0.77"
   ]
  },
  {
   "cell_type": "code",
   "execution_count": null,
   "id": "fe2b0225-3960-4138-80e8-fb4d2fdffe4f",
   "metadata": {},
   "outputs": [],
   "source": []
  },
  {
   "cell_type": "code",
   "execution_count": 405,
   "id": "38e9877c-8827-4273-81c7-d3c36c4836dd",
   "metadata": {},
   "outputs": [
    {
     "data": {
      "image/png": "[encoded data removed]",
      "text/plain": [
       "<Figure size 1200x630 with 1 Axes>"
      ]
     },
     "metadata": {},
     "output_type": "display_data"
    }
   ],
   "source": [
    "# Feature önem sırası \n",
    "\n",
    "feature_names_new = X_train_new_scaled.columns\n",
    "importances_new = rf_model_new.feature_importances_\n",
    "\n",
    "feat_importance_new = pd.DataFrame({\n",
    "    \"Feature\": feature_names_new,\n",
    "    \"Importance\": importances_new\n",
    "}).sort_values(by=\"Importance\", ascending=False)\n",
    "\n",
    "\n",
    "plt.figure(figsize=(12, max(6, len(feat_importance_new) * 0.35)))\n",
    "plt.barh(feat_importance_new[\"Feature\"], feat_importance_new[\"Importance\"])\n",
    "plt.gca().invert_yaxis()\n",
    "plt.xlabel(\"Importance\")\n",
    "plt.title(\"Feature Importances\")\n",
    "plt.tight_layout()\n",
    "plt.show()"
   ]
  },
  {
   "cell_type": "code",
   "execution_count": 120,
   "id": "fec93a5c-aa3d-4068-b390-ff08c0435280",
   "metadata": {},
   "outputs": [],
   "source": [
    "# Modele çok etkisi olmayan sütunlar\n",
    "features_to_drop = [\n",
    "    \"New_BMI_Underweight\",\n",
    "    \"New_BMI_Healthy\", \n",
    "    \"New_BMI_Overweight\",\n",
    "    \"New_Glucose_Prediabetes\",\n",
    "    \"New_Glucose_Normal\",\n",
    "     \"New_Insulin_Score\"   \n",
    "]\n",
    "\n",
    "# Sadece modelleme için yeni bir X oluşturuldu\n",
    "X_new_reduced = X_new.drop(features_to_drop, axis=1)\n"
   ]
  },
  {
   "cell_type": "markdown",
   "id": "bdf04a06-820c-47eb-b449-1a7ab18aaa4e",
   "metadata": {},
   "source": [
    "* Modele çok etkisi olmayan sütunların silinmesinin ardından modeller tekrar kıyaslandı \n"
   ]
  },
  {
   "cell_type": "code",
   "execution_count": 205,
   "id": "46aeaf76-ef14-463d-b13c-b115d0a6edac",
   "metadata": {},
   "outputs": [
    {
     "name": "stdout",
     "output_type": "stream",
     "text": [
      "Logistic Regression (Reduced Features, new_df, scaled) sonuçlar:\n",
      "Accuracy : 0.74\n",
      "Recall   : 0.65\n",
      "Precision: 0.63\n",
      "F1       : 0.64\n",
      "AUC      : 0.72\n"
     ]
    }
   ],
   "source": [
    "X_train_new_reduced, X_test_new_reduced, y_train_new_reduced, y_test_new_reduced = train_test_split(\n",
    "    X_new_reduced, y_new, test_size=0.2, random_state=42\n",
    ")\n",
    "\n",
    "numeric_cols_new_reduced = X_new_reduced.select_dtypes(include=[\"int64\", \"float64\"]).columns.tolist()\n",
    "\n",
    "scaler_reduced = StandardScaler()\n",
    "X_train_new_reduced_scaled = X_train_new_reduced.copy()\n",
    "X_test_new_reduced_scaled = X_test_new_reduced.copy()\n",
    "X_train_new_reduced_scaled[numeric_cols_new_reduced] = scaler_reduced.fit_transform(X_train_new_reduced[numeric_cols_new_reduced])\n",
    "X_test_new_reduced_scaled[numeric_cols_new_reduced] = scaler_reduced.transform(X_test_new_reduced[numeric_cols_new_reduced])\n",
    "\n",
    "# 4. Logistic Regression modeli\n",
    "log_model_new_reduced = LogisticRegression()\n",
    "log_model_new_reduced.fit(X_train_new_reduced_scaled, y_train_new_reduced)\n",
    "\n",
    "\n",
    "y_pred_new_reduced = log_model_new_reduced.predict(X_test_new_reduced_scaled)\n",
    "\n",
    "print(\"Logistic Regression (Reduced Features, new_df, scaled) sonuçlar:\")\n",
    "print(f\"Accuracy : {round(accuracy_score(y_test_new_reduced, y_pred_new_reduced), 2)}\")\n",
    "print(f\"Recall   : {round(recall_score(y_test_new_reduced, y_pred_new_reduced), 2)}\")\n",
    "print(f\"Precision: {round(precision_score(y_test_new_reduced, y_pred_new_reduced), 2)}\")\n",
    "print(f\"F1       : {round(f1_score(y_test_new_reduced, y_pred_new_reduced), 2)}\")\n",
    "print(f\"AUC      : {round(roc_auc_score(y_test_new_reduced, y_pred_new_reduced), 2)}\")"
   ]
  },
  {
   "cell_type": "markdown",
   "id": "f12d6035-b6a7-4076-b2b6-2ab29976ec98",
   "metadata": {},
   "source": [
    "Lojistik regresyon (new_df + scaled) Sonuçları:\n",
    "* Accuracy: 0.73\n",
    "* Recall: 0.65\n",
    "* Precision: 0.61\n",
    "* F1: 0.63\n",
    "* Auc: 0.71"
   ]
  },
  {
   "cell_type": "markdown",
   "id": "f239c9b4-980e-4277-93a6-280e5d404fc6",
   "metadata": {},
   "source": [
    "Lojistik Regresyon Sonuçları (Feature Engineering ve Ölçekleme Öncesi, Orijinal df):\n",
    "* Accuracy: 0.77\n",
    "* Recall: 0.64\n",
    "* Precision: 0.69\n",
    "* F1: 0.66\n",
    "* Auc: 0.74"
   ]
  },
  {
   "cell_type": "code",
   "execution_count": 440,
   "id": "6a892391-cae9-4ed1-8c18-c8dd2ef33e74",
   "metadata": {},
   "outputs": [
    {
     "name": "stdout",
     "output_type": "stream",
     "text": [
      "KNN (Reduced Features, new_df, scaled) sonuçları:\n",
      "Accuracy : 0.73\n",
      "Recall   : 0.69\n",
      "Precision: 0.61\n",
      "F1       : 0.65\n",
      "AUC      : 0.72\n"
     ]
    }
   ],
   "source": [
    "\n",
    "knn_model_new_reduced = KNeighborsClassifier()\n",
    "knn_model_new_reduced.fit(X_train_new_reduced_scaled, y_train_new_reduced)\n",
    "\n",
    "\n",
    "y_pred_knn_new_reduced = knn_model_new_reduced.predict(X_test_new_reduced_scaled)\n",
    "\n",
    "\n",
    "print(\"KNN (Reduced Features, new_df, scaled) sonuçları:\")\n",
    "print(f\"Accuracy : {round(accuracy_score(y_test_new_reduced, y_pred_knn_new_reduced), 2)}\")\n",
    "print(f\"Recall   : {round(recall_score(y_test_new_reduced, y_pred_knn_new_reduced), 2)}\")\n",
    "print(f\"Precision: {round(precision_score(y_test_new_reduced, y_pred_knn_new_reduced), 2)}\")\n",
    "print(f\"F1       : {round(f1_score(y_test_new_reduced, y_pred_knn_new_reduced), 2)}\")\n",
    "print(f\"AUC      : {round(roc_auc_score(y_test_new_reduced, y_pred_knn_new_reduced), 2)}\") \n"
   ]
  },
  {
   "cell_type": "markdown",
   "id": "d42d1824-867d-4173-aa67-c3d5ac5c47fc",
   "metadata": {},
   "source": [
    "KNN (new_df + scaled) Sonuçları:\n",
    "* Accuracy : 0.77\n",
    "* Recall   : 0.67\n",
    "* Precision: 0.67\n",
    "* F1       : 0.67\n",
    "* AUC      : 0.75"
   ]
  },
  {
   "cell_type": "markdown",
   "id": "bb3775c5-11e4-4c33-af5c-0253280e5ade",
   "metadata": {},
   "source": [
    "KNN (Feature Engineering ve Ölçekleme Öncesi, Orijinal df):\n",
    "* Accuracy: 0.72\n",
    "* Recall: 0.71\n",
    "* Precision: 0.59\n",
    "* F1: 0.64\n",
    "* Auc: 0.72"
   ]
  },
  {
   "cell_type": "code",
   "execution_count": 207,
   "id": "de3520a5-61d8-4d1a-9725-285b20d7a474",
   "metadata": {},
   "outputs": [
    {
     "name": "stdout",
     "output_type": "stream",
     "text": [
      "LightGBM (Reduced Features, new_df, scaled) Results:\n",
      "Accuracy : 0.75\n",
      "Recall   : 0.73\n",
      "Precision: 0.62\n",
      "F1       : 0.67\n",
      "AUC      : 0.74\n"
     ]
    }
   ],
   "source": [
    "lgbm_model_new_reduced = lgb.LGBMClassifier()\n",
    "lgbm_model_new_reduced.fit(X_train_new_reduced_scaled, y_train_new_reduced)\n",
    "\n",
    "\n",
    "y_pred_lgbm_new_reduced = lgbm_model_new_reduced.predict(X_test_new_reduced_scaled)\n",
    "\n",
    "\n",
    "print(\"LightGBM (Reduced Features, new_df, scaled) Results:\")\n",
    "print(f\"Accuracy : {round(accuracy_score(y_test_new_reduced, y_pred_lgbm_new_reduced), 2)}\")\n",
    "print(f\"Recall   : {round(recall_score(y_test_new_reduced, y_pred_lgbm_new_reduced), 2)}\")\n",
    "print(f\"Precision: {round(precision_score(y_test_new_reduced, y_pred_lgbm_new_reduced), 2)}\")\n",
    "print(f\"F1       : {round(f1_score(y_test_new_reduced, y_pred_lgbm_new_reduced), 2)}\")\n",
    "print(f\"AUC      : {round(roc_auc_score(y_test_new_reduced, y_pred_lgbm_new_reduced), 2)}\")"
   ]
  },
  {
   "cell_type": "markdown",
   "id": "409a56dc-5fb4-4154-b451-13e1d7102bb4",
   "metadata": {},
   "source": [
    "LightGBM (new_df + scaled) Sonuçları:\n",
    "* Accuracy : 0.73\n",
    "* Recall   : 0.69\n",
    "* Precision: 0.60\n",
    "* F1       : 0.64\n",
    "* AUC      : 0.72"
   ]
  },
  {
   "cell_type": "markdown",
   "id": "7cc9e312-4a24-4a6c-9176-033d6447fcd6",
   "metadata": {},
   "source": [
    "LightGBM (Feature Engineering ve Ölçekleme Öncesi, Orijinal df):\n",
    "* Accuracy: 0.77\n",
    "* Recall: 0.76\n",
    "* Precision: 0.65\n",
    "* F1: 0.70\n",
    "* Auc: 0.77"
   ]
  },
  {
   "cell_type": "markdown",
   "id": "f3a39333-0ad3-41ed-9b85-81663a4c3a8d",
   "metadata": {},
   "source": [
    "Denediğim modeller arasında en kayda değer sonuçları veren 3 model şu şekilde:\n",
    "\n",
    "1) New Features ve scaling öncesi Logistic regresyon\n",
    "2) New Features ve scaling öncesi LightGBM\n",
    "3) New Features + scaling sonrası Random Forest\n",
    "\n",
    "Yukarıda bahsedilen modellerin farklı veri bölmelerinde, nasıl performans gösterdiğini anlamak ve daha güvenilir bir başarı metriği elde etmek için 5 katlı çapraz doğrulama (5-Fold Cross Validation) yapıldı. "
   ]
  },
  {
   "cell_type": "code",
   "execution_count": 195,
   "id": "63d3b67c-87b1-44f2-bd46-7611e9ad9590",
   "metadata": {},
   "outputs": [
    {
     "name": "stdout",
     "output_type": "stream",
     "text": [
      "New Features ve scaling öncesi Logistic regresyon:\n",
      "\n",
      "Accuracy (mean): 0.77\n",
      "All fold accuracy scores: [0.75974026 0.74675325 0.76623377 0.80392157 0.78431373]\n",
      "---\n",
      "Recall (mean): 0.57\n",
      "All fold recall scores: [0.55555556 0.59259259 0.55555556 0.62264151 0.50943396]\n",
      "---\n",
      "Precision (mean): 0.73\n",
      "All fold precision scores: [0.69767442 0.65306122 0.71428571 0.76744186 0.79411765]\n",
      "---\n",
      "F1 (mean): 0.63\n",
      "All fold f1 scores: [0.6185567  0.62135922 0.625      0.6875     0.62068966]\n",
      "---\n",
      "Roc_auc (mean): 0.83\n",
      "All fold roc_auc scores: [0.81648148 0.81611111 0.83166667 0.88150943 0.82415094]\n",
      "---\n"
     ]
    }
   ],
   "source": [
    "scoring = [\"accuracy\", \"recall\", \"precision\", \"f1\", \"roc_auc\"]\n",
    "\n",
    "cv_results = cross_validate(\n",
    "    LogisticRegression(),\n",
    "    X,\n",
    "    y,\n",
    "    cv=5,\n",
    "    scoring=scoring,\n",
    "    return_train_score=False\n",
    ")\n",
    "\n",
    "print(\"New Features ve scaling öncesi Logistic regresyon:\\n\")\n",
    "\n",
    "\n",
    "for score in scoring:\n",
    "    print(f\"{score.capitalize()} (mean): {cv_results['test_' + score].mean():.2f}\")\n",
    "    print(f\"All fold {score} scores: {cv_results['test_' + score]}\")\n",
    "    print(\"---\")"
   ]
  },
  {
   "cell_type": "code",
   "execution_count": 193,
   "id": "ad9b75cf-4914-4189-9634-dad9a2bbee96",
   "metadata": {},
   "outputs": [
    {
     "name": "stdout",
     "output_type": "stream",
     "text": [
      "New Features ve scaling öncesi LightGBM:\n",
      "\n",
      "Accuracy (mean): 0.73\n",
      "All fold accuracy scores: [0.73376623 0.7012987  0.67532468 0.77777778 0.74509804]\n",
      "---\n",
      "Recall (mean): 0.58\n",
      "All fold recall scores: [0.61111111 0.64814815 0.38888889 0.66037736 0.58490566]\n",
      "---\n",
      "Precision (mean): 0.61\n",
      "All fold precision scores: [0.62264151 0.56451613 0.55263158 0.68627451 0.64583333]\n",
      "---\n",
      "F1 (mean): 0.59\n",
      "All fold f1 scores: [0.61682243 0.60344828 0.45652174 0.67307692 0.61386139]\n",
      "---\n",
      "Roc_auc (mean): 0.81\n",
      "All fold roc_auc scores: [0.79462963 0.7687037  0.79166667 0.85867925 0.81830189]\n",
      "---\n"
     ]
    }
   ],
   "source": [
    "cv_lgbm_results = cross_validate(\n",
    "    lgbm_model,\n",
    "    X,\n",
    "    y,\n",
    "    cv=5,\n",
    "    scoring=scoring,\n",
    "    return_train_score=False\n",
    ")\n",
    "print(\"New Features ve scaling öncesi LightGBM:\\n\")\n",
    "\n",
    "\n",
    "for score in scoring:\n",
    "    print(f\"{score.capitalize()} (mean): {cv_lgbm_results['test_' + score].mean():.2f}\")\n",
    "    print(f\"All fold {score} scores: {cv_lgbm_results['test_' + score]}\")\n",
    "    print(\"---\")"
   ]
  },
  {
   "cell_type": "code",
   "execution_count": 191,
   "id": "a8b3e028-bb9c-465e-abbc-34a44f1049e0",
   "metadata": {},
   "outputs": [
    {
     "name": "stdout",
     "output_type": "stream",
     "text": [
      "New Features + scaling sonrası Random Forest:\n",
      "\n",
      "Accuracy (mean): 0.76\n",
      "All fold accuracy scores: [0.74025974 0.74025974 0.75974026 0.81045752 0.74509804]\n",
      "---\n",
      "Recall (mean): 0.58\n",
      "All fold recall scores: [0.61111111 0.64814815 0.5        0.62264151 0.52830189]\n",
      "---\n",
      "Precision (mean): 0.69\n",
      "All fold precision scores: [0.63461538 0.625      0.72972973 0.78571429 0.66666667]\n",
      "---\n",
      "F1 (mean): 0.63\n",
      "All fold f1 scores: [0.62264151 0.63636364 0.59340659 0.69473684 0.58947368]\n",
      "---\n",
      "Roc_auc (mean): 0.82\n",
      "All fold roc_auc scores: [0.80064815 0.79157407 0.85037037 0.87471698 0.8004717 ]\n",
      "---\n"
     ]
    }
   ],
   "source": [
    "\n",
    "scaler = StandardScaler()\n",
    "X_new_cv_scaled = scaler.fit_transform(X_new) #Cross-validation işlemi için veriler tekrar ölçeklendirildi.\n",
    "\n",
    "cv_rf_results = cross_validate(\n",
    "    rf_model_new,\n",
    "    X_new_cv_scaled,   # scaled tüm feature'lar\n",
    "    y_new,             # hedef değişken\n",
    "    cv=5,\n",
    "    scoring=scoring,\n",
    "    return_train_score=False\n",
    ")\n",
    "\n",
    "print(\"New Features + scaling sonrası Random Forest:\\n\")\n",
    "\n",
    "\n",
    "for score in scoring:\n",
    "    print(f\"{score.capitalize()} (mean): {cv_rf_results['test_' + score].mean():.2f}\")\n",
    "    print(f\"All fold {score} scores: {cv_rf_results['test_' + score]}\")\n",
    "    print(\"---\")\n"
   ]
  },
  {
   "cell_type": "markdown",
   "id": "7d2edf61-7582-4488-85e0-860896ff88da",
   "metadata": {},
   "source": [
    "* Modellerimin recall değerini artırmak amacıyla, threshold değerleri azaltılarak recall üzerindeki etkisinin incelenmesi:"
   ]
  },
  {
   "cell_type": "code",
   "execution_count": 217,
   "id": "20eea962-46d5-46d0-88eb-22bd8c810137",
   "metadata": {},
   "outputs": [
    {
     "name": "stdout",
     "output_type": "stream",
     "text": [
      "Threshold: 0.15 | Accuracy: 0.63 | Recall: 0.93 | Precision: 0.49 | F1: 0.64 | AUC: 0.70\n",
      "Threshold: 0.20 | Accuracy: 0.66 | Recall: 0.91 | Precision: 0.52 | F1: 0.66 | AUC: 0.72\n",
      "Threshold: 0.25 | Accuracy: 0.71 | Recall: 0.91 | Precision: 0.56 | F1: 0.69 | AUC: 0.75\n",
      "Threshold: 0.30 | Accuracy: 0.73 | Recall: 0.89 | Precision: 0.58 | F1: 0.71 | AUC: 0.77\n",
      "Threshold: 0.35 | Accuracy: 0.75 | Recall: 0.82 | Precision: 0.62 | F1: 0.70 | AUC: 0.77\n",
      "Threshold: 0.40 | Accuracy: 0.76 | Recall: 0.80 | Precision: 0.63 | F1: 0.70 | AUC: 0.77\n",
      "Threshold: 0.45 | Accuracy: 0.77 | Recall: 0.76 | Precision: 0.65 | F1: 0.70 | AUC: 0.77\n",
      "Threshold: 0.50 | Accuracy: 0.78 | Recall: 0.73 | Precision: 0.68 | F1: 0.70 | AUC: 0.77\n",
      "Threshold: 0.55 | Accuracy: 0.77 | Recall: 0.65 | Precision: 0.69 | F1: 0.67 | AUC: 0.75\n",
      "Threshold: 0.60 | Accuracy: 0.79 | Recall: 0.64 | Precision: 0.74 | F1: 0.69 | AUC: 0.76\n",
      "Threshold: 0.65 | Accuracy: 0.79 | Recall: 0.55 | Precision: 0.79 | F1: 0.65 | AUC: 0.73\n",
      "Threshold: 0.70 | Accuracy: 0.77 | Recall: 0.42 | Precision: 0.85 | F1: 0.56 | AUC: 0.69\n"
     ]
    }
   ],
   "source": [
    "# Random forest modeli için optimal eşik değerini bulma:\n",
    "\n",
    "# Test veri setinde olasılık skorların alınması\n",
    "y_probs = rf_model_new.predict_proba(X_test_new_scaled)[:, 1]  \n",
    "\n",
    "thresholds = np.arange(0.15, 0.75, 0.05) \n",
    "\n",
    "for t in thresholds:\n",
    "    y_pred_custom = (y_probs >= t).astype(int)\n",
    "    print(\n",
    "        f\"Threshold: {t:.2f} \"\n",
    "        f\"| Accuracy: {accuracy_score(y_test_new, y_pred_custom):.2f} \"\n",
    "        f\"| Recall: {recall_score(y_test_new, y_pred_custom):.2f} \"\n",
    "        f\"| Precision: {precision_score(y_test_new, y_pred_custom, zero_division=0):.2f} \"\n",
    "        f\"| F1: {f1_score(y_test_new, y_pred_custom):.2f} \"\n",
    "        f\"| AUC: {roc_auc_score(y_test_new, y_pred_custom):.2f}\"\n",
    "    )"
   ]
  },
  {
   "cell_type": "markdown",
   "id": "737403ac-3e3c-416d-a0af-fd7aec4ecee0",
   "metadata": {},
   "source": [
    "Threshold değeri 0.15’e çekildiğinde, model tüm gerçek hastaların %93’ünü başarıyla tespit edebilmektedir (recall=0.93). Ancak, hasta olarak sınıflandırılan bireylerin yalnızca %49’u gerçekten hastadır (precision=0.49). Bu durum, modelin birçok sağlıklı bireyi de yanlışlıkla hasta olarak etiketlemesine yol açmaktadır."
   ]
  },
  {
   "cell_type": "code",
   "execution_count": 219,
   "id": "1461f977-1470-480d-bb09-53d42fe35daf",
   "metadata": {},
   "outputs": [
    {
     "name": "stdout",
     "output_type": "stream",
     "text": [
      "Threshold: 0.15 | Accuracy: 0.62 | Recall: 0.95 | Precision: 0.49 | F1: 0.64 | AUC: 0.69\n",
      "Threshold: 0.20 | Accuracy: 0.66 | Recall: 0.89 | Precision: 0.52 | F1: 0.65 | AUC: 0.71\n",
      "Threshold: 0.25 | Accuracy: 0.68 | Recall: 0.80 | Precision: 0.53 | F1: 0.64 | AUC: 0.70\n",
      "Threshold: 0.30 | Accuracy: 0.71 | Recall: 0.78 | Precision: 0.57 | F1: 0.66 | AUC: 0.72\n",
      "Threshold: 0.35 | Accuracy: 0.71 | Recall: 0.71 | Precision: 0.57 | F1: 0.63 | AUC: 0.71\n",
      "Threshold: 0.40 | Accuracy: 0.72 | Recall: 0.69 | Precision: 0.59 | F1: 0.64 | AUC: 0.71\n",
      "Threshold: 0.45 | Accuracy: 0.74 | Recall: 0.67 | Precision: 0.63 | F1: 0.65 | AUC: 0.73\n",
      "Threshold: 0.50 | Accuracy: 0.77 | Recall: 0.64 | Precision: 0.69 | F1: 0.66 | AUC: 0.74\n",
      "Threshold: 0.55 | Accuracy: 0.77 | Recall: 0.60 | Precision: 0.70 | F1: 0.65 | AUC: 0.73\n",
      "Threshold: 0.60 | Accuracy: 0.79 | Recall: 0.58 | Precision: 0.78 | F1: 0.67 | AUC: 0.75\n",
      "Threshold: 0.65 | Accuracy: 0.80 | Recall: 0.56 | Precision: 0.82 | F1: 0.67 | AUC: 0.75\n",
      "Threshold: 0.70 | Accuracy: 0.77 | Recall: 0.49 | Precision: 0.79 | F1: 0.61 | AUC: 0.71\n"
     ]
    }
   ],
   "source": [
    "# Lojistik regresyon için optimal eşik değerini bulma:\n",
    "\n",
    "\n",
    "y_probs_lg = model.predict_proba(X_test)[:, 1]\n",
    "\n",
    "\n",
    "for t in thresholds:\n",
    "    y_pred_log = (y_probs_lg >= t).astype(int)\n",
    "    print(\n",
    "        f\"Threshold: {t:.2f} \"\n",
    "        f\"| Accuracy: {accuracy_score(y_test, y_pred_log):.2f} \"\n",
    "        f\"| Recall: {recall_score(y_test,y_pred_log):.2f} \"\n",
    "        f\"| Precision: {precision_score(y_test, y_pred_log, zero_division=0):.2f} \"\n",
    "        f\"| F1: {f1_score(y_test, y_pred_log):.2f} \"\n",
    "        f\"| AUC: {roc_auc_score(y_test, y_pred_log):.2f}\"\n",
    "    )"
   ]
  },
  {
   "cell_type": "code",
   "execution_count": 221,
   "id": "f36c31a7-6d80-48b0-9486-fbc114b92381",
   "metadata": {},
   "outputs": [
    {
     "name": "stdout",
     "output_type": "stream",
     "text": [
      "Threshold: 0.15 | Accuracy: 0.71 | Recall: 0.87 | Precision: 0.56 | F1: 0.69 | AUC: 0.75\n",
      "Threshold: 0.20 | Accuracy: 0.73 | Recall: 0.87 | Precision: 0.58 | F1: 0.70 | AUC: 0.76\n",
      "Threshold: 0.25 | Accuracy: 0.75 | Recall: 0.87 | Precision: 0.61 | F1: 0.72 | AUC: 0.78\n",
      "Threshold: 0.30 | Accuracy: 0.75 | Recall: 0.87 | Precision: 0.61 | F1: 0.72 | AUC: 0.78\n",
      "Threshold: 0.35 | Accuracy: 0.77 | Recall: 0.85 | Precision: 0.63 | F1: 0.72 | AUC: 0.79\n",
      "Threshold: 0.40 | Accuracy: 0.75 | Recall: 0.82 | Precision: 0.62 | F1: 0.70 | AUC: 0.77\n",
      "Threshold: 0.45 | Accuracy: 0.75 | Recall: 0.78 | Precision: 0.61 | F1: 0.69 | AUC: 0.75\n",
      "Threshold: 0.50 | Accuracy: 0.77 | Recall: 0.76 | Precision: 0.65 | F1: 0.70 | AUC: 0.77\n",
      "Threshold: 0.55 | Accuracy: 0.75 | Recall: 0.71 | Precision: 0.64 | F1: 0.67 | AUC: 0.74\n",
      "Threshold: 0.60 | Accuracy: 0.75 | Recall: 0.65 | Precision: 0.64 | F1: 0.65 | AUC: 0.73\n",
      "Threshold: 0.65 | Accuracy: 0.73 | Recall: 0.60 | Precision: 0.63 | F1: 0.62 | AUC: 0.70\n",
      "Threshold: 0.70 | Accuracy: 0.73 | Recall: 0.56 | Precision: 0.63 | F1: 0.60 | AUC: 0.69\n"
     ]
    }
   ],
   "source": [
    "# LightGBM için optimal eşik değerini bulma:\n",
    "\n",
    "y_probs_lgbm= lgbm_model.predict_proba(X_test)[:, 1]\n",
    "\n",
    "for t in thresholds:\n",
    "    y_pred_lgbm_tresh = (y_probs_lgbm >= t).astype(int)\n",
    "    print(\n",
    "        f\"Threshold: {t:.2f} \"\n",
    "        f\"| Accuracy: {accuracy_score(y_test, y_pred_lgbm_tresh):.2f} \"\n",
    "        f\"| Recall: {recall_score(y_test,y_pred_lgbm_tresh):.2f} \"\n",
    "        f\"| Precision: {precision_score(y_test, y_pred_lgbm_tresh, zero_division=0):.2f} \"\n",
    "        f\"| F1: {f1_score(y_test, y_pred_lgbm_tresh):.2f} \"\n",
    "        f\"| AUC: {roc_auc_score(y_test,y_pred_lgbm_tresh):.2f}\"\n",
    "    )"
   ]
  },
  {
   "cell_type": "markdown",
   "id": "31874f7d-3a86-44d0-9f65-8eec4fe0f9a3",
   "metadata": {},
   "source": [
    " LightGBM için treshold=35 oldukça dengeli gözükmektedir."
   ]
  },
  {
   "cell_type": "code",
   "execution_count": 306,
   "id": "18395f6d-6e58-4f3d-9c8f-1ae75806f6b9",
   "metadata": {},
   "outputs": [
    {
     "name": "stdout",
     "output_type": "stream",
     "text": [
      "Threshold: 0.15 | Accuracy: 0.59 | Recall: 0.91 | Precision: 0.46 | F1: 0.61 | AUC: 0.66\n",
      "Threshold: 0.20 | Accuracy: 0.59 | Recall: 0.91 | Precision: 0.46 | F1: 0.61 | AUC: 0.66\n",
      "Threshold: 0.25 | Accuracy: 0.69 | Recall: 0.84 | Precision: 0.55 | F1: 0.66 | AUC: 0.73\n",
      "Threshold: 0.30 | Accuracy: 0.69 | Recall: 0.84 | Precision: 0.55 | F1: 0.66 | AUC: 0.73\n",
      "Threshold: 0.35 | Accuracy: 0.69 | Recall: 0.84 | Precision: 0.55 | F1: 0.66 | AUC: 0.73\n",
      "Threshold: 0.40 | Accuracy: 0.77 | Recall: 0.67 | Precision: 0.67 | F1: 0.67 | AUC: 0.75\n",
      "Threshold: 0.45 | Accuracy: 0.77 | Recall: 0.67 | Precision: 0.67 | F1: 0.67 | AUC: 0.75\n",
      "Threshold: 0.50 | Accuracy: 0.77 | Recall: 0.67 | Precision: 0.67 | F1: 0.67 | AUC: 0.75\n",
      "Threshold: 0.55 | Accuracy: 0.77 | Recall: 0.67 | Precision: 0.67 | F1: 0.67 | AUC: 0.75\n",
      "Threshold: 0.60 | Accuracy: 0.71 | Recall: 0.33 | Precision: 0.72 | F1: 0.45 | AUC: 0.63\n",
      "Threshold: 0.65 | Accuracy: 0.71 | Recall: 0.33 | Precision: 0.72 | F1: 0.45 | AUC: 0.63\n",
      "Threshold: 0.70 | Accuracy: 0.71 | Recall: 0.33 | Precision: 0.72 | F1: 0.45 | AUC: 0.63\n"
     ]
    }
   ],
   "source": [
    "# KNN için optimal eşik değerini bulma:\n",
    "\n",
    "y_probs_knn = knn_model_new.predict_proba(X_test_new_scaled)[:, 1]  \n",
    "\n",
    "for t in thresholds:\n",
    "    y_pred_knn_tresh = (y_probs_knn >= t).astype(int)\n",
    "    print(\n",
    "        f\"Threshold: {t:.2f} \"\n",
    "        f\"| Accuracy: {accuracy_score(y_test_new, y_pred_knn_tresh):.2f} \"\n",
    "        f\"| Recall: {recall_score(y_test_new, y_pred_knn_tresh):.2f} \"\n",
    "        f\"| Precision: {precision_score(y_test_new, y_pred_knn_tresh, zero_division=0):.2f} \"\n",
    "        f\"| F1: {f1_score(y_test_new, y_pred_knn_tresh):.2f} \"\n",
    "        f\"| AUC: {roc_auc_score(y_test_new, y_pred_knn_tresh):.2f}\"\n",
    "    )\n"
   ]
  },
  {
   "cell_type": "markdown",
   "id": "0732e8c5-3521-4a73-8a55-4f6bf47a1dce",
   "metadata": {},
   "source": [
    "Optimum eşik değeri ve model seçimi, uygulamanın riskine, önceliklerine ve amacına bağlı olarak değişmektedir.\n",
    "Recall: Modelin pozitifleri (hasta olanlar) kaçırmama becerisini gösterir, ama tek başına genel başarıyı göstermez.\n",
    "Gerçek başarı, modelin tüm metriklerde dengeli performans göstermesidir.\n",
    "Sağlık gibi alanlarda recall çok önemlidir, ama yanlış pozitiflerin sayısı (precision) da göz ardı edilmemelidir."
   ]
  },
  {
   "cell_type": "markdown",
   "id": "082e2438-98ab-4929-8639-9420dadb0505",
   "metadata": {},
   "source": [
    "NOT: Kullandığım modellerde hep random state=42 oranıyla işlem yaptım. \n",
    "Modelin farklı veri bölmelerinde, nasıl performans gösterdiğini anlamak ve daha güvenilir bir başarı metriği elde etmek için 5 katlı çapraz doğrulama (5-Fold Cross Validation) yapmak faydalı olacaktır."
   ]
  },
  {
   "cell_type": "code",
   "execution_count": 304,
   "id": "d6eca423-7753-4eb7-a514-b5cdb67aabdf",
   "metadata": {},
   "outputs": [
    {
     "name": "stdout",
     "output_type": "stream",
     "text": [
      "Threshold: 0.15\n",
      "Accuracy (mean): 0.72 | All folds: [0.75 0.74 0.73 0.72 0.67]\n",
      "Recall   (mean): 0.82 | All folds: [0.89 0.74 0.81 0.83 0.83]\n",
      "Precision(mean): 0.57 | All folds: [0.59 0.61 0.58 0.56 0.52]\n",
      "F1      (mean): 0.67 | All folds: [0.71 0.67 0.68 0.67 0.64]\n",
      "AUC     (mean): 0.74 | All folds: [0.78 0.74 0.75 0.75 0.71]\n"
     ]
    }
   ],
   "source": [
    "from sklearn.model_selection import StratifiedKFold\n",
    "\n",
    "# LightGBM için 5-Fold Cross Validation\n",
    "\n",
    "threshold = 0.15\n",
    "n_splits = 5\n",
    "\n",
    "accs, recalls, precisions, f1s, aucs = [], [], [], [], []\n",
    "\n",
    "skf = StratifiedKFold(n_splits=n_splits, shuffle=True, random_state=42)\n",
    "\n",
    "for train_idx, test_idx in skf.split(X, y):\n",
    "    X_tr, X_te = X.iloc[train_idx], X.iloc[test_idx]\n",
    "    y_tr, y_te = y.iloc[train_idx], y.iloc[test_idx]\n",
    "    \n",
    "    lgbm = lgb.LGBMClassifier()\n",
    "    lgbm.fit(X_tr, y_tr)\n",
    "    \n",
    "    y_probs = lgbm.predict_proba(X_te)[:, 1]\n",
    "    y_pred = (y_probs >= threshold).astype(int)\n",
    "    \n",
    "    accs.append(accuracy_score(y_te, y_pred))\n",
    "    recalls.append(recall_score(y_te, y_pred))\n",
    "    precisions.append(precision_score(y_te, y_pred, zero_division=0))\n",
    "    f1s.append(f1_score(y_te, y_pred))\n",
    "    aucs.append(roc_auc_score(y_te, y_pred))\n",
    "\n",
    "print(f\"Threshold: {threshold}\")\n",
    "print(f\"Accuracy (mean): {np.mean(accs):.2f} | All folds: {np.round(accs, 2)}\")\n",
    "print(f\"Recall   (mean): {np.mean(recalls):.2f} | All folds: {np.round(recalls, 2)}\")\n",
    "print(f\"Precision(mean): {np.mean(precisions):.2f} | All folds: {np.round(precisions, 2)}\")\n",
    "print(f\"F1      (mean): {np.mean(f1s):.2f} | All folds: {np.round(f1s, 2)}\")\n",
    "print(f\"AUC     (mean): {np.mean(aucs):.2f} | All folds: {np.round(aucs, 2)}\")"
   ]
  },
  {
   "cell_type": "code",
   "execution_count": 267,
   "id": "1edc2cf3-d1b8-4ef6-a1b5-455f4d7ed75e",
   "metadata": {},
   "outputs": [],
   "source": [
    "# Threshold 0.35 olduğunda:\n",
    "\n",
    "# Accuracy (mean): 0.74 | All folds: [0.79 0.74 0.77 0.72 0.71]\n",
    "# Recall   (mean): 0.69 | All folds: [0.76 0.63 0.69 0.68 0.68]\n",
    "# Precision(mean): 0.62 | All folds: [0.68 0.63 0.66 0.58 0.56]\n",
    "# F1      (mean): 0.65 | All folds: [0.72 0.63 0.67 0.63 0.62]\n",
    "# AUC     (mean): 0.73 | All folds: [0.78 0.71 0.75 0.71 0.7]\n"
   ]
  },
  {
   "cell_type": "code",
   "execution_count": 275,
   "id": "c522b6ec-56d1-48c2-b0fa-af13fafb906b",
   "metadata": {},
   "outputs": [
    {
     "name": "stdout",
     "output_type": "stream",
     "text": [
      "Threshold: 0.2\n",
      "Accuracy (mean): 0.67 | All folds: [0.67 0.72 0.65 0.69 0.64]\n",
      "Recall   (mean): 0.92 | All folds: [0.94 0.89 0.94 0.85 0.96]\n",
      "Precision(mean): 0.52 | All folds: [0.52 0.56 0.5  0.53 0.49]\n",
      "F1      (mean): 0.66 | All folds: [0.67 0.69 0.65 0.65 0.65]\n",
      "AUC     (mean): 0.73 | All folds: [0.73 0.76 0.72 0.72 0.72]\n"
     ]
    }
   ],
   "source": [
    "# Lojistik regresyon için 5-Fold Cross Validation\n",
    "\n",
    "threshold = 0.20\n",
    "n_splits = 5\n",
    "\n",
    "accs, recalls, precisions, f1s, aucs = [], [], [], [], []\n",
    "\n",
    "skf = StratifiedKFold(n_splits=n_splits, shuffle=True, random_state=42)\n",
    "\n",
    "for train_idx, test_idx in skf.split(X, y):\n",
    "    X_tr, X_te = X.iloc[train_idx], X.iloc[test_idx]\n",
    "    y_tr, y_te = y.iloc[train_idx], y.iloc[test_idx]\n",
    "\n",
    "    model = LogisticRegression()\n",
    "    model.fit(X_tr, y_tr)\n",
    "\n",
    "    y_probs = model.predict_proba(X_te)[:, 1]\n",
    "    y_pred = (y_probs >= threshold).astype(int)\n",
    "\n",
    "    accs.append(accuracy_score(y_te, y_pred))\n",
    "    recalls.append(recall_score(y_te, y_pred))\n",
    "    precisions.append(precision_score(y_te, y_pred, zero_division=0))\n",
    "    f1s.append(f1_score(y_te, y_pred))\n",
    "    aucs.append(roc_auc_score(y_te, y_pred))\n",
    "\n",
    "print(f\"Threshold: {threshold}\")\n",
    "print(f\"Accuracy (mean): {np.mean(accs):.2f} | All folds: {np.round(accs, 2)}\")\n",
    "print(f\"Recall   (mean): {np.mean(recalls):.2f} | All folds: {np.round(recalls, 2)}\")\n",
    "print(f\"Precision(mean): {np.mean(precisions):.2f} | All folds: {np.round(precisions, 2)}\")\n",
    "print(f\"F1      (mean): {np.mean(f1s):.2f} | All folds: {np.round(f1s, 2)}\")\n",
    "print(f\"AUC     (mean): {np.mean(aucs):.2f} | All folds: {np.round(aucs, 2)}\")"
   ]
  },
  {
   "cell_type": "code",
   "execution_count": 271,
   "id": "2b16a7e5-41e8-4d9c-b196-20d58061bea1",
   "metadata": {},
   "outputs": [],
   "source": [
    "\n",
    "# Threshold 0.15 olduğunda:\n",
    "\n",
    "#Accuracy (mean): 0.63 | All folds: [0.65 0.66 0.59 0.67 0.56]\n",
    "#Recall   (mean): 0.96 | All folds: [0.98 0.94 0.96 0.96 0.96]\n",
    "#Precision(mean): 0.48 | All folds: [0.5  0.51 0.46 0.51 0.44]\n",
    "#F1      (mean): 0.64 | All folds: [0.66 0.66 0.62 0.67 0.6 ]\n",
    "#AUC     (mean): 0.70 | All folds: [0.73 0.73 0.68 0.74 0.66]\n",
    "\n",
    "# Threshold 0.20, modelin başarısı açısından threshold 0.15’ten daha iyidir.\n",
    "# Çünkü neredeyse aynı yüksek recall ile, çok daha yüksek doğruluk, precision ve F1 skoruna ulaşıyor.\n"
   ]
  },
  {
   "cell_type": "code",
   "execution_count": 296,
   "id": "be538f55-7bb8-4971-9bb0-a2eb9de09474",
   "metadata": {},
   "outputs": [
    {
     "name": "stdout",
     "output_type": "stream",
     "text": [
      "Threshold: 0.35\n",
      "Accuracy (mean): 0.75 | All folds: [0.78 0.77 0.77 0.76 0.66]\n",
      "Recall   (mean): 0.82 | All folds: [0.87 0.74 0.81 0.85 0.81]\n",
      "Precision(mean): 0.61 | All folds: [0.64 0.66 0.63 0.62 0.51]\n",
      "F1      (mean): 0.70 | All folds: [0.73 0.7  0.71 0.71 0.62]\n",
      "AUC     (mean): 0.76 | All folds: [0.8  0.77 0.78 0.78 0.7 ]\n"
     ]
    }
   ],
   "source": [
    "# RandomForestClassifier için 5-Fold Cross Validation\n",
    "\n",
    "\n",
    "threshold = 0.35  \n",
    "n_splits = 5      \n",
    "\n",
    "accs, recalls, precisions, f1s, aucs = [], [], [], [], []\n",
    "\n",
    "skf = StratifiedKFold(n_splits=n_splits, shuffle=True, random_state=42)\n",
    "\n",
    "for train_idx, test_idx in skf.split(X_new, y_new):\n",
    "    X_tr, X_te = X_new.iloc[train_idx], X_new.iloc[test_idx]\n",
    "    y_tr, y_te = y_new.iloc[train_idx], y_new.iloc[test_idx]\n",
    "\n",
    "\n",
    "    scaler = StandardScaler()\n",
    "    X_tr_scaled = scaler.fit_transform(X_tr)\n",
    "    X_te_scaled = scaler.transform(X_te)\n",
    "\n",
    "    rf = RandomForestClassifier(random_state=42)\n",
    "    rf.fit(X_tr_scaled, y_tr)\n",
    "\n",
    "\n",
    "    y_probs = rf.predict_proba(X_te_scaled)[:, 1]\n",
    "    y_pred = (y_probs >= threshold).astype(int)\n",
    "\n",
    "    accs.append(accuracy_score(y_te, y_pred))\n",
    "    recalls.append(recall_score(y_te, y_pred))\n",
    "    precisions.append(precision_score(y_te, y_pred, zero_division=0))\n",
    "    f1s.append(f1_score(y_te, y_pred))\n",
    "    aucs.append(roc_auc_score(y_te, y_pred))\n",
    "\n",
    "print(f\"Threshold: {threshold}\")\n",
    "print(f\"Accuracy (mean): {np.mean(accs):.2f} | All folds: {np.round(accs, 2)}\")\n",
    "print(f\"Recall   (mean): {np.mean(recalls):.2f} | All folds: {np.round(recalls, 2)}\")\n",
    "print(f\"Precision(mean): {np.mean(precisions):.2f} | All folds: {np.round(precisions, 2)}\")\n",
    "print(f\"F1      (mean): {np.mean(f1s):.2f} | All folds: {np.round(f1s, 2)}\")\n",
    "print(f\"AUC     (mean): {np.mean(aucs):.2f} | All folds: {np.round(aucs, 2)}\")"
   ]
  },
  {
   "cell_type": "markdown",
   "id": "d00e821d-ffc3-40f1-87b2-55d332ce687f",
   "metadata": {},
   "source": [
    "* Random Forest (Threshold 0.35), LightGBM (Threshold 0.15)'e göre metriklerde daha yüksek performans göstermektedir.\n",
    "* Recall eşit; fakat RF’nin accuracy, precision, F1 ve AUC değerleri daha yüksek.\n",
    "* Bu nedenle, Random Forest daha iyi bir seçimdir.\n",
    "\n",
    "LightGBM (Threshold 0.15):\n",
    "\n",
    "* Accuracy (mean): 0.72 | All folds: [0.75 0.74 0.73 0.72 0.67]\n",
    "* Recall   (mean): 0.82 | All folds: [0.89 0.74 0.81 0.83 0.83]\n",
    "* Precision(mean): 0.57 | All folds: [0.59 0.61 0.58 0.56 0.52]\n",
    "* F1      (mean): 0.67 | All folds: [0.71 0.67 0.68 0.67 0.64]\n",
    "* AUC     (mean): 0.74 | All folds: [0.78 0.74 0.75 0.75 0.71]"
   ]
  },
  {
   "cell_type": "markdown",
   "id": "d55df7e5-5a2e-47ed-b8b6-cf5afc012554",
   "metadata": {},
   "source": [
    "Eşik değerli tüm çapraz doğrulama sonuçları değerlendirildiğinde, en iyi genel performansın Random Forest modeliyle (Threshold 0.35) elde edildiği görülmektedir. Bu model; Accuracy, Precision, F1 ve AUC metriklerinde en yüksek değerlere ulaşarak diğer modellerin önüne geçmiştir. Recall değeri ise LightGBM ile aynı seviyede (%82) olup, lojistik regresyon modelinden (%92) bir miktar düşük olsa da, Random Forest modelinin genel başarı ve denge açısından daha üstün olduğu anlaşılmaktadır. Ayrıca, yapılan tüm işlemler (yeni feature oluşturma, ölçeklendirme vb.) Random Forest modelinin veriden daha iyi anlam çıkarmasını sağlamış ve model performansını güçlendirmiştir."
   ]
  },
  {
   "cell_type": "code",
   "execution_count": null,
   "id": "ad24ab76-6035-47b8-8416-60c59c4070d8",
   "metadata": {},
   "outputs": [],
   "source": []
  }
 ],
 "metadata": {
  "kernelspec": {
   "display_name": "Python 3 (ipykernel)",
   "language": "python",
   "name": "python3"
  },
  "language_info": {
   "codemirror_mode": {
    "name": "ipython",
    "version": 3
   },
   "file_extension": ".py",
   "mimetype": "text/x-python",
   "name": "python",
   "nbconvert_exporter": "python",
   "pygments_lexer": "ipython3",
   "version": "3.12.4"
  }
 },
 "nbformat": 4,
 "nbformat_minor": 5
}
