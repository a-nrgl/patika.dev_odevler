{
 "cells": [
  {
   "cell_type": "code",
   "execution_count": null,
   "id": "8fb964e4-6913-44b7-9863-e22f325cb9d8",
   "metadata": {},
   "outputs": [],
   "source": [
    "# Çalışmada kullanılan veri seti aşağıdaki kaynaktan alınmıştır.\n",
    "\n",
    "#https://www.kaggle.com/datasets/imdevskp/corona-virus-report/data?select=covid_19_clean_complete.csv\n"
   ]
  },
  {
   "cell_type": "code",
   "execution_count": 1,
   "id": "6510d102-5821-4403-98c8-8c4577c5185f",
   "metadata": {},
   "outputs": [],
   "source": [
    "import numpy as np\n",
    "import pandas as pd\n",
    "import matplotlib.pyplot as plt\n",
    "import seaborn as sns\n",
    "import warnings"
   ]
  },
  {
   "cell_type": "code",
   "execution_count": 3,
   "id": "bb8f60c1-e9d9-40c6-b99b-23a7733a869e",
   "metadata": {},
   "outputs": [],
   "source": [
    "path=r'C:\\Users\\Lenovo\\Desktop\\covid_19_clean_complete.csv'\n",
    "df=pd.read_csv(path)"
   ]
  },
  {
   "cell_type": "code",
   "execution_count": 5,
   "id": "59990d7e-a2ca-4716-be2c-da9c21a48900",
   "metadata": {},
   "outputs": [
    {
     "name": "stdout",
     "output_type": "stream",
     "text": [
      "<class 'pandas.core.frame.DataFrame'>\n",
      "RangeIndex: 49068 entries, 0 to 49067\n",
      "Data columns (total 10 columns):\n",
      " #   Column          Non-Null Count  Dtype  \n",
      "---  ------          --------------  -----  \n",
      " 0   Province/State  14664 non-null  object \n",
      " 1   Country/Region  49068 non-null  object \n",
      " 2   Lat             49068 non-null  float64\n",
      " 3   Long            49068 non-null  float64\n",
      " 4   Date            49068 non-null  object \n",
      " 5   Confirmed       49068 non-null  int64  \n",
      " 6   Deaths          49068 non-null  int64  \n",
      " 7   Recovered       49068 non-null  int64  \n",
      " 8   Active          49068 non-null  int64  \n",
      " 9   WHO Region      49068 non-null  object \n",
      "dtypes: float64(2), int64(4), object(4)\n",
      "memory usage: 3.7+ MB\n"
     ]
    }
   ],
   "source": [
    "df.info()"
   ]
  },
  {
   "cell_type": "markdown",
   "id": "4f39bdd1-bc36-45d5-8951-4697257addd6",
   "metadata": {},
   "source": [
    "* Lat (Latitude of the location): bir konumun enlemi\n",
    "* Long (Longitude of the location): bir konumun boylamı\n",
    "* Date(Date of cumulative report): kümülatif raporun tarihini gösterir\n",
    "* Confirmed (Cumulative number of confirmed cases till this day): kümülatif onaylanmış Covid-19 vaka sayısı\n",
    "* Deaths (Cumulative number of deaths till this day): toplam Covid-19 kaynaklı ölüm sayısı \n",
    "* Recovered (Cumulative number of recovered cases till this day): iyileşmiş toplam Covid-19 vakalarının sayısı\n",
    "* Active: hastalığı geçirmekte olan toplam kişi sayısı\n",
    "\n",
    "Açıklamalar veri seti kaynağının detail kısmından alınmıştır."
   ]
  },
  {
   "cell_type": "code",
   "execution_count": 8,
   "id": "3dd05bdb-8c84-49bf-a755-cdc6c9067d5f",
   "metadata": {},
   "outputs": [
    {
     "data": {
      "text/html": [
       "<div>\n",
       "<style scoped>\n",
       "    .dataframe tbody tr th:only-of-type {\n",
       "        vertical-align: middle;\n",
       "    }\n",
       "\n",
       "    .dataframe tbody tr th {\n",
       "        vertical-align: top;\n",
       "    }\n",
       "\n",
       "    .dataframe thead th {\n",
       "        text-align: right;\n",
       "    }\n",
       "</style>\n",
       "<table border=\"1\" class=\"dataframe\">\n",
       "  <thead>\n",
       "    <tr style=\"text-align: right;\">\n",
       "      <th></th>\n",
       "      <th>Province/State</th>\n",
       "      <th>Country/Region</th>\n",
       "      <th>Lat</th>\n",
       "      <th>Long</th>\n",
       "      <th>Date</th>\n",
       "      <th>Confirmed</th>\n",
       "      <th>Deaths</th>\n",
       "      <th>Recovered</th>\n",
       "      <th>Active</th>\n",
       "      <th>WHO Region</th>\n",
       "    </tr>\n",
       "  </thead>\n",
       "  <tbody>\n",
       "    <tr>\n",
       "      <th>0</th>\n",
       "      <td>NaN</td>\n",
       "      <td>Afghanistan</td>\n",
       "      <td>33.93911</td>\n",
       "      <td>67.709953</td>\n",
       "      <td>2020-01-22</td>\n",
       "      <td>0</td>\n",
       "      <td>0</td>\n",
       "      <td>0</td>\n",
       "      <td>0</td>\n",
       "      <td>Eastern Mediterranean</td>\n",
       "    </tr>\n",
       "    <tr>\n",
       "      <th>1</th>\n",
       "      <td>NaN</td>\n",
       "      <td>Albania</td>\n",
       "      <td>41.15330</td>\n",
       "      <td>20.168300</td>\n",
       "      <td>2020-01-22</td>\n",
       "      <td>0</td>\n",
       "      <td>0</td>\n",
       "      <td>0</td>\n",
       "      <td>0</td>\n",
       "      <td>Europe</td>\n",
       "    </tr>\n",
       "    <tr>\n",
       "      <th>2</th>\n",
       "      <td>NaN</td>\n",
       "      <td>Algeria</td>\n",
       "      <td>28.03390</td>\n",
       "      <td>1.659600</td>\n",
       "      <td>2020-01-22</td>\n",
       "      <td>0</td>\n",
       "      <td>0</td>\n",
       "      <td>0</td>\n",
       "      <td>0</td>\n",
       "      <td>Africa</td>\n",
       "    </tr>\n",
       "    <tr>\n",
       "      <th>3</th>\n",
       "      <td>NaN</td>\n",
       "      <td>Andorra</td>\n",
       "      <td>42.50630</td>\n",
       "      <td>1.521800</td>\n",
       "      <td>2020-01-22</td>\n",
       "      <td>0</td>\n",
       "      <td>0</td>\n",
       "      <td>0</td>\n",
       "      <td>0</td>\n",
       "      <td>Europe</td>\n",
       "    </tr>\n",
       "    <tr>\n",
       "      <th>4</th>\n",
       "      <td>NaN</td>\n",
       "      <td>Angola</td>\n",
       "      <td>-11.20270</td>\n",
       "      <td>17.873900</td>\n",
       "      <td>2020-01-22</td>\n",
       "      <td>0</td>\n",
       "      <td>0</td>\n",
       "      <td>0</td>\n",
       "      <td>0</td>\n",
       "      <td>Africa</td>\n",
       "    </tr>\n",
       "    <tr>\n",
       "      <th>5</th>\n",
       "      <td>NaN</td>\n",
       "      <td>Antigua and Barbuda</td>\n",
       "      <td>17.06080</td>\n",
       "      <td>-61.796400</td>\n",
       "      <td>2020-01-22</td>\n",
       "      <td>0</td>\n",
       "      <td>0</td>\n",
       "      <td>0</td>\n",
       "      <td>0</td>\n",
       "      <td>Americas</td>\n",
       "    </tr>\n",
       "    <tr>\n",
       "      <th>6</th>\n",
       "      <td>NaN</td>\n",
       "      <td>Argentina</td>\n",
       "      <td>-38.41610</td>\n",
       "      <td>-63.616700</td>\n",
       "      <td>2020-01-22</td>\n",
       "      <td>0</td>\n",
       "      <td>0</td>\n",
       "      <td>0</td>\n",
       "      <td>0</td>\n",
       "      <td>Americas</td>\n",
       "    </tr>\n",
       "    <tr>\n",
       "      <th>7</th>\n",
       "      <td>NaN</td>\n",
       "      <td>Armenia</td>\n",
       "      <td>40.06910</td>\n",
       "      <td>45.038200</td>\n",
       "      <td>2020-01-22</td>\n",
       "      <td>0</td>\n",
       "      <td>0</td>\n",
       "      <td>0</td>\n",
       "      <td>0</td>\n",
       "      <td>Europe</td>\n",
       "    </tr>\n",
       "    <tr>\n",
       "      <th>8</th>\n",
       "      <td>Australian Capital Territory</td>\n",
       "      <td>Australia</td>\n",
       "      <td>-35.47350</td>\n",
       "      <td>149.012400</td>\n",
       "      <td>2020-01-22</td>\n",
       "      <td>0</td>\n",
       "      <td>0</td>\n",
       "      <td>0</td>\n",
       "      <td>0</td>\n",
       "      <td>Western Pacific</td>\n",
       "    </tr>\n",
       "    <tr>\n",
       "      <th>9</th>\n",
       "      <td>New South Wales</td>\n",
       "      <td>Australia</td>\n",
       "      <td>-33.86880</td>\n",
       "      <td>151.209300</td>\n",
       "      <td>2020-01-22</td>\n",
       "      <td>0</td>\n",
       "      <td>0</td>\n",
       "      <td>0</td>\n",
       "      <td>0</td>\n",
       "      <td>Western Pacific</td>\n",
       "    </tr>\n",
       "  </tbody>\n",
       "</table>\n",
       "</div>"
      ],
      "text/plain": [
       "                 Province/State       Country/Region       Lat        Long  \\\n",
       "0                           NaN          Afghanistan  33.93911   67.709953   \n",
       "1                           NaN              Albania  41.15330   20.168300   \n",
       "2                           NaN              Algeria  28.03390    1.659600   \n",
       "3                           NaN              Andorra  42.50630    1.521800   \n",
       "4                           NaN               Angola -11.20270   17.873900   \n",
       "5                           NaN  Antigua and Barbuda  17.06080  -61.796400   \n",
       "6                           NaN            Argentina -38.41610  -63.616700   \n",
       "7                           NaN              Armenia  40.06910   45.038200   \n",
       "8  Australian Capital Territory            Australia -35.47350  149.012400   \n",
       "9               New South Wales            Australia -33.86880  151.209300   \n",
       "\n",
       "         Date  Confirmed  Deaths  Recovered  Active             WHO Region  \n",
       "0  2020-01-22          0       0          0       0  Eastern Mediterranean  \n",
       "1  2020-01-22          0       0          0       0                 Europe  \n",
       "2  2020-01-22          0       0          0       0                 Africa  \n",
       "3  2020-01-22          0       0          0       0                 Europe  \n",
       "4  2020-01-22          0       0          0       0                 Africa  \n",
       "5  2020-01-22          0       0          0       0               Americas  \n",
       "6  2020-01-22          0       0          0       0               Americas  \n",
       "7  2020-01-22          0       0          0       0                 Europe  \n",
       "8  2020-01-22          0       0          0       0        Western Pacific  \n",
       "9  2020-01-22          0       0          0       0        Western Pacific  "
      ]
     },
     "execution_count": 8,
     "metadata": {},
     "output_type": "execute_result"
    }
   ],
   "source": [
    "df.head(10)"
   ]
  },
  {
   "cell_type": "code",
   "execution_count": 10,
   "id": "dc3204ab-3b81-47b3-a763-19b1a00c86f1",
   "metadata": {},
   "outputs": [
    {
     "data": {
      "text/plain": [
       "Province/State    34404\n",
       "Country/Region        0\n",
       "Lat                   0\n",
       "Long                  0\n",
       "Date                  0\n",
       "Confirmed             0\n",
       "Deaths                0\n",
       "Recovered             0\n",
       "Active                0\n",
       "WHO Region            0\n",
       "dtype: int64"
      ]
     },
     "execution_count": 10,
     "metadata": {},
     "output_type": "execute_result"
    }
   ],
   "source": [
    "df.isnull().sum()"
   ]
  },
  {
   "cell_type": "code",
   "execution_count": 12,
   "id": "15c82f4f-7378-4bd2-a2ab-1aa68aca9de2",
   "metadata": {},
   "outputs": [],
   "source": [
    "# Analizlerimi ülke-bölge bazlı ilerleteceğim için Province/State, long ve lang sütunlarına ihtiyacım olmayacak. \n",
    "# Bu nedenle df'in bir kopyasını oluşturup belirttiğim sütunları sileceğim."
   ]
  },
  {
   "cell_type": "code",
   "execution_count": 14,
   "id": "ba1ff767-b3c2-4997-9f7b-b7978f3a812b",
   "metadata": {},
   "outputs": [
    {
     "data": {
      "text/plain": [
       "(49068, 7)"
      ]
     },
     "execution_count": 14,
     "metadata": {},
     "output_type": "execute_result"
    }
   ],
   "source": [
    "c_df = df.copy()\n",
    "c_df = c_df.drop([\"Province/State\", \"Lat\", \"Long\"], axis=1)\n",
    "c_df.shape"
   ]
  },
  {
   "cell_type": "code",
   "execution_count": 16,
   "id": "62b3eb9e-6de2-4f99-8bff-007f398fc4cf",
   "metadata": {},
   "outputs": [
    {
     "data": {
      "text/html": [
       "<div>\n",
       "<style scoped>\n",
       "    .dataframe tbody tr th:only-of-type {\n",
       "        vertical-align: middle;\n",
       "    }\n",
       "\n",
       "    .dataframe tbody tr th {\n",
       "        vertical-align: top;\n",
       "    }\n",
       "\n",
       "    .dataframe thead th {\n",
       "        text-align: right;\n",
       "    }\n",
       "</style>\n",
       "<table border=\"1\" class=\"dataframe\">\n",
       "  <thead>\n",
       "    <tr style=\"text-align: right;\">\n",
       "      <th></th>\n",
       "      <th>count</th>\n",
       "      <th>mean</th>\n",
       "      <th>std</th>\n",
       "      <th>min</th>\n",
       "      <th>25%</th>\n",
       "      <th>50%</th>\n",
       "      <th>75%</th>\n",
       "      <th>max</th>\n",
       "    </tr>\n",
       "  </thead>\n",
       "  <tbody>\n",
       "    <tr>\n",
       "      <th>Confirmed</th>\n",
       "      <td>49068.0</td>\n",
       "      <td>16884.904255</td>\n",
       "      <td>127300.205272</td>\n",
       "      <td>0.0</td>\n",
       "      <td>4.0</td>\n",
       "      <td>168.0</td>\n",
       "      <td>1518.25</td>\n",
       "      <td>4290259.0</td>\n",
       "    </tr>\n",
       "    <tr>\n",
       "      <th>Deaths</th>\n",
       "      <td>49068.0</td>\n",
       "      <td>884.179160</td>\n",
       "      <td>6313.584411</td>\n",
       "      <td>0.0</td>\n",
       "      <td>0.0</td>\n",
       "      <td>2.0</td>\n",
       "      <td>30.00</td>\n",
       "      <td>148011.0</td>\n",
       "    </tr>\n",
       "    <tr>\n",
       "      <th>Recovered</th>\n",
       "      <td>49068.0</td>\n",
       "      <td>7915.713479</td>\n",
       "      <td>54800.918731</td>\n",
       "      <td>0.0</td>\n",
       "      <td>0.0</td>\n",
       "      <td>29.0</td>\n",
       "      <td>666.00</td>\n",
       "      <td>1846641.0</td>\n",
       "    </tr>\n",
       "    <tr>\n",
       "      <th>Active</th>\n",
       "      <td>49068.0</td>\n",
       "      <td>8085.011617</td>\n",
       "      <td>76258.903026</td>\n",
       "      <td>-14.0</td>\n",
       "      <td>0.0</td>\n",
       "      <td>26.0</td>\n",
       "      <td>606.00</td>\n",
       "      <td>2816444.0</td>\n",
       "    </tr>\n",
       "  </tbody>\n",
       "</table>\n",
       "</div>"
      ],
      "text/plain": [
       "             count          mean            std   min  25%    50%      75%  \\\n",
       "Confirmed  49068.0  16884.904255  127300.205272   0.0  4.0  168.0  1518.25   \n",
       "Deaths     49068.0    884.179160    6313.584411   0.0  0.0    2.0    30.00   \n",
       "Recovered  49068.0   7915.713479   54800.918731   0.0  0.0   29.0   666.00   \n",
       "Active     49068.0   8085.011617   76258.903026 -14.0  0.0   26.0   606.00   \n",
       "\n",
       "                 max  \n",
       "Confirmed  4290259.0  \n",
       "Deaths      148011.0  \n",
       "Recovered  1846641.0  \n",
       "Active     2816444.0  "
      ]
     },
     "execution_count": 16,
     "metadata": {},
     "output_type": "execute_result"
    }
   ],
   "source": [
    "c_df.describe().T"
   ]
  },
  {
   "cell_type": "code",
   "execution_count": 18,
   "id": "beea0681-50a2-4324-b2dd-f8231e1cf721",
   "metadata": {},
   "outputs": [
    {
     "name": "stdout",
     "output_type": "stream",
     "text": [
      "(18, 7)\n"
     ]
    },
    {
     "data": {
      "text/html": [
       "<div>\n",
       "<style scoped>\n",
       "    .dataframe tbody tr th:only-of-type {\n",
       "        vertical-align: middle;\n",
       "    }\n",
       "\n",
       "    .dataframe tbody tr th {\n",
       "        vertical-align: top;\n",
       "    }\n",
       "\n",
       "    .dataframe thead th {\n",
       "        text-align: right;\n",
       "    }\n",
       "</style>\n",
       "<table border=\"1\" class=\"dataframe\">\n",
       "  <thead>\n",
       "    <tr style=\"text-align: right;\">\n",
       "      <th></th>\n",
       "      <th>Country/Region</th>\n",
       "      <th>Date</th>\n",
       "      <th>Confirmed</th>\n",
       "      <th>Deaths</th>\n",
       "      <th>Recovered</th>\n",
       "      <th>Active</th>\n",
       "      <th>WHO Region</th>\n",
       "    </tr>\n",
       "  </thead>\n",
       "  <tbody>\n",
       "    <tr>\n",
       "      <th>16238</th>\n",
       "      <td>China</td>\n",
       "      <td>2020-03-24</td>\n",
       "      <td>168</td>\n",
       "      <td>6</td>\n",
       "      <td>168</td>\n",
       "      <td>-6</td>\n",
       "      <td>Western Pacific</td>\n",
       "    </tr>\n",
       "    <tr>\n",
       "      <th>16499</th>\n",
       "      <td>China</td>\n",
       "      <td>2020-03-25</td>\n",
       "      <td>168</td>\n",
       "      <td>6</td>\n",
       "      <td>168</td>\n",
       "      <td>-6</td>\n",
       "      <td>Western Pacific</td>\n",
       "    </tr>\n",
       "    <tr>\n",
       "      <th>16760</th>\n",
       "      <td>China</td>\n",
       "      <td>2020-03-26</td>\n",
       "      <td>168</td>\n",
       "      <td>6</td>\n",
       "      <td>168</td>\n",
       "      <td>-6</td>\n",
       "      <td>Western Pacific</td>\n",
       "    </tr>\n",
       "    <tr>\n",
       "      <th>17021</th>\n",
       "      <td>China</td>\n",
       "      <td>2020-03-27</td>\n",
       "      <td>168</td>\n",
       "      <td>6</td>\n",
       "      <td>168</td>\n",
       "      <td>-6</td>\n",
       "      <td>Western Pacific</td>\n",
       "    </tr>\n",
       "    <tr>\n",
       "      <th>17282</th>\n",
       "      <td>China</td>\n",
       "      <td>2020-03-28</td>\n",
       "      <td>168</td>\n",
       "      <td>6</td>\n",
       "      <td>168</td>\n",
       "      <td>-6</td>\n",
       "      <td>Western Pacific</td>\n",
       "    </tr>\n",
       "    <tr>\n",
       "      <th>17543</th>\n",
       "      <td>China</td>\n",
       "      <td>2020-03-29</td>\n",
       "      <td>168</td>\n",
       "      <td>6</td>\n",
       "      <td>168</td>\n",
       "      <td>-6</td>\n",
       "      <td>Western Pacific</td>\n",
       "    </tr>\n",
       "    <tr>\n",
       "      <th>17804</th>\n",
       "      <td>China</td>\n",
       "      <td>2020-03-30</td>\n",
       "      <td>168</td>\n",
       "      <td>6</td>\n",
       "      <td>168</td>\n",
       "      <td>-6</td>\n",
       "      <td>Western Pacific</td>\n",
       "    </tr>\n",
       "    <tr>\n",
       "      <th>18065</th>\n",
       "      <td>China</td>\n",
       "      <td>2020-03-31</td>\n",
       "      <td>168</td>\n",
       "      <td>6</td>\n",
       "      <td>168</td>\n",
       "      <td>-6</td>\n",
       "      <td>Western Pacific</td>\n",
       "    </tr>\n",
       "    <tr>\n",
       "      <th>18326</th>\n",
       "      <td>China</td>\n",
       "      <td>2020-04-01</td>\n",
       "      <td>168</td>\n",
       "      <td>6</td>\n",
       "      <td>168</td>\n",
       "      <td>-6</td>\n",
       "      <td>Western Pacific</td>\n",
       "    </tr>\n",
       "    <tr>\n",
       "      <th>32059</th>\n",
       "      <td>United Kingdom</td>\n",
       "      <td>2020-05-23</td>\n",
       "      <td>558</td>\n",
       "      <td>45</td>\n",
       "      <td>515</td>\n",
       "      <td>-2</td>\n",
       "      <td>Europe</td>\n",
       "    </tr>\n",
       "    <tr>\n",
       "      <th>32320</th>\n",
       "      <td>United Kingdom</td>\n",
       "      <td>2020-05-24</td>\n",
       "      <td>558</td>\n",
       "      <td>45</td>\n",
       "      <td>517</td>\n",
       "      <td>-4</td>\n",
       "      <td>Europe</td>\n",
       "    </tr>\n",
       "    <tr>\n",
       "      <th>32581</th>\n",
       "      <td>United Kingdom</td>\n",
       "      <td>2020-05-25</td>\n",
       "      <td>559</td>\n",
       "      <td>45</td>\n",
       "      <td>517</td>\n",
       "      <td>-3</td>\n",
       "      <td>Europe</td>\n",
       "    </tr>\n",
       "    <tr>\n",
       "      <th>33886</th>\n",
       "      <td>United Kingdom</td>\n",
       "      <td>2020-05-30</td>\n",
       "      <td>560</td>\n",
       "      <td>45</td>\n",
       "      <td>525</td>\n",
       "      <td>-10</td>\n",
       "      <td>Europe</td>\n",
       "    </tr>\n",
       "    <tr>\n",
       "      <th>34147</th>\n",
       "      <td>United Kingdom</td>\n",
       "      <td>2020-05-31</td>\n",
       "      <td>560</td>\n",
       "      <td>45</td>\n",
       "      <td>528</td>\n",
       "      <td>-13</td>\n",
       "      <td>Europe</td>\n",
       "    </tr>\n",
       "    <tr>\n",
       "      <th>34408</th>\n",
       "      <td>United Kingdom</td>\n",
       "      <td>2020-06-01</td>\n",
       "      <td>560</td>\n",
       "      <td>45</td>\n",
       "      <td>528</td>\n",
       "      <td>-13</td>\n",
       "      <td>Europe</td>\n",
       "    </tr>\n",
       "    <tr>\n",
       "      <th>34669</th>\n",
       "      <td>United Kingdom</td>\n",
       "      <td>2020-06-02</td>\n",
       "      <td>560</td>\n",
       "      <td>46</td>\n",
       "      <td>528</td>\n",
       "      <td>-14</td>\n",
       "      <td>Europe</td>\n",
       "    </tr>\n",
       "    <tr>\n",
       "      <th>40080</th>\n",
       "      <td>Liechtenstein</td>\n",
       "      <td>2020-06-23</td>\n",
       "      <td>82</td>\n",
       "      <td>2</td>\n",
       "      <td>81</td>\n",
       "      <td>-1</td>\n",
       "      <td>Europe</td>\n",
       "    </tr>\n",
       "    <tr>\n",
       "      <th>47192</th>\n",
       "      <td>Uganda</td>\n",
       "      <td>2020-07-20</td>\n",
       "      <td>1069</td>\n",
       "      <td>0</td>\n",
       "      <td>1071</td>\n",
       "      <td>-2</td>\n",
       "      <td>Africa</td>\n",
       "    </tr>\n",
       "  </tbody>\n",
       "</table>\n",
       "</div>"
      ],
      "text/plain": [
       "       Country/Region        Date  Confirmed  Deaths  Recovered  Active  \\\n",
       "16238           China  2020-03-24        168       6        168      -6   \n",
       "16499           China  2020-03-25        168       6        168      -6   \n",
       "16760           China  2020-03-26        168       6        168      -6   \n",
       "17021           China  2020-03-27        168       6        168      -6   \n",
       "17282           China  2020-03-28        168       6        168      -6   \n",
       "17543           China  2020-03-29        168       6        168      -6   \n",
       "17804           China  2020-03-30        168       6        168      -6   \n",
       "18065           China  2020-03-31        168       6        168      -6   \n",
       "18326           China  2020-04-01        168       6        168      -6   \n",
       "32059  United Kingdom  2020-05-23        558      45        515      -2   \n",
       "32320  United Kingdom  2020-05-24        558      45        517      -4   \n",
       "32581  United Kingdom  2020-05-25        559      45        517      -3   \n",
       "33886  United Kingdom  2020-05-30        560      45        525     -10   \n",
       "34147  United Kingdom  2020-05-31        560      45        528     -13   \n",
       "34408  United Kingdom  2020-06-01        560      45        528     -13   \n",
       "34669  United Kingdom  2020-06-02        560      46        528     -14   \n",
       "40080   Liechtenstein  2020-06-23         82       2         81      -1   \n",
       "47192          Uganda  2020-07-20       1069       0       1071      -2   \n",
       "\n",
       "            WHO Region  \n",
       "16238  Western Pacific  \n",
       "16499  Western Pacific  \n",
       "16760  Western Pacific  \n",
       "17021  Western Pacific  \n",
       "17282  Western Pacific  \n",
       "17543  Western Pacific  \n",
       "17804  Western Pacific  \n",
       "18065  Western Pacific  \n",
       "18326  Western Pacific  \n",
       "32059           Europe  \n",
       "32320           Europe  \n",
       "32581           Europe  \n",
       "33886           Europe  \n",
       "34147           Europe  \n",
       "34408           Europe  \n",
       "34669           Europe  \n",
       "40080           Europe  \n",
       "47192           Africa  "
      ]
     },
     "execution_count": 18,
     "metadata": {},
     "output_type": "execute_result"
    }
   ],
   "source": [
    "#İstatistiksel özet tablosunda aktive sütununda negatiflik var. Kontrol edilmeli\n",
    "\n",
    "num_cols = [\"Confirmed\", \"Deaths\", \"Recovered\", \"Active\"] #Aktive sütunuyla ilişkili değişkenler\n",
    "\n",
    "# Negatif değer olan satırlar\n",
    "negative_row = (c_df[num_cols] < 0).any(axis=1)\n",
    "\n",
    "negative_df = c_df[negative_row]\n",
    "\n",
    "print(negative_df.shape)\n",
    "\n",
    "negative_df"
   ]
  },
  {
   "cell_type": "markdown",
   "id": "0fad23d9-3e9d-4a83-a0af-d2c44e1c6637",
   "metadata": {},
   "source": [
    "Active cases = Cumulative confirmed cases - (Cumulative recovered cases + Cumulative deaths)\n",
    "\n",
    "Veriler matematiksel olarak formülü sağlar. Ancak, toplam vaka sayısının (confirmed) ölü (deaths) ve iyileşen (recovered) sayılarının toplamından küçük olması gerçekçi değildir. Çünkü toplam vaka sayısı, ölü ve iyileşenlerin toplamından her zaman büyük veya onlara eşit olmalıdır."
   ]
  },
  {
   "cell_type": "code",
   "execution_count": 21,
   "id": "0ecfab03-a399-414f-aa40-d217d5e4f8e4",
   "metadata": {},
   "outputs": [
    {
     "name": "stdout",
     "output_type": "stream",
     "text": [
      "18\n",
      "      Country/Region        Date  Confirmed  Deaths  Recovered  Active  \\\n",
      "16238          China  2020-03-24        168       6        168      -6   \n",
      "16499          China  2020-03-25        168       6        168      -6   \n",
      "16760          China  2020-03-26        168       6        168      -6   \n",
      "17021          China  2020-03-27        168       6        168      -6   \n",
      "17282          China  2020-03-28        168       6        168      -6   \n",
      "\n",
      "            WHO Region  \n",
      "16238  Western Pacific  \n",
      "16499  Western Pacific  \n",
      "16760  Western Pacific  \n",
      "17021  Western Pacific  \n",
      "17282  Western Pacific  \n"
     ]
    }
   ],
   "source": [
    "error_confirmed = c_df[\"Confirmed\"] < (c_df[\"Deaths\"] + c_df[\"Recovered\"])\n",
    "\n",
    "print(error_confirmed.sum())\n",
    "\n",
    "print(c_df[error_confirmed].head())"
   ]
  },
  {
   "cell_type": "markdown",
   "id": "03c21e0f-daa3-42cd-b96b-86f1cbab1565",
   "metadata": {},
   "source": [
    "Negatif verilerin aynı zamanda vaka sayısındaki problemli veriler olduğu görülüyor."
   ]
  },
  {
   "cell_type": "code",
   "execution_count": 28,
   "id": "82971ebc-684e-4312-9361-dd9cd865a1d2",
   "metadata": {},
   "outputs": [
    {
     "name": "stdout",
     "output_type": "stream",
     "text": [
      "14151\n",
      "       Country/Region        Date  Confirmed  Deaths  Recovered  Active  \\\n",
      "49036        Dominica  2020-07-27         18       0         18       0   \n",
      "49037         Grenada  2020-07-27         23       0         23       0   \n",
      "49052  United Kingdom  2020-07-27          3       0          3       0   \n",
      "49053  United Kingdom  2020-07-27          8       1          7       0   \n",
      "49059  United Kingdom  2020-07-27         13       0         13       0   \n",
      "\n",
      "      WHO Region  \n",
      "49036   Americas  \n",
      "49037   Americas  \n",
      "49052     Europe  \n",
      "49053     Europe  \n",
      "49059     Europe  \n"
     ]
    }
   ],
   "source": [
    "# Eşit olanların kontrolü\n",
    "\n",
    "equal_confirmed = c_df[\"Confirmed\"] == (c_df[\"Deaths\"] + c_df[\"Recovered\"])\n",
    "\n",
    "print(equal_confirmed.sum())\n",
    "\n",
    "print(c_df[equal_confirmed].tail())"
   ]
  },
  {
   "cell_type": "code",
   "execution_count": 30,
   "id": "2aea3699-69f3-4ecb-8490-a8a3eeda298f",
   "metadata": {},
   "outputs": [],
   "source": [
    "# Çin için deaths ve aktive 0 olması\n",
    "china_mask = (c_df[\"Country/Region\"] == \"China\") & (c_df[\"Confirmed\"] < c_df[\"Deaths\"] + c_df[\"Recovered\"])\n",
    "\n",
    "c_df.loc[china_mask, [\"Deaths\", \"Active\"]] = 0\n",
    "\n",
    "# Geriye kalan mantıksız satırların silinmesi\n",
    "other_mask = (c_df[\"Country/Region\"] != \"China\") & (c_df[\"Confirmed\"] < c_df[\"Deaths\"] + c_df[\"Recovered\"])\n",
    "\n",
    "c_df = c_df[~other_mask]\n",
    "\n",
    "error_confirmed = c_df[\"Confirmed\"] < (c_df[\"Deaths\"] + c_df[\"Recovered\"])\n",
    "c_df = c_df[~error_confirmed].copy()\n"
   ]
  },
  {
   "cell_type": "code",
   "execution_count": 32,
   "id": "9bae98d9-4c7e-45c2-90e9-b8ddc271b661",
   "metadata": {},
   "outputs": [
    {
     "data": {
      "text/plain": [
       "(49059, 7)"
      ]
     },
     "execution_count": 32,
     "metadata": {},
     "output_type": "execute_result"
    }
   ],
   "source": [
    "c_df.shape"
   ]
  },
  {
   "cell_type": "code",
   "execution_count": 83,
   "id": "be811399-3f18-4132-8764-dc153e58404c",
   "metadata": {},
   "outputs": [
    {
     "name": "stdout",
     "output_type": "stream",
     "text": [
      "Empty DataFrame\n",
      "Columns: [Country/Region, Date, Confirmed, Deaths, Recovered, Active, WHO Region]\n",
      "Index: []\n"
     ]
    }
   ],
   "source": [
    "print(c_df[error_confirmed].head())"
   ]
  },
  {
   "cell_type": "code",
   "execution_count": 34,
   "id": "8db597f2-5ebe-4e07-8fe3-2742fa7a755b",
   "metadata": {},
   "outputs": [],
   "source": [
    "# IQR yöntemi ile aykırı değer kontrolü\n",
    "\n",
    "num_cols = [\"Confirmed\", \"Deaths\", \"Recovered\", \"Active\"]\n",
    "\n",
    "outlier_flags = pd.DataFrame(0, index=c_df.index, columns=num_cols)\n",
    "\n",
    "for col in num_cols:\n",
    "    Q1 = c_df[col].quantile(0.05)  \n",
    "    Q3 = c_df[col].quantile(0.95)\n",
    "    IQR = Q3 - Q1\n",
    "    lower_bound = Q1 - 1.5 * IQR\n",
    "    upper_bound = Q3 + 1.5 * IQR\n",
    "    outlier_flags[col] = ((c_df[col] < lower_bound) | (c_df[col] > upper_bound)).astype(int)\n"
   ]
  },
  {
   "cell_type": "code",
   "execution_count": 36,
   "id": "a7d85310-8934-4165-aaf2-75de999f2d42",
   "metadata": {},
   "outputs": [
    {
     "data": {
      "text/plain": [
       "(2095,)"
      ]
     },
     "execution_count": 36,
     "metadata": {},
     "output_type": "execute_result"
    }
   ],
   "source": [
    "# Aykırı satırlar\n",
    "\n",
    "outlier_indices = outlier_flags[(outlier_flags > 0).any(axis=1)].index\n",
    "outlier_indices.shape"
   ]
  },
  {
   "cell_type": "code",
   "execution_count": 44,
   "id": "95e1afbc-e121-401b-ad9d-b23789ee6ba8",
   "metadata": {},
   "outputs": [
    {
     "name": "stdout",
     "output_type": "stream",
     "text": [
      "      Country/Region        Date  Confirmed  Deaths  Recovered  Active  \\\n",
      "14938          China  2020-03-19      67800    3130      57682    6988   \n",
      "15199          China  2020-03-20      67800    3133      58382    6285   \n",
      "15460          China  2020-03-21      67800    3139      58946    5715   \n",
      "15721          China  2020-03-22      67800    3153      59433    5214   \n",
      "15795          Italy  2020-03-22      59138    5476       7024   46638   \n",
      "\n",
      "            WHO Region  \n",
      "14938  Western Pacific  \n",
      "15199  Western Pacific  \n",
      "15460  Western Pacific  \n",
      "15721  Western Pacific  \n",
      "15795           Europe  \n"
     ]
    }
   ],
   "source": [
    "outlier_rows = c_df.loc[outlier_indices]\n",
    "print(outlier_rows.head())  \n"
   ]
  },
  {
   "cell_type": "markdown",
   "id": "e3794d5e-0197-44f4-97aa-970d90887bb0",
   "metadata": {},
   "source": [
    "İstatistiksel olarak uç (outlier) gibi görünüyor ama veriler epidemiyolojik olarak normal gözükmektedir."
   ]
  },
  {
   "cell_type": "code",
   "execution_count": 47,
   "id": "f6615a28-d488-48a1-b8f3-28bf4e9f4187",
   "metadata": {},
   "outputs": [
    {
     "name": "stdout",
     "output_type": "stream",
     "text": [
      "                WHO Region Country/Region  Confirmed\n",
      "40                  Africa   South Africa     452529\n",
      "80                Americas             US    4290259\n",
      "87   Eastern Mediterranean           Iran     293606\n",
      "148                 Europe         Russia     816680\n",
      "164        South-East Asia          India    1480073\n",
      "182        Western Pacific    Philippines      82040\n"
     ]
    },
    {
     "data": {
      "image/png": "[encoded data removed]",
      "text/plain": [
       "<Figure size 1000x600 with 1 Axes>"
      ]
     },
     "metadata": {},
     "output_type": "display_data"
    }
   ],
   "source": [
    "# Her ülke için maksimum vaka sayısı\n",
    "country_max = c_df.groupby([\"WHO Region\", \"Country/Region\"])[\"Confirmed\"].max().reset_index()\n",
    "\n",
    "# Her WHO Region'dan en çok vakaya sahip ülke\n",
    "top_countries_by_region = country_max.loc[country_max.groupby(\"WHO Region\")[\"Confirmed\"].idxmax()]\n",
    "\n",
    "\n",
    "print(top_countries_by_region[[\"WHO Region\", \"Country/Region\", \"Confirmed\"]])\n",
    "\n",
    "\n",
    "plt.figure(figsize=(10,6))\n",
    "plt.bar(top_countries_by_region[\"WHO Region\"], top_countries_by_region[\"Confirmed\"])\n",
    "plt.title(\"Top Country by Confirmed Cases in Each WHO Region\")\n",
    "plt.xlabel(\"WHO Region\")\n",
    "plt.ylabel(\"Confirmed Cases (million)\")\n",
    "plt.xticks(rotation=15)\n",
    "plt.show()\n"
   ]
  },
  {
   "cell_type": "code",
   "execution_count": 49,
   "id": "e4cc2dcb-9d34-4f57-ae41-87dd5a03f349",
   "metadata": {},
   "outputs": [],
   "source": [
    "# Veri setinde Date değişkeninin tipi object olarak verilmişti. Modelleme öncesi datetime64 tipine dönüştürüldü.  \n",
    "\n",
    "c_df[\"Date\"] = pd.to_datetime(c_df[\"Date\"])\n"
   ]
  },
  {
   "cell_type": "code",
   "execution_count": 64,
   "id": "75a6de9b-546e-46e5-bacf-1dea0b49c02d",
   "metadata": {},
   "outputs": [
    {
     "name": "stdout",
     "output_type": "stream",
     "text": [
      "<class 'pandas.core.frame.DataFrame'>\n",
      "Index: 49059 entries, 0 to 49067\n",
      "Data columns (total 7 columns):\n",
      " #   Column          Non-Null Count  Dtype         \n",
      "---  ------          --------------  -----         \n",
      " 0   Country/Region  49059 non-null  object        \n",
      " 1   Date            49059 non-null  datetime64[ns]\n",
      " 2   Confirmed       49059 non-null  int64         \n",
      " 3   Deaths          49059 non-null  int64         \n",
      " 4   Recovered       49059 non-null  int64         \n",
      " 5   Active          49059 non-null  int64         \n",
      " 6   WHO Region      49059 non-null  object        \n",
      "dtypes: datetime64[ns](1), int64(4), object(2)\n",
      "memory usage: 4.0+ MB\n"
     ]
    }
   ],
   "source": [
    "c_df.info()"
   ]
  },
  {
   "cell_type": "code",
   "execution_count": 66,
   "id": "b90074cc-56de-4a4d-a643-12c10cf7020a",
   "metadata": {},
   "outputs": [
    {
     "name": "stdout",
     "output_type": "stream",
     "text": [
      "[2020]\n"
     ]
    }
   ],
   "source": [
    "print(c_df[\"Date\"].dt.year.unique())\n",
    "#veri setinde sadece 2020 yılına ait veriler varmış"
   ]
  },
  {
   "cell_type": "code",
   "execution_count": 53,
   "id": "0793b67f-6b5f-4723-be90-0af16aa2c74e",
   "metadata": {},
   "outputs": [],
   "source": [
    "# Ülkelere göre haftalık ölüm sayısını tahmin eden model kuracağım."
   ]
  },
  {
   "cell_type": "code",
   "execution_count": 55,
   "id": "0c036088-90d7-49f7-81c3-ff0d46c3b5e4",
   "metadata": {},
   "outputs": [],
   "source": [
    "weekly = c_df.groupby([\n",
    "    c_df[\"Country/Region\"],\n",
    "    c_df[\"Date\"].dt.isocalendar().week\n",
    "]).agg({\n",
    "    \"Confirmed\": \"max\",   #Kümülatif veride  hafta sonundaki toplamı almak için max kullanıldı\n",
    "    \"Deaths\": \"max\",\n",
    "    \"Recovered\": \"max\",    \n",
    "    \"Active\": \"max\",\n",
    "    \"WHO Region\": \"first\"\n",
    "}).reset_index()\n",
    "\n",
    "# Her ülke için, her haftada kaç yeni ölüm gerçekleşti\n",
    "weekly[\"Weekly_Deaths\"] = weekly.groupby(\"Country/Region\")[\"Deaths\"].diff().fillna(weekly[\"Deaths\"])"
   ]
  },
  {
   "cell_type": "code",
   "execution_count": 57,
   "id": "debbc314-4553-4e89-9a52-c163643e60c5",
   "metadata": {},
   "outputs": [],
   "source": [
    "# One Hot Encoded\n",
    "\n",
    "weekly_encoded = pd.get_dummies(\n",
    "    weekly,\n",
    "    columns=[\"Country/Region\", \"WHO Region\"],\n",
    "    drop_first=True\n",
    ")\n"
   ]
  },
  {
   "cell_type": "code",
   "execution_count": 68,
   "id": "2b273598-31bc-4b96-b94c-f4c0ab0cb45b",
   "metadata": {},
   "outputs": [],
   "source": [
    "X = weekly_encoded.drop([\"Deaths\", \"Weekly_Deaths\"], axis=1)\n",
    "y = weekly_encoded[\"Weekly_Deaths\"]"
   ]
  },
  {
   "cell_type": "code",
   "execution_count": 70,
   "id": "4257a699-4988-43b8-af5e-ad3ef98cf53f",
   "metadata": {},
   "outputs": [
    {
     "name": "stdout",
     "output_type": "stream",
     "text": [
      "En iyi parametreler: {'max_depth': 10, 'min_samples_split': 2, 'n_estimators': 100}\n"
     ]
    }
   ],
   "source": [
    "# Tuning\n",
    "\n",
    "from sklearn.model_selection import GridSearchCV, train_test_split\n",
    "from sklearn.ensemble import RandomForestRegressor\n",
    "\n",
    "param_grid = {\n",
    "    \"n_estimators\": [100, 200],\n",
    "    \"max_depth\": [10, None],\n",
    "    \"min_samples_split\": [2, 5]\n",
    "}\n",
    "\n",
    "rf = RandomForestRegressor(random_state=42)\n",
    "grid_search = GridSearchCV(rf, param_grid, cv=3, scoring=\"neg_mean_absolute_error\")\n",
    "grid_search.fit(X, y)\n",
    "\n",
    "print(\"En iyi parametreler:\", grid_search.best_params_)\n"
   ]
  },
  {
   "cell_type": "code",
   "execution_count": 72,
   "id": "17544dc9-bb6e-4fda-a818-0672241cb981",
   "metadata": {},
   "outputs": [
    {
     "name": "stdout",
     "output_type": "stream",
     "text": [
      "MAE: 47.8750948815053\n",
      "R2 Score: 0.8629363051876486\n"
     ]
    }
   ],
   "source": [
    "# Eğitim ve test setini ayıralım \n",
    "\n",
    "from sklearn.model_selection import train_test_split\n",
    "\n",
    "X_train, X_test, y_train, y_test = train_test_split(\n",
    "    X, y, test_size=0.2, random_state=42\n",
    ")\n",
    "\n",
    "# En iyi parametrelerle model kuruldu\n",
    "from sklearn.ensemble import RandomForestRegressor\n",
    "\n",
    "best_rf = RandomForestRegressor(\n",
    "    max_depth=10,\n",
    "    min_samples_split=2,\n",
    "    n_estimators=100,\n",
    "    random_state=42\n",
    ")\n",
    "best_rf.fit(X_train, y_train)\n",
    "\n",
    "# Test setinde tahmin işlemi\n",
    "y_pred = best_rf.predict(X_test)\n",
    "\n",
    "# Metriklerle sonuçlar değerlendirildi\n",
    "from sklearn.metrics import mean_absolute_error, r2_score\n",
    "\n",
    "print(\"MAE:\", mean_absolute_error(y_test, y_pred))\n",
    "print(\"R2 Score:\", r2_score(y_test, y_pred))"
   ]
  },
  {
   "cell_type": "code",
   "execution_count": 77,
   "id": "8b3978eb-84fa-4bd7-a7e0-db1dcb469f4b",
   "metadata": {},
   "outputs": [
    {
     "data": {
      "image/png": "[encoded data removed]",
      "text/plain": [
       "<Figure size 800x500 with 1 Axes>"
      ]
     },
     "metadata": {},
     "output_type": "display_data"
    }
   ],
   "source": [
    "plt.figure(figsize=(8,5))\n",
    "plt.scatter(y_test, y_pred, alpha=0.5)\n",
    "plt.xlabel(\"Actual Weekly Deaths\")       \n",
    "plt.ylabel(\"Predicted Weekly Deaths\")    \n",
    "plt.title(\"Actual vs Predicted Weekly Deaths\")  \n",
    "plt.plot([y_test.min(), y_test.max()], [y_test.min(), y_test.max()], 'r--')\n",
    "plt.show()"
   ]
  },
  {
   "cell_type": "code",
   "execution_count": 85,
   "id": "51fc02a6-d81f-4a71-baa6-554856e29260",
   "metadata": {},
   "outputs": [
    {
     "name": "stdout",
     "output_type": "stream",
     "text": [
      "        Country/Region  week  Confirmed  Deaths  Recovered  Active  \\\n",
      "1312           Czechia    28      13174     352       8247    4575   \n",
      "2192           Iceland    12        568       1         36     531   \n",
      "2501        Kazakhstan    13        284       1         20     263   \n",
      "3667  Papua New Guinea    31         62       0         11      51   \n",
      "4237          Slovakia    13        314       0          7     312   \n",
      "4414             Spain    22     239479   27127     150376   61976   \n",
      "5055         Venezuela    19        414      10        193     211   \n",
      "\n",
      "           WHO Region  Weekly_Deaths  \n",
      "1312           Europe           -1.0  \n",
      "2192           Europe           -4.0  \n",
      "2501           Europe           -2.0  \n",
      "3667  Western Pacific           -1.0  \n",
      "4237           Europe           -1.0  \n",
      "4414           Europe        -1625.0  \n",
      "5055         Americas           -6.0  \n"
     ]
    }
   ],
   "source": [
    "# Haftalık ölüm hesabında kullanılan kümülatif “Deaths” sütununda, bir haftadan diğerine “azalma” (negatif fark) olabilir.\n",
    "\n",
    "print(weekly[weekly[\"Weekly_Deaths\"] < 0])\n"
   ]
  },
  {
   "cell_type": "code",
   "execution_count": 91,
   "id": "1f3d306c-6c5c-4dd3-a786-3a7dbd9d24a0",
   "metadata": {},
   "outputs": [
    {
     "data": {
      "image/png": "[encoded data removed]",
      "text/plain": [
       "<Figure size 800x500 with 1 Axes>"
      ]
     },
     "metadata": {},
     "output_type": "display_data"
    }
   ],
   "source": [
    "# Haftalık ölüm sayısı 0 veya pozitif olanların seçilmesi\n",
    "\n",
    "weekly_clean = weekly[weekly[\"Weekly_Deaths\"] >= 0].reset_index(drop=True)\n",
    "\n",
    "weekly_encoded = pd.get_dummies(\n",
    "    weekly_clean,\n",
    "    columns=[\"Country/Region\", \"WHO Region\"],\n",
    "    drop_first=True\n",
    ")\n",
    "\n",
    "X = weekly_encoded.drop([\"Deaths\", \"Weekly_Deaths\"], axis=1)\n",
    "y = weekly_encoded[\"Weekly_Deaths\"]\n",
    "\n",
    "\n",
    "X_train, X_test, y_train, y_test = train_test_split(\n",
    "    X, y, test_size=0.2, random_state=42\n",
    ")\n",
    "\n",
    "# Yeniden model kurulması\n",
    "\n",
    "best_rf = RandomForestRegressor(\n",
    "    max_depth=10,\n",
    "    min_samples_split=2,\n",
    "    n_estimators=100,\n",
    "    random_state=42\n",
    ")\n",
    "best_rf.fit(X_train, y_train)\n",
    "y_pred = best_rf.predict(X_test)\n",
    "\n",
    "plt.figure(figsize=(8, 5))\n",
    "plt.scatter(y_test, y_pred, alpha=0.5)\n",
    "plt.xlabel(\"Actual Weekly Deaths\")\n",
    "plt.ylabel(\"Predicted Weekly Deaths\")\n",
    "plt.title(\"Actual vs Predicted Weekly Deaths (Cleaned Data)\")\n",
    "plt.plot([y_test.min(), y_test.max()], [y_test.min(), y_test.max()], 'r--')\n",
    "plt.show()"
   ]
  },
  {
   "cell_type": "code",
   "execution_count": 99,
   "id": "ef2bed7c-ccb1-42b0-8792-63986bc47917",
   "metadata": {},
   "outputs": [
    {
     "name": "stdout",
     "output_type": "stream",
     "text": [
      "0\n"
     ]
    }
   ],
   "source": [
    "print((weekly_clean[\"Weekly_Deaths\"] < 0).sum())\n",
    "\n"
   ]
  },
  {
   "cell_type": "code",
   "execution_count": 101,
   "id": "2f485a90-33d1-4088-abe4-ddcfd27bba7c",
   "metadata": {},
   "outputs": [
    {
     "name": "stdout",
     "output_type": "stream",
     "text": [
      "MAE (Cleaned): 40.88926055823892\n",
      "R2 (Cleaned): 0.8272893396750253\n"
     ]
    }
   ],
   "source": [
    "mae_clean = mean_absolute_error(y_test, y_pred)\n",
    "r2_clean = r2_score(y_test, y_pred)\n",
    "print(\"MAE (Cleaned):\", mae_clean)\n",
    "print(\"R2 (Cleaned):\", r2_clean)\n"
   ]
  },
  {
   "cell_type": "markdown",
   "id": "f10f0126-9668-4510-9f67-f7d19db17a5c",
   "metadata": {},
   "source": [
    "\n",
    "ilk oluşturduğum modelde (Negatif haftalık ölüm kayıtları içeren model),  MAE (Mean Absolute Error) yaklaşık 48, R² skoru ise 0.86 olarak gerçekleşmiştir. Ancak, veri setinden negatif haftalık ölüm değerleri temizlendikten sonra model yeniden eğitilmiş ve test edilmiştir. Temizlenmiş veriyle yapılan analizde MAE yaklaşık 41'e gerilerken, R² skoru 0.83’e düşmüştür. Bu durum, negatif değerlerin modelde hata skorlarını nispeten olumlu yönde etkilediğini, ancak veri bütünlüğü açısından bu değerlerin çıkarılmasının daha gerçekçi ve güvenilir sonuçlar verdiğini göstermiştir. Sonuç olarak, gerçekçi ve mantıklı tahminler için veri temizliğinden sonra elde edilen skorlar daha anlamlıdır.\n",
    "\n"
   ]
  },
  {
   "cell_type": "code",
   "execution_count": null,
   "id": "712b3ccc-316d-4eb5-9168-7af12af45d16",
   "metadata": {},
   "outputs": [],
   "source": []
  }
 ],
 "metadata": {
  "kernelspec": {
   "display_name": "Python 3 (ipykernel)",
   "language": "python",
   "name": "python3"
  },
  "language_info": {
   "codemirror_mode": {
    "name": "ipython",
    "version": 3
   },
   "file_extension": ".py",
   "mimetype": "text/x-python",
   "name": "python",
   "nbconvert_exporter": "python",
   "pygments_lexer": "ipython3",
   "version": "3.12.4"
  }
 },
 "nbformat": 4,
 "nbformat_minor": 5
}
