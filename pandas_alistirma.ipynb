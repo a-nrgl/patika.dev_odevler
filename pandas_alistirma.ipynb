{
 "cells": [
  {
   "cell_type": "code",
   "execution_count": 3,
   "id": "3339cbb5-70b4-45c0-8a25-0fe2b53632ae",
   "metadata": {},
   "outputs": [],
   "source": [
    "import numpy as np\n",
    "import pandas as pd\n",
    "import seaborn as sns\n"
   ]
  },
  {
   "cell_type": "code",
   "execution_count": 4,
   "id": "8330a475-34c4-4830-ab00-99e86b853de5",
   "metadata": {},
   "outputs": [],
   "source": [
    "df = sns.load_dataset(\"titanic\")\n"
   ]
  },
  {
   "cell_type": "code",
   "execution_count": 17,
   "id": "37e8c3ae-8bd2-45a7-842a-8cb3f40c3fba",
   "metadata": {},
   "outputs": [],
   "source": [
    "# Soru 1) Kazada ölenlerin yaş ortalamasını bulunuz.  Not: Sorularda çok fazla ortalama ve medyan istendiği için bir fonksiyon yazma kararı aldım.\n",
    "\n",
    "\n",
    "def ortalama_hesapla(df, kosul, degisken):\n",
    "    \n",
    "    kosullu_df = df[kosul]\n",
    "    \n",
    "    ortalama =  kosullu_df[degisken].mean()\n",
    "    medyan = kosullu_df[degisken].median()\n",
    "    return ortalama, medyan\n"
   ]
  },
  {
   "cell_type": "code",
   "execution_count": 25,
   "id": "74a01fb8-f6ad-4b78-942a-9e872c8640f6",
   "metadata": {},
   "outputs": [
    {
     "name": "stdout",
     "output_type": "stream",
     "text": [
      "Kazada ölenlerin yaş ortalaması: 30.62617924528302\n"
     ]
    }
   ],
   "source": [
    " ort, _ = ortalama_hesapla(df, df[\"survived\"] == 0, \"age\")\n",
    "#sadece ortalama \n",
    "print(\"Kazada ölenlerin yaş ortalaması:\",ort)"
   ]
  },
  {
   "cell_type": "code",
   "execution_count": 27,
   "id": "4172dc5c-c25b-4efe-81f2-39a7d8ef8418",
   "metadata": {},
   "outputs": [
    {
     "name": "stdout",
     "output_type": "stream",
     "text": [
      "Kazada ölenlerin bilet fiyatlarının ortalaması: 22.117886885245902\n",
      "Kazada ölenlerin bilet fiyatlarının medyanı: 10.5\n"
     ]
    }
   ],
   "source": [
    "# Soru 2) Kazada ölenlerin bilet fiyatlarının ortalamasını ve medyanını bulunuz.\n",
    "\n",
    "ort, med = ortalama_hesapla(df, df[\"survived\"] == 0, \"fare\")\n",
    "\n",
    "print(\"Kazada ölenlerin bilet fiyatlarının ortalaması:\", ort)\n",
    "\n",
    "print(\"Kazada ölenlerin bilet fiyatlarının medyanı:\", med)\n",
    "\n"
   ]
  },
  {
   "cell_type": "code",
   "execution_count": 35,
   "id": "e3b77d3c-9a05-4db6-976c-54af3a88bdac",
   "metadata": {},
   "outputs": [
    {
     "name": "stdout",
     "output_type": "stream",
     "text": [
      "Kazada ölen erkeklerin yaş ortalaması: 31.618055555555557\n"
     ]
    }
   ],
   "source": [
    "# Soru 3) Kazada ölen erkeklerin yaş ortalamasını bulunuz\n",
    "\n",
    "ort, _ = ortalama_hesapla(df, (df[\"survived\"] == 0) & (df[\"sex\"] == \"male\")  ,\"age\")\n",
    "\n",
    "print(\"Kazada ölen erkeklerin yaş ortalaması:\",ort)\n",
    "\n"
   ]
  },
  {
   "cell_type": "code",
   "execution_count": 37,
   "id": "00671976-8ed6-4b7a-8b4e-c6f3aab78c4a",
   "metadata": {},
   "outputs": [
    {
     "name": "stdout",
     "output_type": "stream",
     "text": [
      "Kazada ölen Kadınların yaş ortalaması: 25.046875\n"
     ]
    }
   ],
   "source": [
    "# Soru 4) Kazada ölen Kadınların yaş ortalamasını bulunuz\n",
    "\n",
    "ort, _ = ortalama_hesapla(df, (df[\"survived\"] == 0) & (df[\"sex\"] == \"female\")  ,\"age\")\n",
    "\n",
    "print(\"Kazada ölen Kadınların yaş ortalaması:\", ort)"
   ]
  },
  {
   "cell_type": "code",
   "execution_count": 39,
   "id": "939a95b0-2a44-4faa-b956-9504dbe4ff42",
   "metadata": {},
   "outputs": [
    {
     "name": "stdout",
     "output_type": "stream",
     "text": [
      "Kazadan kurtulanların yaş ortalaması: 28.343689655172415\n"
     ]
    }
   ],
   "source": [
    "# Soru 5) Kazadan kurtulanların yaş ortalamasını bulunuz\n",
    "\n",
    "ort, _ = ortalama_hesapla(df, df[\"survived\"] == 1, \"age\")\n",
    "\n",
    "print(\"Kazadan kurtulanların yaş ortalaması:\", ort)"
   ]
  },
  {
   "cell_type": "code",
   "execution_count": 43,
   "id": "ae3a87cf-dcca-4861-94d2-7c302be05687",
   "metadata": {},
   "outputs": [
    {
     "name": "stdout",
     "output_type": "stream",
     "text": [
      "Kazadan kurtulanların bilet fiyatlarının ortalaması: 48.39540760233918\n"
     ]
    }
   ],
   "source": [
    "#Soru 6) Kazadan kurtulanların bilet fiyatlarının ortalamasını bulunuz\n",
    "\n",
    "ort, _ = ortalama_hesapla(df, df[\"survived\"] == 1, \"fare\")\n",
    "\n",
    "print(\"Kazadan kurtulanların bilet fiyatlarının ortalaması:\", ort)"
   ]
  },
  {
   "cell_type": "code",
   "execution_count": 47,
   "id": "fad98eea-fe7b-487d-8354-3cb005bc127a",
   "metadata": {},
   "outputs": [
    {
     "name": "stdout",
     "output_type": "stream",
     "text": [
      "Kazadan kurtulan toplam kişi sayısı: 342\n"
     ]
    }
   ],
   "source": [
    "#Soru 7) Kazadan kurtulan toplam kişi sayısını bulunuz\n",
    "\n",
    "kurtulan_toplam = (df[\"survived\"] == 1).sum()\n",
    "\n",
    "print(\"Kazadan kurtulan toplam kişi sayısı:\", kurtulan_toplam)\n"
   ]
  },
  {
   "cell_type": "code",
   "execution_count": 55,
   "id": "458c6c89-f02c-4662-8121-24ddee377107",
   "metadata": {},
   "outputs": [
    {
     "name": "stdout",
     "output_type": "stream",
     "text": [
      "10 yaşından küçüklerin bilet fiyatlarının medyanı: 27.0\n"
     ]
    }
   ],
   "source": [
    "# Soru 8)  10 yaşından küçüklerin bilet fiyatlarının medyan değerini bulunuz\n",
    "\n",
    "_ ,med = ortalama_hesapla (df, df[\"age\"] < 10, \"fare\")\n",
    "#sadece medyan\n",
    "\n",
    "print(\"10 yaşından küçüklerin bilet fiyatlarının medyanı:\", med)"
   ]
  },
  {
   "cell_type": "code",
   "execution_count": 59,
   "id": "66f07a9f-e8db-4361-915f-a7ff54bffb12",
   "metadata": {},
   "outputs": [
    {
     "data": {
      "text/html": [
       "<div>\n",
       "<style scoped>\n",
       "    .dataframe tbody tr th:only-of-type {\n",
       "        vertical-align: middle;\n",
       "    }\n",
       "\n",
       "    .dataframe tbody tr th {\n",
       "        vertical-align: top;\n",
       "    }\n",
       "\n",
       "    .dataframe thead th {\n",
       "        text-align: right;\n",
       "    }\n",
       "</style>\n",
       "<table border=\"1\" class=\"dataframe\">\n",
       "  <thead>\n",
       "    <tr style=\"text-align: right;\">\n",
       "      <th></th>\n",
       "      <th>mean</th>\n",
       "      <th>median</th>\n",
       "    </tr>\n",
       "    <tr>\n",
       "      <th>pclass</th>\n",
       "      <th></th>\n",
       "      <th></th>\n",
       "    </tr>\n",
       "  </thead>\n",
       "  <tbody>\n",
       "    <tr>\n",
       "      <th>1</th>\n",
       "      <td>84.154687</td>\n",
       "      <td>60.2875</td>\n",
       "    </tr>\n",
       "    <tr>\n",
       "      <th>2</th>\n",
       "      <td>20.662183</td>\n",
       "      <td>14.2500</td>\n",
       "    </tr>\n",
       "    <tr>\n",
       "      <th>3</th>\n",
       "      <td>13.675550</td>\n",
       "      <td>8.0500</td>\n",
       "    </tr>\n",
       "  </tbody>\n",
       "</table>\n",
       "</div>"
      ],
      "text/plain": [
       "             mean   median\n",
       "pclass                    \n",
       "1       84.154687  60.2875\n",
       "2       20.662183  14.2500\n",
       "3       13.675550   8.0500"
      ]
     },
     "execution_count": 59,
     "metadata": {},
     "output_type": "execute_result"
    }
   ],
   "source": [
    "# Soru 9)  1.sınıf, 2.sınıf ve 3.sınıf bilet fiyatlarının ortalama ve medyanlarını karşılaştırınız. \n",
    "\n",
    "df.groupby(\"pclass\")[\"fare\"].agg([\"mean\", \"median\"])\n"
   ]
  },
  {
   "cell_type": "code",
   "execution_count": 65,
   "id": "9b08c558-40c8-43af-ade5-8ae6cf32342e",
   "metadata": {},
   "outputs": [
    {
     "name": "stdout",
     "output_type": "stream",
     "text": [
      "Kazada ölen kadınların oranı: 0.14754098360655737\n",
      "Kazada ölen erkeklerin oranı: 0.8524590163934426\n"
     ]
    }
   ],
   "source": [
    "# Soru 10) Kazada ölen kadınların oranı ile erkeklerin oranını karşılaştırınız.\n",
    "\n",
    "olenler = df[df[\"survived\"] == 0]\n",
    "\n",
    "oranlar = olenler.groupby(\"sex\").size() / len(olenler)\n",
    "\n",
    "print(\"Kazada ölen kadınların oranı:\", oranlar[\"female\"])\n",
    "\n",
    "print(\"Kazada ölen erkeklerin oranı:\", oranlar[\"male\"])\n"
   ]
  },
  {
   "cell_type": "code",
   "execution_count": null,
   "id": "f35a65c7-a01a-4cb9-9c3e-12f45c7ef4d7",
   "metadata": {},
   "outputs": [],
   "source": []
  }
 ],
 "metadata": {
  "kernelspec": {
   "display_name": "Python 3 (ipykernel)",
   "language": "python",
   "name": "python3"
  },
  "language_info": {
   "codemirror_mode": {
    "name": "ipython",
    "version": 3
   },
   "file_extension": ".py",
   "mimetype": "text/x-python",
   "name": "python",
   "nbconvert_exporter": "python",
   "pygments_lexer": "ipython3",
   "version": "3.12.4"
  }
 },
 "nbformat": 4,
 "nbformat_minor": 5
}
