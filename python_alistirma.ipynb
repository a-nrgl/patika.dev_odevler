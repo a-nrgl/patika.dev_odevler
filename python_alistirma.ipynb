{
 "cells": [
  {
   "cell_type": "code",
   "execution_count": 25,
   "id": "88930478-8947-4dfc-9c01-2694e02c92ba",
   "metadata": {},
   "outputs": [
    {
     "name": "stdin",
     "output_type": "stream",
     "text": [
      "bir sayı gir: -8\n"
     ]
    },
    {
     "name": "stdout",
     "output_type": "stream",
     "text": [
      "-8 negatif bir sayıdır\n"
     ]
    }
   ],
   "source": [
    "# girilen sayının pozitif, negatif veya sıfır olduğunu yazan koşul\n",
    "\n",
    "sayı= int(input(\"bir sayı gir:\"))\n",
    "\n",
    "if sayı >0:\n",
    "   print(sayı,\"pozitif bir sayıdır\")\n",
    "elif sayı<0: \n",
    "    print(sayı,\"negatif bir sayıdır\")\n",
    "else: \n",
    "    print(sayı, \"sıfırdır\")\n"
   ]
  },
  {
   "cell_type": "code",
   "execution_count": 33,
   "id": "15597f35-fb23-4696-9ba3-d27eea714e86",
   "metadata": {},
   "outputs": [
    {
     "name": "stdin",
     "output_type": "stream",
     "text": [
      "bir sayı gir 9\n"
     ]
    },
    {
     "name": "stdout",
     "output_type": "stream",
     "text": [
      "9 tek sayıdır\n"
     ]
    }
   ],
   "source": [
    "# girilen sayının tek/çift sayı olduğunu söyleyen koşul\n",
    "\n",
    "sayı= int(input(\"bir sayı gir\"))\n",
    "if sayı % 2== 0:\n",
    "    print(sayı,\"çift sayıdır\")\n",
    "else:  \n",
    "    print(sayı,\"tek sayıdır\")   "
   ]
  },
  {
   "cell_type": "code",
   "execution_count": null,
   "id": "dcfc6709-9b84-40b3-b4ce-5b1958e32d43",
   "metadata": {},
   "outputs": [],
   "source": []
  },
  {
   "cell_type": "code",
   "execution_count": 57,
   "id": "c1688906-a406-4abe-b130-6b33298a3ec4",
   "metadata": {},
   "outputs": [
    {
     "name": "stdin",
     "output_type": "stream",
     "text": [
      "sınav puanı giriniz 87\n"
     ]
    },
    {
     "name": "stdout",
     "output_type": "stream",
     "text": [
      "Harf notuz: A\n"
     ]
    }
   ],
   "source": [
    "# girilen nota göre harf aralığını yazan koşul\n",
    "\n",
    "puan= int(input(\"sınav puanı giriniz\"))\n",
    "\n",
    "\n",
    "if 85 <= puan <= 100:\n",
    "    print(\"Harf notuz: A\")\n",
    "elif 70 <= puan <= 84:\n",
    "    print(\"Harf notuz: B\")\n",
    "elif 50 <= puan <= 69:\n",
    "    print(\"Harf notuz: C\")\n",
    "else:\n",
    "    print(\"Harf notuz: F\")\n"
   ]
  },
  {
   "cell_type": "code",
   "execution_count": 65,
   "id": "28085850-b474-4d21-a680-e43df56df102",
   "metadata": {},
   "outputs": [
    {
     "name": "stdin",
     "output_type": "stream",
     "text": [
      "isminizi girin: zeynep\n"
     ]
    },
    {
     "name": "stdout",
     "output_type": "stream",
     "text": [
      "uzun bir isminiz var\n"
     ]
    }
   ],
   "source": [
    "# girilen ismin karakter sayısı 5'den büyükse \"uzun bir isminiz var\" değilse ismini yazsın\n",
    "\n",
    "isim= input(\"isminizi girin:\")\n",
    "\n",
    "if len(isim) > 5: \n",
    "   print(\"uzun bir isminiz var\")\n",
    "else:\n",
    "    print(isim)"
   ]
  },
  {
   "cell_type": "code",
   "execution_count": null,
   "id": "a5d1924d-4485-4ebe-ab90-ab582dbcca27",
   "metadata": {},
   "outputs": [],
   "source": []
  },
  {
   "cell_type": "code",
   "execution_count": 110,
   "id": "75e701a5-14d4-48cb-963a-a3a5adf196ca",
   "metadata": {},
   "outputs": [
    {
     "name": "stdin",
     "output_type": "stream",
     "text": [
      "sayı giriniz: 7\n"
     ]
    },
    {
     "name": "stdout",
     "output_type": "stream",
     "text": [
      "asal\n"
     ]
    }
   ],
   "source": [
    "# girilen sayının asal olup olmadığı bulan kod dizisi (for ve while)\n",
    "\n",
    "sayı = int(input(\"sayı giriniz:\"))\n",
    "\n",
    "if sayı < 2:\n",
    "    print(\"asal değil\")\n",
    "else:\n",
    "    i = 2\n",
    "    while i < sayı:\n",
    "        if sayı % i == 0:\n",
    "            print(\"asal değil\")\n",
    "            break\n",
    "        i += 1\n",
    "    else:\n",
    "        print(\"asal\")\n"
   ]
  },
  {
   "cell_type": "code",
   "execution_count": 108,
   "id": "cd8bb761-8f3a-4755-a644-66ea7a0de81f",
   "metadata": {},
   "outputs": [
    {
     "name": "stdin",
     "output_type": "stream",
     "text": [
      "sayı giriniz:  9\n"
     ]
    },
    {
     "name": "stdout",
     "output_type": "stream",
     "text": [
      "asal değil\n"
     ]
    }
   ],
   "source": [
    "# for döngüsü ile\n",
    "\n",
    "sayı = int(input(\"sayı giriniz: \"))\n",
    "\n",
    "if sayı < 2:\n",
    "    print(\"asal değil\")\n",
    "else:\n",
    "    for i in range(2, sayı):\n",
    "        if sayı % i == 0:\n",
    "            print(\"asal değil\")\n",
    "            break  \n",
    "    else:\n",
    "        print(\"asal\")\n"
   ]
  },
  {
   "cell_type": "code",
   "execution_count": null,
   "id": "ce6b033e-f5dc-4864-ae97-3ebab95c6227",
   "metadata": {},
   "outputs": [],
   "source": []
  },
  {
   "cell_type": "code",
   "execution_count": 146,
   "id": "8b222e31-cc79-446a-b816-722996afa39a",
   "metadata": {},
   "outputs": [
    {
     "name": "stdout",
     "output_type": "stream",
     "text": [
      "45\n",
      "85\n",
      "75\n",
      "75'in indisi: 2\n",
      "50\n"
     ]
    }
   ],
   "source": [
    "# notlar=[45,85,75,50] içinde 75 değerinin indisini yazdıran döngü\n",
    "\n",
    "\n",
    "notlar = [45, 85, 75, 50] \n",
    "\n",
    "for i in notlar:\n",
    "    print(i)  \n",
    "    if i == 75:\n",
    "        print(\"75'in indisi:\", notlar.index(75))\n",
    "\n",
    "\n",
    "\n",
    "  "
   ]
  },
  {
   "cell_type": "code",
   "execution_count": null,
   "id": "2c3959c0-0631-45df-b797-a60d927548e1",
   "metadata": {},
   "outputs": [],
   "source": []
  },
  {
   "cell_type": "code",
   "execution_count": 83,
   "id": "e9bd7895-2df1-49a7-bb91-2115c6b90d25",
   "metadata": {},
   "outputs": [
    {
     "name": "stdin",
     "output_type": "stream",
     "text": [
      "bir sayı giriniz:  3\n"
     ]
    },
    {
     "name": "stdout",
     "output_type": "stream",
     "text": [
      "faktöriyeli: 6\n"
     ]
    }
   ],
   "source": [
    "# girilen sayının faktöriyelini alalım (for ve while)\n",
    "\n",
    "n = int(input(\"bir sayı giriniz: \"))\n",
    "faktoriyel = 1\n",
    "\n",
    "for i in range(n, 0, -1):  \n",
    "    faktoriyel *= i\n",
    "\n",
    "print(\"faktöriyeli:\", faktoriyel)\n"
   ]
  },
  {
   "cell_type": "code",
   "execution_count": 175,
   "id": "e4f4f40a-9572-4d2f-a6b1-b024e30019ac",
   "metadata": {},
   "outputs": [
    {
     "name": "stdin",
     "output_type": "stream",
     "text": [
      "bir sayı giriniz:  3\n"
     ]
    },
    {
     "name": "stdout",
     "output_type": "stream",
     "text": [
      "faktöriyel: 6\n"
     ]
    }
   ],
   "source": [
    "# while ile \n",
    "\n",
    "n = int(input(\"bir sayı giriniz: \"))\n",
    "faktoriyel = 1\n",
    "\n",
    "while n > 1:\n",
    "    faktoriyel *= n\n",
    "    n -= 1\n",
    "\n",
    "print(\"faktöriyel:\", faktoriyel)\n"
   ]
  },
  {
   "cell_type": "code",
   "execution_count": null,
   "id": "d7b27a4e-dbda-46a0-95e6-d58b70e1f077",
   "metadata": {},
   "outputs": [],
   "source": []
  },
  {
   "cell_type": "code",
   "execution_count": 187,
   "id": "4a0e27fe-0469-4ede-925c-ea75eb92daed",
   "metadata": {},
   "outputs": [
    {
     "name": "stdin",
     "output_type": "stream",
     "text": [
      "bir sayı giriniz:  -7\n"
     ]
    },
    {
     "name": "stdout",
     "output_type": "stream",
     "text": [
      "Negatif sayı girdiniz, tekrar deneyin.\n"
     ]
    },
    {
     "name": "stdin",
     "output_type": "stream",
     "text": [
      "bir sayı giriniz:  -1\n"
     ]
    },
    {
     "name": "stdout",
     "output_type": "stream",
     "text": [
      "Negatif sayı girdiniz, tekrar deneyin.\n"
     ]
    },
    {
     "name": "stdin",
     "output_type": "stream",
     "text": [
      "bir sayı giriniz:  0\n"
     ]
    },
    {
     "name": "stdout",
     "output_type": "stream",
     "text": [
      "girdiğiniz sayı 1'den büyük olmalı, tekrar deneyin \n"
     ]
    },
    {
     "name": "stdin",
     "output_type": "stream",
     "text": [
      "bir sayı giriniz:  6\n"
     ]
    },
    {
     "name": "stdout",
     "output_type": "stream",
     "text": [
      "pozitif sayı 6\n"
     ]
    }
   ],
   "source": [
    "#kullanıcıdan pozitif bir sayı bekleyen, pozitifi de gördüğü an bastıran, negatif sayı girdikçe bir daha soran yapı (for ile)\n",
    "\n",
    "for sayi in range(15):\n",
    "    sayi= int(input(\"bir sayı giriniz: \"))\n",
    "    if sayi > 0:\n",
    "        print(\"pozitif sayı\", sayi)\n",
    "        break\n",
    "    \n",
    "    elif sayi==0:\n",
    "        print(\"girdiğiniz sayı 1'den büyük olmalı, tekrar deneyin \") \n",
    "    else:\n",
    "        print(\"Negatif sayı girdiniz, tekrar deneyin.\")\n",
    "else:\n",
    "    print(\"15 kez denediniz, program sonlandı.\")\n"
   ]
  },
  {
   "cell_type": "code",
   "execution_count": 197,
   "id": "db5c7437-f6ec-4fe4-bae3-2bc8398179aa",
   "metadata": {},
   "outputs": [
    {
     "name": "stdin",
     "output_type": "stream",
     "text": [
      "bir sayı giriniz:  5\n",
      "ikinci bir sayı giriniz: 2\n"
     ]
    },
    {
     "name": "stdout",
     "output_type": "stream",
     "text": [
      "5 ^ 2 = 25\n"
     ]
    }
   ],
   "source": [
    " #kullanıcıdan 2 sayı istenicek. Verilen 2. sayı 1. sayının kuvveti şeklinde yazılacak.\n",
    "\n",
    "sayi1= int(input(\"bir sayı giriniz: \"))\n",
    "sayi2= int(input(\"ikinci bir sayı giriniz:\"))\n",
    "\n",
    " print (sayi1,\"^\",sayi2,\"=\",sayi1**sayi2)"
   ]
  },
  {
   "cell_type": "code",
   "execution_count": 201,
   "id": "1948df06-1ebb-4cf7-a959-02847f67c87f",
   "metadata": {},
   "outputs": [
    {
     "name": "stdout",
     "output_type": "stream",
     "text": [
      "100'ün indisi: 12\n"
     ]
    }
   ],
   "source": [
    "# listeki 100 değerinin listede kaçıncı indiste olduğunu bulan döngü (while - for)\n",
    "\n",
    "sayilar= [2,25,3,44,77,67,54,90,6,1,0,27,100,35,63,56]\n",
    "\n",
    "for index, i in enumerate (sayilar):\n",
    "    if i==100:\n",
    "     print(\"100'ün indisi:\", sayilar.index(100))\n"
   ]
  },
  {
   "cell_type": "code",
   "execution_count": 215,
   "id": "e038df94-6531-4fa0-8f01-67ba20d89785",
   "metadata": {},
   "outputs": [
    {
     "name": "stdout",
     "output_type": "stream",
     "text": [
      "100 sayısı 12 'inci indekste bulunuyor.\n"
     ]
    }
   ],
   "source": [
    "# while ile\n",
    "\n",
    "sayilar= [2,25,3,44,77,67,54,90,6,1,0,27,100,35,63,56]\n",
    "index = 0\n",
    "\n",
    "while index < len(sayilar):\n",
    "    if sayilar[index] == 100:\n",
    "        print(\"100 sayısı\", index,\"'inci indekste bulunuyor.\")\n",
    "        break\n",
    "    index += 1\n"
   ]
  },
  {
   "cell_type": "code",
   "execution_count": 67,
   "id": "a9f52f29-1229-4b90-9db0-fc7713771796",
   "metadata": {},
   "outputs": [
    {
     "name": "stdin",
     "output_type": "stream",
     "text": [
      "sayı giriniz:  11\n"
     ]
    },
    {
     "name": "stdout",
     "output_type": "stream",
     "text": [
      "asal\n"
     ]
    }
   ],
   "source": [
    "# fonksiyon ile girilen sayının asal olup olmadığını bulan kod dizisi (for ve while)\n",
    "\n",
    "def check_asal(sayı):\n",
    "    if sayı < 2:\n",
    "        print(\"asal değil\")\n",
    "    else:\n",
    "        for i in range(2, sayı):\n",
    "            if sayı % i == 0:\n",
    "                print(\"asal değil\")\n",
    "                break\n",
    "        else:\n",
    "            print(\"asal\")\n",
    "\n",
    "\n",
    "sayı = int(input(\"sayı giriniz: \"))\n",
    "check_asal(sayı)\n"
   ]
  },
  {
   "cell_type": "code",
   "execution_count": 65,
   "id": "09020c16-9462-4b5f-aaab-877a6b25d005",
   "metadata": {},
   "outputs": [
    {
     "name": "stdin",
     "output_type": "stream",
     "text": [
      "sayı giriniz:  6\n"
     ]
    },
    {
     "name": "stdout",
     "output_type": "stream",
     "text": [
      "asal değil\n"
     ]
    }
   ],
   "source": [
    "# while ile\n",
    "\n",
    "def check_asal(sayı):\n",
    "    if sayı < 2:\n",
    "        print(\"asal değil\")\n",
    "    else:\n",
    "        for i in range(2, sayı):\n",
    "            if sayı % i == 0:\n",
    "                print(\"asal değil\")\n",
    "                break\n",
    "        else:\n",
    "            print(\"asal\")\n",
    "\n",
    "sayı = int(input(\"sayı giriniz: \"))\n",
    "check_asal(sayı)\n",
    "\n"
   ]
  },
  {
   "cell_type": "code",
   "execution_count": null,
   "id": "30da489b-d3fc-4701-9290-d58cfc0bf657",
   "metadata": {},
   "outputs": [],
   "source": []
  },
  {
   "cell_type": "code",
   "execution_count": 79,
   "id": "687e54a8-0555-43b1-8363-d78589fcb195",
   "metadata": {},
   "outputs": [
    {
     "name": "stdin",
     "output_type": "stream",
     "text": [
      "bir sayı giriniz:  5\n"
     ]
    },
    {
     "name": "stdout",
     "output_type": "stream",
     "text": [
      "faktöriyeli: 120\n"
     ]
    }
   ],
   "source": [
    "# fonksiyon ile girilen sayının faktöriyeli alalım (for ve while)\n",
    "\n",
    "def faktoriyel(n):\n",
    "    f= 1\n",
    "    for i in range(n, 0, -1):\n",
    "        f*= i\n",
    "    print(\"faktöriyeli:\", f)\n",
    "\n",
    "n = int(input(\"bir sayı giriniz: \"))\n",
    "faktoriyel(n)\n",
    "\n"
   ]
  },
  {
   "cell_type": "code",
   "execution_count": 81,
   "id": "7a3f4160-5fe7-41b0-83c1-0279a2024b67",
   "metadata": {},
   "outputs": [
    {
     "name": "stdin",
     "output_type": "stream",
     "text": [
      "bir sayı giriniz:  0\n"
     ]
    },
    {
     "name": "stdout",
     "output_type": "stream",
     "text": [
      "faktöriyeli: 1\n"
     ]
    }
   ],
   "source": [
    "# while\n",
    "\n",
    "def faktoriyel(n):\n",
    "    f= 1\n",
    "    while n > 1:\n",
    "        f *= n\n",
    "        n -= 1\n",
    "    print(\"faktöriyeli:\", f)\n",
    "\n",
    "n = int(input(\"bir sayı giriniz: \"))\n",
    "faktoriyel(n)"
   ]
  }
 ],
 "metadata": {
  "kernelspec": {
   "display_name": "Python 3 (ipykernel)",
   "language": "python",
   "name": "python3"
  },
  "language_info": {
   "codemirror_mode": {
    "name": "ipython",
    "version": 3
   },
   "file_extension": ".py",
   "mimetype": "text/x-python",
   "name": "python",
   "nbconvert_exporter": "python",
   "pygments_lexer": "ipython3",
   "version": "3.12.4"
  }
 },
 "nbformat": 4,
 "nbformat_minor": 5
}
